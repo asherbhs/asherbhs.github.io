{
 "cells": [
  {
   "cell_type": "markdown",
   "id": "4226ab3a",
   "metadata": {},
   "source": [
    "todo:\n",
    "\n",
    "- least squares?"
   ]
  },
  {
   "cell_type": "markdown",
   "id": "34dbf658",
   "metadata": {},
   "source": [
    "This notebook assumes you have a basic knowledge of matrix algebra that you get from A-Level maths."
   ]
  },
  {
   "cell_type": "markdown",
   "id": "e9e01ae8",
   "metadata": {},
   "source": [
    "## Gaussian Operations"
   ]
  },
  {
   "cell_type": "markdown",
   "id": "dad7f936",
   "metadata": {},
   "source": [
    "A linear system is a set of linear equations, often $n$ equations in terms of $n$ variables.\n",
    "\n",
    "$$\n",
    "\\begin{alignat}{3}\n",
    "       & -7y && -4z && =2  \\\\\n",
    "    2x & +4y && +6z && =12 \\\\\n",
    "    3x & +y  && -z  && =-2\n",
    "\\end{alignat}\n",
    "$$\n",
    "\n",
    "It's important to be able to solve for $x$, $y$ and $z$ which satisfy all of these equations. To do this, we're going to put the coefficients and constants here into a matrix which we can manipulate.\n",
    "\n",
    "$$\n",
    "\\left[\\begin{array}{ccc|c}\n",
    "    0 & -7 & -4 & 2  \\\\\n",
    "    2 &  4 &  6 & 12 \\\\\n",
    "    3 &  1 & -1 & -2\n",
    "\\end{array}\\right]\n",
    "$$\n",
    "\n",
    "This is called the *augmented* matrix of the linear system. The vertical bar is just cosmetic.\n",
    "\n",
    "There are three kinds of operations we can perform on this matrix without changing the solution to the linear system it represents:\n",
    "\n",
    "1. multiplying a row by a scalar value\n",
    "2. swapping two rows\n",
    "3. adding a multiple of one row to another\n",
    "\n",
    "These are called *Gaussian operations*."
   ]
  },
  {
   "cell_type": "code",
   "execution_count": 173,
   "id": "4435a80f",
   "metadata": {},
   "outputs": [
    {
     "data": {
      "text/html": [
       "<pre class=\"language-APL\">1  2   3   6\n",
       "0 ¯7  ¯4   2\n",
       "0 ¯5 ¯10 ¯20\n",
       "</pre>"
      ]
     },
     "execution_count": 173,
     "metadata": {},
     "output_type": "execute_result"
    }
   ],
   "source": [
    "⍝ augmented matrix\n",
    "m←↑(0 ¯7 ¯4 2)(2 4 6 12)(3 1 ¯1 ¯2)\n",
    "\n",
    "m[1 2;]←m[2 1;]  ⍝ swap row 1 and row 2\n",
    "m[1;]÷←2         ⍝ scale row 1 by 0.5\n",
    "m[3;]+←¯3×m[1;]  ⍝ add ¯3 times row 1 to row 3\n",
    "m"
   ]
  },
  {
   "cell_type": "markdown",
   "id": "327fd9b9",
   "metadata": {},
   "source": [
    "A matrix is in *row echelon form* when the first nonzero element of each row is to the right of the first nonzero element in the row above. It is in *reduced* row echelon form when the first nonzero element of each row is a $1$. We can use Gaussian operations to reduce an augmented matrix to reduced row echelon form (RREF)."
   ]
  },
  {
   "cell_type": "code",
   "execution_count": 172,
   "id": "6e0de379",
   "metadata": {},
   "outputs": [
    {
     "data": {
      "text/html": [
       "<pre class=\"language-APL\">1 0 0  1\n",
       "0 1 0 ¯2\n",
       "0 0 1  3\n",
       "</pre>"
      ]
     },
     "execution_count": 172,
     "metadata": {},
     "output_type": "execute_result"
    }
   ],
   "source": [
    "m[2 3;]←m[3 2;]\n",
    "m[2;]÷←¯5\n",
    "m[3;]+←7×m[2;]\n",
    "m[3;]÷←10\n",
    "m[2;]-←2×m[3;]\n",
    "m[1;]-←3×m[3;]\n",
    "m[1;]-←2×m[2;]\n",
    "m"
   ]
  },
  {
   "cell_type": "markdown",
   "id": "8645c261",
   "metadata": {},
   "source": [
    "For systems with a single solution, this form shows us exactly that solution! We just convert back to the linear system form.\n",
    "\n",
    "$$\n",
    "\\left[\\begin{array}{ccc|c}\n",
    "    1 & 0 & 0 & 1  \\\\\n",
    "    0 & 1 & 0 & -2 \\\\\n",
    "    0 & 0 & 1 & 3\n",
    "\\end{array}\\right]\n",
    "\\leftrightarrow\n",
    "\\begin{alignat}{1}\n",
    "    x & = 1  \\\\\n",
    "    y & = -2 \\\\\n",
    "    z & = 3\n",
    "\\end{alignat}\n",
    "$$"
   ]
  },
  {
   "cell_type": "markdown",
   "id": "257487a3",
   "metadata": {},
   "source": [
    "We can automate this process:"
   ]
  },
  {
   "cell_type": "code",
   "execution_count": 174,
   "id": "9a109899",
   "metadata": {},
   "outputs": [],
   "source": [
    "    ∇ a←Rref a;⎕IO;i;j;m;n;nonzero\n",
    "      ⎕IO←1\n",
    "      j←0                                 ⍝ column we're considering\n",
    "      (m n)←⍴a\n",
    "      :For i :In ⍳m                       ⍝ for each row i\n",
    "          :Repeat                         ⍝ find next column j with a nonzero below\n",
    "              j+←1\n",
    "              :If j>n ⋄ :Return ⋄ :EndIf  ⍝ early return if we run out of columns\n",
    "              nonzero←⍸0≠0@(⍳i-1)⊢a[;j]   ⍝ where are the nonzeros in row i or below\n",
    "          :Until nonzero≢⍬\n",
    "          a←⊖@(i,⊃nonzero)⊢a              ⍝ swap row up if necessary (leftmost nonzero needs to be higher)\n",
    "          a[i;]÷←a[i;j]                   ⍝ scale row so leading variable is a one\n",
    "          a+←a[i;]×⍤1 0⊢0@i-a[;j]         ⍝ zero out rest of column by adding multiples of this row\n",
    "      :EndFor\n",
    "    ∇"
   ]
  },
  {
   "cell_type": "markdown",
   "id": "bb5e0adc",
   "metadata": {},
   "source": [
    "The same process can be used to find the inverse of a matrix (if it exists). The inverse of a square matrix $A$ can be found by gluing the identity matrix to it's right, and then finding the RREF of that matrix. If the RREF has the identity matrix as the left half after this transformation, then the right half will be $A^{-1}$."
   ]
  },
  {
   "cell_type": "code",
   "execution_count": 191,
   "id": "962744d5",
   "metadata": {},
   "outputs": [
    {
     "data": {
      "text/html": [
       "<pre class=\"language-APL\">2 1\n",
       "1 1\n",
       "</pre>"
      ]
     },
     "execution_count": 191,
     "metadata": {},
     "output_type": "execute_result"
    },
    {
     "data": {
      "text/html": [
       "<pre class=\"language-APL\">2 1 1 0\n",
       "1 1 0 1\n",
       "</pre>"
      ]
     },
     "execution_count": 191,
     "metadata": {},
     "output_type": "execute_result"
    },
    {
     "data": {
      "text/html": [
       "<pre class=\"language-APL\">1 0  1 ¯1\n",
       "0 1 ¯1  2\n",
       "</pre>"
      ]
     },
     "execution_count": 191,
     "metadata": {},
     "output_type": "execute_result"
    },
    {
     "data": {
      "text/html": [
       "<pre class=\"language-APL\">1\n",
       "</pre>"
      ]
     },
     "execution_count": 191,
     "metadata": {},
     "output_type": "execute_result"
    },
    {
     "data": {
      "text/html": [
       "<pre class=\"language-APL\"> 1 ¯1\n",
       "¯1  2\n",
       "</pre>"
      ]
     },
     "execution_count": 191,
     "metadata": {},
     "output_type": "execute_result"
    },
    {
     "data": {
      "text/html": [
       "<pre class=\"language-APL\">1\n",
       "</pre>"
      ]
     },
     "execution_count": 191,
     "metadata": {},
     "output_type": "execute_result"
    }
   ],
   "source": [
    "Id←,⍨⍴1↑⍨1+⊢\n",
    "m←↑(2 1)(1 1) ⍝ initial matrix\n",
    "m\n",
    "a←m,Id 2      ⍝ glue identity to the right\n",
    "a\n",
    "⍝ find RREF\n",
    "a[1;]-←a[2;]\n",
    "a[2;]-←a[1;]\n",
    "a\n",
    "⍝ the righthand side is the inverse if the lefthand side is the identity\n",
    "(Id 2)≡2∘↑⍤1⊢a\n",
    "minv←2∘↓⍤1⊢a\n",
    "minv\n",
    "⍝ we can check that this is indeed the inverse\n",
    "(Id 2)≡minv+.×m"
   ]
  },
  {
   "cell_type": "markdown",
   "id": "6d741eb2",
   "metadata": {},
   "source": [
    "This can be automated as well:"
   ]
  },
  {
   "cell_type": "code",
   "execution_count": 193,
   "id": "1d45b76c",
   "metadata": {},
   "outputs": [],
   "source": [
    "]dinput\n",
    "Invert←{\n",
    "    n←⊃⍴⍵\n",
    "    id←Id n\n",
    "    rref←Rref⍵,id\n",
    "    id≡n↑⍤1⊢rref: n↓⍤1⊢rref\n",
    "    ⎕SIGNAL 11 ⍝ domain error if left side is not the indentiy\n",
    "}"
   ]
  },
  {
   "cell_type": "code",
   "execution_count": 196,
   "id": "e3a1a9da",
   "metadata": {},
   "outputs": [
    {
     "data": {
      "text/html": [
       "<pre class=\"language-APL\"> 1 ¯1\n",
       "¯1  2\n",
       "</pre>"
      ]
     },
     "execution_count": 196,
     "metadata": {},
     "output_type": "execute_result"
    }
   ],
   "source": [
    "Invert m"
   ]
  },
  {
   "cell_type": "markdown",
   "id": "c66a1574",
   "metadata": {},
   "source": [
    "Of course this is provided as a primitive."
   ]
  },
  {
   "cell_type": "code",
   "execution_count": 197,
   "id": "d302e47d",
   "metadata": {},
   "outputs": [
    {
     "data": {
      "text/html": [
       "<pre class=\"language-APL\"> 1 ¯1\n",
       "¯1  2\n",
       "</pre>"
      ]
     },
     "execution_count": 197,
     "metadata": {},
     "output_type": "execute_result"
    }
   ],
   "source": [
    "⌹m"
   ]
  },
  {
   "cell_type": "markdown",
   "id": "214efba2",
   "metadata": {},
   "source": [
    "## Matrices as Transformations"
   ]
  },
  {
   "cell_type": "markdown",
   "id": "b5b1b0fd",
   "metadata": {},
   "source": [
    "In some vector $\\left[\\begin{matrix}x\\\\y\\end{matrix}\\right]$, $x$ represents the scale factor of the $x$ coordinate vector $\\left[\\begin{matrix}1\\\\0\\end{matrix}\\right]$, and likewise $y$ represents the scale factor of $\\left[\\begin{matrix}0\\\\1\\end{matrix}\\right]$.\n",
    "\n",
    "$$\n",
    "\\left[\\begin{matrix}x\\\\y\\end{matrix}\\right]\n",
    "=\n",
    "x\\left[\\begin{matrix}1\\\\0\\end{matrix}\\right]\n",
    "+\n",
    "y\\left[\\begin{matrix}0\\\\1\\end{matrix}\\right]\n",
    "$$\n",
    "\n",
    "When we do matrix multiplication of a vector we get:\n",
    "\n",
    "$$\n",
    "\\left[\\begin{matrix}a&b\\\\c&d\\end{matrix}\\right]\n",
    "\\left[\\begin{matrix}x\\\\y\\end{matrix}\\right]\n",
    "=\n",
    "\\left[\\begin{matrix}ax+by\\\\cx+dy\\end{matrix}\\right]\n",
    "=\n",
    "x\\left[\\begin{matrix}a\\\\c\\end{matrix}\\right]\n",
    "+\n",
    "y\\left[\\begin{matrix}b\\\\d\\end{matrix}\\right]\n",
    "$$\n",
    "\n",
    "That final form looks just like our decomposition of $\\left[\\begin{matrix}x\\\\y\\end{matrix}\\right]$, except with the column vectors of our matrix $\\left[\\begin{matrix}a\\\\c\\end{matrix}\\right]$ and $\\left[\\begin{matrix}b\\\\d\\end{matrix}\\right]$ instead of the standard coordinates. This tells us what matrix multiplication means geometrically. The columns of the matrix describe where the standard coordinates are translated to, and since all vectors are just linear combinations of the standard coordinates, that tells us how all vectors are transformed.\n",
    "\n",
    "This is why the identity matrix $\\left[\\begin{matrix}1&0\\\\0&1\\end{matrix}\\right]$ has no effect in matrix multiplication. The standard coordinates are translated to themselves, unchanged.\n",
    "\n",
    "This lets us easily define matrices for certain transformations. For example $\\left[\\begin{matrix}1&0\\\\0&2\\end{matrix}\\right]$ to stretch vertically, or $\\left[\\begin{matrix}¯1&0\\\\0&1\\end{matrix}\\right]$ to reflect horizontally."
   ]
  },
  {
   "cell_type": "markdown",
   "id": "da829414",
   "metadata": {},
   "source": [
    "We're going to define a helper function to visualise this."
   ]
  },
  {
   "cell_type": "code",
   "execution_count": 117,
   "id": "02f4628c",
   "metadata": {},
   "outputs": [],
   "source": [
    "]dinput\n",
    "PlotPoints←{(spec points)←⍺ ⍵ ⋄ ⎕IO←0\n",
    "    ((minx maxx)(miny maxy)(resx resy))←spec,(3>≢spec)↑⊂1 1\n",
    "    xlen←⌊resx÷⍨maxx-minx\n",
    "    ylen←⌊resy÷⍨maxy-miny\n",
    "    xaxis←minx+resx×⍳xlen\n",
    "    yaxis←miny+resy×⍳ylen\n",
    "    plot←ylen xlen⍴' '\n",
    "    y0←yaxis⍸0\n",
    "    x0←xaxis⍸0\n",
    "    plot←'─'@y0⊢plot\n",
    "    plot←'│'@x0⍤1⊢plot\n",
    "    plot[y0;x0]←'0'\n",
    "    _←{(x y)←,⍵ ⋄ plot[yaxis⍸y;xaxis⍸x]←'*'}¨points\n",
    "    ⊖plot\n",
    "}"
   ]
  },
  {
   "cell_type": "code",
   "execution_count": 153,
   "id": "cc600c1a",
   "metadata": {},
   "outputs": [
    {
     "data": {
      "text/html": [
       "<pre class=\"language-APL\">     │    \n",
       "     │    \n",
       "   ****   \n",
       "   * │ *  \n",
       "─────0─*──\n",
       "     │ *  \n",
       "   ****   \n",
       "     │    \n",
       "     │    \n",
       "     │    \n",
       "</pre>"
      ]
     },
     "execution_count": 153,
     "metadata": {},
     "output_type": "execute_result"
    },
    {
     "data": {
      "text/html": [
       "<pre class=\"language-APL\">   ****   \n",
       "     │    \n",
       "   * │ *  \n",
       "     │    \n",
       "─────0─*──\n",
       "     │    \n",
       "     │ *  \n",
       "     │    \n",
       "   ****   \n",
       "     │    \n",
       "</pre>"
      ]
     },
     "execution_count": 153,
     "metadata": {},
     "output_type": "execute_result"
    },
    {
     "data": {
      "text/html": [
       "<pre class=\"language-APL\">     │    \n",
       "     │    \n",
       "    ****  \n",
       "   * │ *  \n",
       "───*─0────\n",
       "   * │    \n",
       "    ****  \n",
       "     │    \n",
       "     │    \n",
       "     │    \n",
       "</pre>"
      ]
     },
     "execution_count": 153,
     "metadata": {},
     "output_type": "execute_result"
    },
    {
     "data": {
      "text/html": [
       "<pre class=\"language-APL\">     │    \n",
       "     │    \n",
       "     **** \n",
       "    *│  * \n",
       "─────0─*──\n",
       "     │*   \n",
       " ****│    \n",
       "     │    \n",
       "     │    \n",
       "     │    \n",
       "</pre>"
      ]
     },
     "execution_count": 153,
     "metadata": {},
     "output_type": "execute_result"
    }
   ],
   "source": [
    "logo←(⍪¯2 1)(⍪¯2 2)(⍪¯1 2)(⍪0 2)(⍪1 2)(⍪2 1)(⍪2 0)(⍪2 ¯1)(⍪1 ¯2)(⍪0 ¯2)(⍪¯1 ¯2)(⍪¯2 ¯2)\n",
    "Plot←(¯5 5)(¯5 5)(1 1)∘PlotPoints\n",
    "\n",
    "Plot logo                ⍝ original image\n",
    "stretch←↑(1 0)(0 2)      ⍝ stretch by factor 2 vertically (notice it's the y column that has changed)\n",
    "Plot stretch∘(+.×)¨logo\n",
    "reflect←↑(¯1 0)(0 1)     ⍝ reflect in y axis, all x coords are negated\n",
    "Plot reflect∘(+.×)¨logo\n",
    "shear←↑(1 1)(0 1)        ⍝ a shear that's difficult to describe in words so just look at it\n",
    "Plot shear∘(+.×)¨logo"
   ]
  },
  {
   "cell_type": "markdown",
   "id": "bed1a75f",
   "metadata": {},
   "source": [
    "Multiplying two matrices corresponds to composing the transformations they represent. This is easy to see when you consider the associativity of matrix multiplication: $(AB)v=A(Bv)$. Multiplying by the product of $A$ and $B$ is the same as first multiplying by $B$, then by $A$. This is helps us understand why matrix multiplication is not commutative, the order of transformations affects the result. For example, a shear followed by a reflection is not the same as a reflection followed by a shear."
   ]
  },
  {
   "cell_type": "code",
   "execution_count": 195,
   "id": "03e1e7db",
   "metadata": {},
   "outputs": [
    {
     "data": {
      "text/html": [
       "<pre class=\"language-APL\">     │    \n",
       "     │    \n",
       "  ****    \n",
       "  *  │*   \n",
       "───*─0────\n",
       "    *│    \n",
       "     │****\n",
       "     │    \n",
       "     │    \n",
       "     │    \n",
       "</pre>"
      ]
     },
     "execution_count": 195,
     "metadata": {},
     "output_type": "execute_result"
    },
    {
     "data": {
      "text/html": [
       "<pre class=\"language-APL\">     │    \n",
       "     │    \n",
       "     │****\n",
       "    *│  * \n",
       "───*─0────\n",
       "  *  │    \n",
       "  ****    \n",
       "     │    \n",
       "     │    \n",
       "     │    \n",
       "</pre>"
      ]
     },
     "execution_count": 195,
     "metadata": {},
     "output_type": "execute_result"
    }
   ],
   "source": [
    "Plot (reflect+.×shear+.×⊢)¨logo ⍝ shear, then reflect\n",
    "Plot (shear+.×reflect+.×⊢)¨logo ⍝ reflect, then shear"
   ]
  },
  {
   "cell_type": "markdown",
   "id": "ba9c7eaf",
   "metadata": {},
   "source": [
    "As you might guess, the inverse of a matrix performs the inverse of a transformation."
   ]
  },
  {
   "cell_type": "code",
   "execution_count": 199,
   "id": "ce7995c1",
   "metadata": {},
   "outputs": [
    {
     "data": {
      "text/html": [
       "<pre class=\"language-APL\">     │    \n",
       "     │    \n",
       "   ****   \n",
       "   * │ *  \n",
       "─────0─*──\n",
       "     │ *  \n",
       "   ****   \n",
       "     │    \n",
       "     │    \n",
       "     │    \n",
       "</pre>"
      ]
     },
     "execution_count": 199,
     "metadata": {},
     "output_type": "execute_result"
    },
    {
     "data": {
      "text/html": [
       "<pre class=\"language-APL\">     │    \n",
       "     │    \n",
       "     **** \n",
       "    *│  * \n",
       "─────0─*──\n",
       "     │*   \n",
       " ****│    \n",
       "     │    \n",
       "     │    \n",
       "     │    \n",
       "</pre>"
      ]
     },
     "execution_count": 199,
     "metadata": {},
     "output_type": "execute_result"
    },
    {
     "data": {
      "text/html": [
       "<pre class=\"language-APL\">1\n",
       "</pre>"
      ]
     },
     "execution_count": 199,
     "metadata": {},
     "output_type": "execute_result"
    },
    {
     "data": {
      "text/html": [
       "<pre class=\"language-APL\">     │    \n",
       "     │    \n",
       "   ****   \n",
       "   * │ *  \n",
       "─────0─*──\n",
       "     │ *  \n",
       "   ****   \n",
       "     │    \n",
       "     │    \n",
       "     │    \n",
       "</pre>"
      ]
     },
     "execution_count": 199,
     "metadata": {},
     "output_type": "execute_result"
    }
   ],
   "source": [
    "Plot logo\n",
    "sheared←(shear+.×⊢)¨logo\n",
    "Plot sheared\n",
    "unsheared←((⌹shear)+.×⊢)¨sheared\n",
    "logo≡unsheared\n",
    "Plot unsheared"
   ]
  },
  {
   "cell_type": "markdown",
   "id": "7e1cc52e",
   "metadata": {},
   "source": [
    "Some matrices will take all of 2d space and squash it onto a line:"
   ]
  },
  {
   "cell_type": "code",
   "execution_count": 130,
   "id": "bcd94ffd",
   "metadata": {},
   "outputs": [
    {
     "data": {
      "text/html": [
       "<pre class=\"language-APL\">┌→─────────┐\n",
       "↓     │    │\n",
       "│     │  * │\n",
       "│     │ *  │\n",
       "│     │*   │\n",
       "│─────*────│\n",
       "│    *│    │\n",
       "│   * │    │\n",
       "│  *  │    │\n",
       "│ *   │    │\n",
       "│     │    │\n",
       "└──────────┘\n",
       "</pre>"
      ]
     },
     "execution_count": 130,
     "metadata": {},
     "output_type": "execute_result"
    }
   ],
   "source": [
    "squash←↑(1 ¯1)(1 ¯1)\n",
    "Plot squash∘(+.×)¨logo"
   ]
  },
  {
   "cell_type": "markdown",
   "id": "43950bde",
   "metadata": {},
   "source": [
    "In this case, we've 'lost a dimension'. We can always tell when a matrix will do this by looking at its reduced row echelon form."
   ]
  },
  {
   "cell_type": "code",
   "execution_count": 131,
   "id": "8b660c9d",
   "metadata": {},
   "outputs": [
    {
     "data": {
      "text/html": [
       "<pre class=\"language-APL\">┌→──┐\n",
       "↓1 0│\n",
       "│0 1│\n",
       "└~──┘\n",
       "</pre>"
      ]
     },
     "execution_count": 131,
     "metadata": {},
     "output_type": "execute_result"
    },
    {
     "data": {
      "text/html": [
       "<pre class=\"language-APL\">┌→───┐\n",
       "↓1 ¯1│\n",
       "│0  0│\n",
       "└~───┘\n",
       "</pre>"
      ]
     },
     "execution_count": 131,
     "metadata": {},
     "output_type": "execute_result"
    }
   ],
   "source": [
    "Rref shear\n",
    "Rref squash"
   ]
  },
  {
   "cell_type": "markdown",
   "id": "f05db583",
   "metadata": {},
   "source": [
    "What can we notice? The RREF of the shear has two pivot columns (recall, these are columns with all zeros except a single one), while the RREF of the squash has only one pivot column. This is exactly the pattern - the number of pivot columns is the number of dimensions of the result of a matrix's transformation. We call this the matrix's *rank*. Likewise, the number of pivot columns is the number of dimensions you lose. We call this it's *nullity*."
   ]
  },
  {
   "cell_type": "code",
   "execution_count": 134,
   "id": "c2eaff75",
   "metadata": {},
   "outputs": [],
   "source": [
    "⍝ bitmask of which columns are pivots\n",
    "⍝       ┌─────────────┬─sum is 1 (there's one 1) and ⎕dr is 11, meaning boolean, meaning only 1s and 0s\n",
    "Pivots←{(∧/1 11=+/,⎕dr)⍤1⍉Rref⍵}\n",
    "\n",
    "Rank←+/Pivots      ⍝ number of pivots\n",
    "Nullity←+/⍤~Pivots ⍝ number of not-pivots"
   ]
  },
  {
   "cell_type": "code",
   "execution_count": 133,
   "id": "ef57f114",
   "metadata": {},
   "outputs": [
    {
     "data": {
      "text/html": [
       "<pre class=\"language-APL\"> \n",
       "2\n",
       " \n",
       "</pre>"
      ]
     },
     "execution_count": 133,
     "metadata": {},
     "output_type": "execute_result"
    },
    {
     "data": {
      "text/html": [
       "<pre class=\"language-APL\"> \n",
       "0\n",
       " \n",
       "</pre>"
      ]
     },
     "execution_count": 133,
     "metadata": {},
     "output_type": "execute_result"
    },
    {
     "data": {
      "text/html": [
       "<pre class=\"language-APL\"> \n",
       "1\n",
       " \n",
       "</pre>"
      ]
     },
     "execution_count": 133,
     "metadata": {},
     "output_type": "execute_result"
    },
    {
     "data": {
      "text/html": [
       "<pre class=\"language-APL\"> \n",
       "1\n",
       " \n",
       "</pre>"
      ]
     },
     "execution_count": 133,
     "metadata": {},
     "output_type": "execute_result"
    }
   ],
   "source": [
    "Rank shear\n",
    "Nullity shear\n",
    "Rank squash\n",
    "Nullity squash"
   ]
  },
  {
   "cell_type": "markdown",
   "id": "5681caec",
   "metadata": {},
   "source": [
    "## Determinants"
   ]
  },
  {
   "cell_type": "markdown",
   "id": "bfca0d21",
   "metadata": {},
   "source": [
    "Transformations will often scale things. The *determinant* of a matrix gives you a measure of this. For a $2\\times 2$ matrix $\\left[\\begin{matrix}a&b\\\\c&d\\end{matrix}\\right]$, the determinant is $ad-bc$."
   ]
  },
  {
   "cell_type": "code",
   "execution_count": 161,
   "id": "b2a6b2b7",
   "metadata": {},
   "outputs": [],
   "source": [
    "Det2x2←{-/×⌿0 1⌽⍵}"
   ]
  },
  {
   "cell_type": "markdown",
   "id": "e2a2899b",
   "metadata": {},
   "source": [
    "So for example, the matrix $\\left[\\begin{matrix}1&0\\\\0&2\\end{matrix}\\right]$ from earlier scales by $2$ in the $y$ direction, so the determinant is $2$."
   ]
  },
  {
   "cell_type": "code",
   "execution_count": 163,
   "id": "ec45f550",
   "metadata": {},
   "outputs": [
    {
     "data": {
      "text/html": [
       "<pre class=\"language-APL\">     │    \n",
       "     │    \n",
       "   ****   \n",
       "   * │ *  \n",
       "─────0─*──\n",
       "     │ *  \n",
       "   ****   \n",
       "     │    \n",
       "     │    \n",
       "     │    \n",
       "</pre>"
      ]
     },
     "execution_count": 163,
     "metadata": {},
     "output_type": "execute_result"
    },
    {
     "data": {
      "text/html": [
       "<pre class=\"language-APL\">   ****   \n",
       "     │    \n",
       "   * │ *  \n",
       "     │    \n",
       "─────0─*──\n",
       "     │    \n",
       "     │ *  \n",
       "     │    \n",
       "   ****   \n",
       "     │    \n",
       "</pre>"
      ]
     },
     "execution_count": 163,
     "metadata": {},
     "output_type": "execute_result"
    },
    {
     "data": {
      "text/html": [
       "<pre class=\"language-APL\">2\n",
       "</pre>"
      ]
     },
     "execution_count": 163,
     "metadata": {},
     "output_type": "execute_result"
    }
   ],
   "source": [
    "Plot logo\n",
    "Plot (stretch+.×⊢)¨logo\n",
    "Det2x2 stretch"
   ]
  },
  {
   "cell_type": "markdown",
   "id": "6c71e44e",
   "metadata": {},
   "source": [
    "When a matrix has a nonzero nullity, it would take an area and compress it down to a lower dimensional space, something with no area, so the determinant is $0$."
   ]
  },
  {
   "cell_type": "code",
   "execution_count": 165,
   "id": "b3747d2b",
   "metadata": {},
   "outputs": [
    {
     "data": {
      "text/html": [
       "<pre class=\"language-APL\">     │    \n",
       "     │    \n",
       "   ****   \n",
       "   * │ *  \n",
       "─────0─*──\n",
       "     │ *  \n",
       "   ****   \n",
       "     │    \n",
       "     │    \n",
       "     │    \n",
       "</pre>"
      ]
     },
     "execution_count": 165,
     "metadata": {},
     "output_type": "execute_result"
    },
    {
     "data": {
      "text/html": [
       "<pre class=\"language-APL\">     │    \n",
       "     │  * \n",
       "     │ *  \n",
       "     │*   \n",
       "─────*────\n",
       "    *│    \n",
       "   * │    \n",
       "  *  │    \n",
       " *   │    \n",
       "     │    \n",
       "</pre>"
      ]
     },
     "execution_count": 165,
     "metadata": {},
     "output_type": "execute_result"
    },
    {
     "data": {
      "text/html": [
       "<pre class=\"language-APL\">0\n",
       "</pre>"
      ]
     },
     "execution_count": 165,
     "metadata": {},
     "output_type": "execute_result"
    }
   ],
   "source": [
    "Plot logo\n",
    "Plot (squash+.×⊢)¨logo\n",
    "Det2x2 squash"
   ]
  },
  {
   "cell_type": "markdown",
   "id": "922f04b1",
   "metadata": {},
   "source": [
    "For higher dimensional matrices, we need a more complicated procedure to find the determinant $\\text{det}(A)$ of a $n\\times n$ matrix $A$.\n",
    "\n",
    "Let $A_{ij}$ be the $n-1\\times n-1$ *minor* matrix found by deleting row $i$ and column $j$ from $A$.\n",
    "\n",
    "And let $C_{ij}=(-1)^{i+j}\\text{det}(A_{ij})$ be the *cofactor* of $i,j$.\n",
    "\n",
    "Then the determinant can be found either by fixing an $i$ and calculating\n",
    "\n",
    "$$\\text{det}(A)=\\sum_{j=1}^na_{ij}C_{ij}$$\n",
    "\n",
    "or by fixing a $j$ and finding\n",
    "\n",
    "$$\\text{det}(A)=\\sum_{i=1}^na_{ij}C_{ij}$$\n",
    "\n",
    "Deriving these nasty formulas is out of scope. But we can easily implement them."
   ]
  },
  {
   "cell_type": "code",
   "execution_count": 169,
   "id": "bf46d37c",
   "metadata": {},
   "outputs": [],
   "source": [
    "]dinput\n",
    "Det←{⎕IO←1\n",
    "    a←⍵\n",
    "    n←≢a\n",
    "    n=1: ⊃a\n",
    "    ⍝ expand cofactors along 1st row (i=1)\n",
    "    ⍝        ┌cofactors──────────────────┐\n",
    "    ⍝        │┌¯1^i+j┐     ┌minor───┐    │ \n",
    "    +/(,1↑a)×((¯1*1+⊢)×{Det(⍵≠⍳n)/1↓a}¨)⍳n    \n",
    "}"
   ]
  },
  {
   "cell_type": "code",
   "execution_count": 170,
   "id": "dd22d629",
   "metadata": {},
   "outputs": [
    {
     "data": {
      "text/html": [
       "<pre class=\"language-APL\">1\n",
       "</pre>"
      ]
     },
     "execution_count": 170,
     "metadata": {},
     "output_type": "execute_result"
    },
    {
     "data": {
      "text/html": [
       "<pre class=\"language-APL\">¯103\n",
       "</pre>"
      ]
     },
     "execution_count": 170,
     "metadata": {},
     "output_type": "execute_result"
    }
   ],
   "source": [
    "Det↑(1 0)(0 1)\n",
    "Det↑(2 5 ¯3 ¯2)(¯2 ¯3 2 ¯5)(1 3 ¯2 0)(¯1 6 4 0)"
   ]
  },
  {
   "cell_type": "markdown",
   "id": "4b6fe5b5",
   "metadata": {},
   "source": [
    "## Change of Basis"
   ]
  },
  {
   "cell_type": "markdown",
   "id": "7196217a",
   "metadata": {},
   "source": [
    "We've seen how matrices take the coordinates of a vector and put them into a new coordinate system. Sometimes, we want to not actually change a vector, but just find what its coordinates would be a different coordinate system. Formally this is called *change of basis* where a *basis* is a coordinate system. The *standard basis* is the normal coordinates $\\left[\\begin{matrix}1\\\\0\\end{matrix}\\right]$ and $\\left[\\begin{matrix}0\\\\1\\end{matrix}\\right]$.\n",
    "\n",
    "So to find the representation of some vector $\\left[\\begin{matrix}x\\\\y\\end{matrix}\\right]$ in a new basis $\\left[\\begin{matrix}a\\\\c\\end{matrix}\\right],\\left[\\begin{matrix}b\\\\d\\end{matrix}\\right]$, we want to find $x',y'$ such that\n",
    "\n",
    "$$\n",
    "\\begin{align}\n",
    "    x'\\left[\\begin{matrix}a\\\\c\\end{matrix}\\right]\n",
    "    +\n",
    "    y'\\left[\\begin{matrix}b\\\\d\\end{matrix}\\right]\n",
    "    &=\n",
    "    \\left[\\begin{matrix}x\\\\y\\end{matrix}\\right]\n",
    "    \\\\\n",
    "    \\left[\\begin{matrix}a&b\\\\c&d\\end{matrix}\\right]\n",
    "    \\left[\\begin{matrix}x'\\\\y'\\end{matrix}\\right]\n",
    "    &=\n",
    "    \\left[\\begin{matrix}x\\\\y\\end{matrix}\\right]\n",
    "    \\\\\n",
    "    \\left[\\begin{matrix}x'\\\\y'\\end{matrix}\\right]\n",
    "    &=\n",
    "    \\left[\\begin{matrix}a&b\\\\c&d\\end{matrix}\\right]^{-1}\n",
    "    \\left[\\begin{matrix}x\\\\y\\end{matrix}\\right]\n",
    "\\end{align}\n",
    "$$\n",
    "\n",
    "Neatly enough, this doesn't make the assumption that $\\left[\\begin{matrix}x\\\\y\\end{matrix}\\right]$, $\\left[\\begin{matrix}a\\\\c\\end{matrix}\\right]$, and $\\left[\\begin{matrix}b\\\\d\\end{matrix}\\right]$ are in the standard basis, only that they are all in the same basis, so this method can be used to convert between any basis!"
   ]
  },
  {
   "cell_type": "code",
   "execution_count": 166,
   "id": "32efd814",
   "metadata": {},
   "outputs": [
    {
     "data": {
      "text/html": [
       "<pre class=\"language-APL\">4\n",
       "3\n",
       "</pre>"
      ]
     },
     "execution_count": 166,
     "metadata": {},
     "output_type": "execute_result"
    }
   ],
   "source": [
    "⍝┌─────────┬─new basis\n",
    "⍝│         │   ┌──┬─old vector\n",
    "(↑(0 1)(1 0))⌹⍨⍪3 4\n"
   ]
  },
  {
   "cell_type": "markdown",
   "id": "036f2ab4",
   "metadata": {},
   "source": [
    "Since matrices are just collections of column vectors, we can use exactly the same method to change their bases."
   ]
  },
  {
   "cell_type": "code",
   "execution_count": 144,
   "id": "f02184a7",
   "metadata": {},
   "outputs": [],
   "source": [
    "b←↑(2 1)(1 0)      ⍝ basis b\n",
    "d←↑(¯1 1)(1 1)     ⍝ basis d\n",
    "bd←d⌹⍨b            ⍝ change of basis b → d"
   ]
  },
  {
   "cell_type": "markdown",
   "id": "bedb4419",
   "metadata": {},
   "source": [
    "`bd` has as its columns the basis for `b` represented in the basis `d`. Therefore, multiplying by it will take a vector whose coordinates are in `b` and return the same vector but with coordinates in basis `d`."
   ]
  },
  {
   "cell_type": "code",
   "execution_count": 146,
   "id": "79d11300",
   "metadata": {},
   "outputs": [
    {
     "data": {
      "text/html": [
       "<pre class=\"language-APL\">¯1\n",
       " 0\n",
       "</pre>"
      ]
     },
     "execution_count": 146,
     "metadata": {},
     "output_type": "execute_result"
    },
    {
     "data": {
      "text/html": [
       "<pre class=\"language-APL\">¯1\n",
       " 0\n",
       "</pre>"
      ]
     },
     "execution_count": 146,
     "metadata": {},
     "output_type": "execute_result"
    }
   ],
   "source": [
    "vb←⍪0 ¯1           ⍝ vector in basis b\n",
    "b+.×vb             ⍝ vb → standard basis\n",
    "d+.×bd+.×vb        ⍝ vb → d → standard basis"
   ]
  },
  {
   "cell_type": "markdown",
   "id": "159e52c0",
   "metadata": {},
   "source": [
    "We can use matrices like this to take a transformation which works in one basis, and run it on vectors in another basis. For example, if we have many points in basis `b`, but we want to transform them in basis `d`, for example by reflecting them in `d`'s first basis (it's analagoy of $x$)."
   ]
  },
  {
   "cell_type": "code",
   "execution_count": 200,
   "id": "eff90980",
   "metadata": {},
   "outputs": [
    {
     "data": {
      "text/html": [
       "<pre class=\"language-APL\">     │    \n",
       "     │    \n",
       "    ***   \n",
       "   * │ *  \n",
       "───*─0─*──\n",
       "   * │ *  \n",
       "   * │**  \n",
       "     │    \n",
       "     │    \n",
       "     │    \n",
       "</pre>"
      ]
     },
     "execution_count": 200,
     "metadata": {},
     "output_type": "execute_result"
    }
   ],
   "source": [
    "⍝ we intially made logo in the standard basis, so for this example lets put them into basis b\n",
    "logob←(b⌹⍨⊢)¨logo\n",
    "⍝          ┌──────┬─convert back d → b\n",
    "⍝          │      │┌────────┬─reflect in basis d\n",
    "⍝          │      ││        │┌───┬─change basis b → d\n",
    "reflected←((⌹bd)+.×reflect+.×bd+.×⊢)¨logob\n",
    "\n",
    "⍝   ┌──┬─round out floating point errors\n",
    "⍝   │  │┌──────┬─convert back to standard basis so we can plot\n",
    "Plot⌊.5+(b+.×⊢)¨reflected"
   ]
  },
  {
   "cell_type": "markdown",
   "id": "85a1b780",
   "metadata": {},
   "source": [
    "The matrix we ultimately used to transform our points was `(⌹bd)+.×reflect+.×bd`. When two matrices $A$ and $B$ represent the same transformation but in different bases, and we can convert between those bases with some change-of-basis matrix $C$ (so $A=C^{-1}BC$), we say those matrices are *similar*. So in our case, `(⌹bd)+.×reflect+.×bd` is *similar* to `reflect`."
   ]
  },
  {
   "cell_type": "markdown",
   "id": "5438967f",
   "metadata": {},
   "source": [
    "## eigenvalues and eigenvectors"
   ]
  },
  {
   "cell_type": "code",
   "execution_count": 79,
   "id": "5174123f",
   "metadata": {},
   "outputs": [],
   "source": [
    "Trace←{⎕io←1 ⋄ +/1 1⍉⍵}"
   ]
  },
  {
   "cell_type": "code",
   "execution_count": 82,
   "id": "dc24e916",
   "metadata": {},
   "outputs": [
    {
     "data": {
      "text/html": [
       "<pre class=\"language-APL\"> \n",
       "2\n",
       " \n",
       "</pre>"
      ]
     },
     "execution_count": 82,
     "metadata": {},
     "output_type": "execute_result"
    }
   ],
   "source": [
    "Trace↑(1 0)(0 1)"
   ]
  }
 ],
 "metadata": {
  "kernelspec": {
   "display_name": "Dyalog APL",
   "language": "apl",
   "name": "dyalog-kernel"
  },
  "language_info": {
   "file_extension": ".apl",
   "mimetype": "text/apl",
   "name": "APL"
  }
 },
 "nbformat": 4,
 "nbformat_minor": 5
}
