{
 "cells": [
  {
   "cell_type": "markdown",
   "metadata": {},
   "source": [
    "# CS349 Individual Presentation - APL"
   ]
  },
  {
   "cell_type": "markdown",
   "metadata": {},
   "source": [
    "## A (Very) Brief History of APL"
   ]
  },
  {
   "cell_type": "markdown",
   "metadata": {},
   "source": [
    "![Kenneth\n",
    "Iverson](https://upload.wikimedia.org/wikipedia/en/thumb/3/38/Kei_younger.jpg/175px-Kei_younger.jpg)"
   ]
  },
  {
   "cell_type": "markdown",
   "metadata": {},
   "source": [
    "-   origins of apl\n",
    "    -   1962 - APL book\n",
    "    -   1966 - APL/360\n",
    "    -   ken iverson\n",
    "    -   spinoffs\n",
    "    -   dyalog apl\n",
    "-   notation as a tool of thought\n",
    "-   example: transitive closure\n",
    "-   modern day apl: tacit\n",
    "-   spinoffs: translations of an expression\n",
    "-   my opinion"
   ]
  }
 ],
 "nbformat": 4,
 "nbformat_minor": 5,
 "metadata": {}
}
