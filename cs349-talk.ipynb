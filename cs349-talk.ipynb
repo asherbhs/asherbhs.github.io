{
 "cells": [
  {
   "cell_type": "markdown",
   "metadata": {},
   "source": [
    "# CS349 Individual Presentation - APL"
   ]
  },
  {
   "cell_type": "markdown",
   "metadata": {},
   "source": [
    "-   Programming language\n",
    "-   Executable mathematical notation for algorithms"
   ]
  },
  {
   "cell_type": "code",
   "execution_count": null,
   "metadata": {},
   "outputs": [],
   "source": [
    "Scc←{(⊢∨.∧⍵∨.∧⍉)∪∧∘⍉⍨(∨.∧∨⊢)⍣≡⍨⍵}"
   ]
  },
  {
   "cell_type": "markdown",
   "metadata": {},
   "source": [
    "-   A (Very) Brief History of APL\n",
    "-   The Philosophy of APL - ‘Notation as a Tool of Thought’\n",
    "-   The Iversonian family of languages\n",
    "-   My own thoughts"
   ]
  },
  {
   "cell_type": "markdown",
   "metadata": {},
   "source": [
    "## A (Very) Brief History of APL"
   ]
  },
  {
   "cell_type": "markdown",
   "metadata": {},
   "source": [
    "![Kenneth\n",
    "Iverson](https://upload.wikimedia.org/wikipedia/en/thumb/3/38/Kei_younger.jpg/559px-Kei_younger.jpg)"
   ]
  },
  {
   "cell_type": "markdown",
   "metadata": {},
   "source": [
    "-   1957 - Iversion begins work on ‘Iverson Notation’\n",
    "-   1962 - *A Programming Language* is published\n",
    "-   1966 - APL/360 is released commercially\n",
    "-   1983 - Dyalog APL version 1 is released"
   ]
  },
  {
   "cell_type": "markdown",
   "metadata": {},
   "source": [
    "## The Philosophy of APL - ‘Notation as a Tool of Thought’"
   ]
  },
  {
   "cell_type": "markdown",
   "metadata": {},
   "source": [
    "[Ken Iverson’s 1980 paper](https://www.jsoftware.com/papers/tot.htm)\n",
    "\n",
    "Alternatives in the 50s and 60s were FORTRAN, ALGOL and their ilk\n",
    "\n",
    "APL was designed as a high-level, executable notation"
   ]
  },
  {
   "cell_type": "markdown",
   "metadata": {},
   "source": [
    "Important characteristics of notation:\n",
    "\n",
    "-   Ease of Expressing Constructs Arising in Problems\n",
    "-   Suggestivity\n",
    "-   Subordination of Detail\n",
    "-   Economy\n",
    "-   Amenability to Formal Proofs"
   ]
  },
  {
   "cell_type": "markdown",
   "metadata": {},
   "source": [
    "### Ease of Expressing Constructs Arising in Problems"
   ]
  },
  {
   "cell_type": "markdown",
   "metadata": {},
   "source": [
    "Example: triangular numbers\n",
    "\n",
    "$$T_n=\\Sigma_{k=1}^n$$"
   ]
  },
  {
   "cell_type": "code",
   "execution_count": null,
   "metadata": {},
   "outputs": [],
   "source": [
    "n←4"
   ]
  },
  {
   "cell_type": "code",
   "execution_count": null,
   "metadata": {},
   "outputs": [],
   "source": [
    "+/⍳n"
   ]
  },
  {
   "cell_type": "markdown",
   "metadata": {},
   "source": [
    "$$\\{\\Sigma_{k=1}^m\\mid m\\in[1,n]\\}$$"
   ]
  },
  {
   "cell_type": "code",
   "execution_count": null,
   "metadata": {},
   "outputs": [],
   "source": [
    "+\\⍳n"
   ]
  },
  {
   "cell_type": "markdown",
   "metadata": {},
   "source": [
    "### Suggestivity"
   ]
  },
  {
   "cell_type": "markdown",
   "metadata": {},
   "source": [
    "$$n!=\\Pi_{k=1}^nk$$"
   ]
  },
  {
   "cell_type": "code",
   "execution_count": null,
   "metadata": {},
   "outputs": [],
   "source": [
    "×/⍳n"
   ]
  },
  {
   "cell_type": "markdown",
   "metadata": {},
   "source": [
    "### Subordination of Detail"
   ]
  },
  {
   "cell_type": "markdown",
   "metadata": {},
   "source": [
    "    sum = 0\n",
    "    for i in range(len(m)):\n",
    "        for j in range(len(m[0])):\n",
    "            sum += m[i][j]\n",
    "    return sum"
   ]
  },
  {
   "cell_type": "code",
   "execution_count": null,
   "metadata": {},
   "outputs": [],
   "source": [
    "m←2 2⍴1 2 3 4"
   ]
  },
  {
   "cell_type": "code",
   "execution_count": null,
   "metadata": {},
   "outputs": [],
   "source": [
    "+/+/m"
   ]
  },
  {
   "cell_type": "markdown",
   "metadata": {},
   "source": [
    "### Economy"
   ]
  },
  {
   "cell_type": "markdown",
   "metadata": {},
   "source": [
    "## The Iversonian Language Family"
   ]
  },
  {
   "cell_type": "markdown",
   "metadata": {},
   "source": [
    "-   J\n",
    "-   K - K0, K1, …, Shakti (K9)\n",
    "-   Q\n",
    "-   BQN"
   ]
  },
  {
   "cell_type": "markdown",
   "metadata": {},
   "source": [
    "## My Perspective"
   ]
  },
  {
   "cell_type": "markdown",
   "metadata": {},
   "source": [
    "-   Brevity aids readability\n",
    "-   Transparency"
   ]
  },
  {
   "cell_type": "markdown",
   "metadata": {},
   "source": [
    "<https://www.youtube.com/watch?v=92QtVuCycrI>"
   ]
  }
 ],
 "nbformat": 4,
 "nbformat_minor": 5,
 "metadata": {}
}
