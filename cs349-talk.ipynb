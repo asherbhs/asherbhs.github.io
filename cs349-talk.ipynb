{
 "cells": [
  {
   "cell_type": "markdown",
   "metadata": {},
   "source": [
    "# CS349 Individual Presentation - APL"
   ]
  },
  {
   "cell_type": "markdown",
   "metadata": {},
   "source": [
    "-   Programming language\n",
    "-   Executable mathematical notation for algorithms"
   ]
  },
  {
   "cell_type": "code",
   "execution_count": null,
   "metadata": {},
   "outputs": [],
   "source": [
    "Scc←{(⊢∨.∧⍵∨.∧⍉)∪∧∘⍉⍨(∨.∧∨⊢)⍣≡⍨⍵}"
   ]
  },
  {
   "cell_type": "markdown",
   "metadata": {},
   "source": [
    "-   A (Very) Brief History of APL\n",
    "-   The Philosophy of APL - ‘Notation as a Tool of Thought’\n",
    "-   A fun example\n",
    "-   The Iversonian family of languages\n",
    "-   My own thoughts"
   ]
  },
  {
   "cell_type": "markdown",
   "metadata": {},
   "source": [
    "## A (Very) Brief History of APL"
   ]
  },
  {
   "cell_type": "markdown",
   "metadata": {},
   "source": [
    "![Kenneth\n",
    "Iverson](https://upload.wikimedia.org/wikipedia/en/thumb/3/38/Kei_younger.jpg/349px-Kei_younger.jpg)"
   ]
  },
  {
   "cell_type": "markdown",
   "metadata": {},
   "source": [
    "-   1957 - Iversion begins work on ‘Iverson Notation’\n",
    "-   1962 - *A Programming Language* is published\n",
    "-   1966 - APL/360 is released commercially\n",
    "-   1983 - Dyalog APL version 1 is released"
   ]
  },
  {
   "cell_type": "markdown",
   "metadata": {},
   "source": [
    "## The Philosophy of APL - ‘Notation as a Tool of Thought’"
   ]
  },
  {
   "cell_type": "markdown",
   "metadata": {},
   "source": [
    "[Ken Iverson’s 1980 paper](https://www.jsoftware.com/papers/tot.htm)\n",
    "\n",
    "Alternatives in the 50s and 60s were FORTRAN, ALGOL and their ilk\n",
    "\n",
    "APL was designed as a high-level, executable notation"
   ]
  },
  {
   "cell_type": "markdown",
   "metadata": {},
   "source": [
    "Important characteristics of notation:\n",
    "\n",
    "-   Ease of Expressing Constructs Arising in Problems\n",
    "-   Suggestivity\n",
    "-   Subordination of Detail\n",
    "-   Economy\n",
    "-   Amenability to Formal Proofs"
   ]
  },
  {
   "cell_type": "markdown",
   "metadata": {},
   "source": [
    "**Ease of Expressing Constructs Arising in Problems**"
   ]
  },
  {
   "cell_type": "markdown",
   "metadata": {},
   "source": [
    "Example: triangular numbers\n",
    "\n",
    "$$T_n=\\Sigma_{k=1}^n$$"
   ]
  },
  {
   "cell_type": "code",
   "execution_count": null,
   "metadata": {},
   "outputs": [],
   "source": [
    "+/⍳n"
   ]
  },
  {
   "cell_type": "markdown",
   "metadata": {},
   "source": [
    "$${\\Sigma_{k=1}^m\\mid m\\in[1,n]}$$"
   ]
  },
  {
   "cell_type": "code",
   "execution_count": null,
   "metadata": {},
   "outputs": [],
   "source": [
    "+\\⍳n"
   ]
  },
  {
   "cell_type": "markdown",
   "metadata": {},
   "source": [
    "-   example: transitive closure\n",
    "-   modern day apl: tacit\n",
    "-   spinoffs: translations of an expression\n",
    "-   my opinion"
   ]
  }
 ],
 "nbformat": 4,
 "nbformat_minor": 5,
 "metadata": {}
}
