{
 "cells": [
  {
   "cell_type": "markdown",
   "metadata": {},
   "source": [
    "# CS349 Individual Presentation - APL\n",
    "\n",
    "foo bar baz"
   ]
  },
  {
   "cell_type": "code",
   "execution_count": null,
   "metadata": {},
   "outputs": [],
   "source": [
    "+/⍳5    ⍝ code block"
   ]
  },
  {
   "cell_type": "markdown",
   "metadata": {},
   "source": [
    "some maths $\\frac{1}{x}$\n",
    "\n",
    "$$x^2+x+1$$"
   ]
  }
 ],
 "nbformat": 4,
 "nbformat_minor": 5,
 "metadata": {}
}
