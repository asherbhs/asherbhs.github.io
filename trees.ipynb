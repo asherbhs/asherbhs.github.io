{
 "cells": [
  {
   "cell_type": "markdown",
   "id": "64eaa0a3-0e56-4ff3-9255-982f3c33c814",
   "metadata": {},
   "source": [
    "# Tree Wrangling\n",
    "\n",
    "A tree, for our purposes, is an abstract way of organising data where some pieces of data are variously ‘contained in’ or ‘belonging to’ other pieces of data. Trees are used for all kinds of hierarchical data, or to accelerate many kinds of algorithm. In this workshop we're going to look at one way to represent trees as flat arrays, so that we can make best use of the APL primitives for performant tree wrangling.\n",
    "\n",
    "This workshop is an abridged version of [my online tutorial](https://asherbhs.github.io/apl-site/trees/intro.html) about trees.\n",
    "\n",
    "More formally, trees are made up of _nodes_. Each node may have some number of _child nodes_, and usually one _parent node_. There is exactly one node in a tree which has no parent, this is the tree’s _root node_. Nodes which share a parent are _sibling nodes_, and nodes with no children are _leaf nodes_.\n",
    "\n",
    "We will generally draw trees with the root node at the top, and all child nodes arranged below, with a line connecting each child to its parent. For instance, in the following tree, the node labelled $a$ is the root node, and is a parent of $b$, $c$ and $d$ - its children.\n",
    "\n",
    "![](intro-tree.png)"
   ]
  },
  {
   "cell_type": "code",
   "execution_count": 1,
   "id": "842b7bfe-2c82-4109-af6d-3ff62a6cc0bd",
   "metadata": {},
   "outputs": [
    {
     "data": {
      "text/html": [
       "<pre class=\"language-APL\">Was OFF\n",
       "</pre>"
      ]
     },
     "execution_count": 1,
     "metadata": {},
     "output_type": "execute_result"
    }
   ],
   "source": [
    "⎕IO←0\n",
    "]BOX on"
   ]
  },
  {
   "cell_type": "markdown",
   "id": "8e56a48f-10f1-44bb-bfde-c7796d87992c",
   "metadata": {},
   "source": [
    "A simple way to represent trees, and the way that is usual for most programmers, is with a nested vector. Each node stores its own data and all its children (who in turn contain their own children, and so on). For instance, the above tree could be represented as"
   ]
  },
  {
   "cell_type": "code",
   "execution_count": 2,
   "id": "d030dc3e-903f-4086-ae1d-c2fa15ed5394",
   "metadata": {},
   "outputs": [
    {
     "data": {
      "text/html": [
       "<pre class=\"language-APL\">┌─┬───────────┬───────────────────┬─┐\n",
       "│a│┌─┬───┬───┐│┌─┬───────────────┐│d│\n",
       "│ ││b│┌─┐│┌─┐│││c│┌─┬───┬───┬───┐││ │\n",
       "│ ││ ││e│││f││││ ││g│┌─┐│┌─┐│┌─┐│││ │\n",
       "│ ││ │└─┘│└─┘│││ ││ ││h│││i│││j││││ │\n",
       "│ │└─┴───┴───┘││ ││ │└─┘│└─┘│└─┘│││ │\n",
       "│ │           ││ │└─┴───┴───┴───┘││ │\n",
       "│ │           │└─┴───────────────┘│ │\n",
       "└─┴───────────┴───────────────────┴─┘\n",
       "</pre>"
      ]
     },
     "execution_count": 2,
     "metadata": {},
     "output_type": "execute_result"
    }
   ],
   "source": [
    "(,'a') ((,'b') (,⊂,'e') (,⊂,'f')) ((,'c') ((,'g') (,⊂,'h') (,⊂,'i') (,⊂,'j'))) (,'d')"
   ]
  },
  {
   "cell_type": "markdown",
   "id": "6229d431-6c2c-4606-b20c-3a906a312848",
   "metadata": {},
   "source": [
    "A drawback of this representation is that we can't take much advantage of APL's optimised array primitives to get stuff done - we generally have to work on each child recursively, which can be quite slow. \n",
    "\n",
    "For this reason, we'll invert the relationship between parent and child. Instead of each parent storing all of its children, we can have each child reference its parent. Specifically, by associating each node with an index into an array, each child can store the index of its parent, forming a _parent vector_:"
   ]
  },
  {
   "cell_type": "code",
   "execution_count": 3,
   "id": "73e97fd0-5bc3-4833-bc1f-4d9c988575bb",
   "metadata": {},
   "outputs": [],
   "source": [
    "⍝      ┌─┐─────┐ ┌─┐─┐─┐\n",
    "⍝      ↓ │     │ ↓ │ │ │\n",
    "parent←0 0 1 1 0 4 5 5 5 0\n",
    "⍝      ↑ ↑ │ │ ↑ │       │\n",
    "⍝      │ └─┘─┘ └─┘       │\n",
    "⍝      └─────────────────┘"
   ]
  },
  {
   "cell_type": "markdown",
   "id": "f094de6a-0af4-47b5-9561-44a13e5ee464",
   "metadata": {},
   "source": [
    "In the nested representation, each node had to store an arbitrary number of children. With a parent vector, each node stores exactly one piece of data, so it flattens it out.\n",
    "\n",
    "For the root node, we'll see later that it's helpful to store a reference to the very same root node (`0`). There's no reason that `0` should be the _only_ node which loops on itself like this. We can have multiple root nodes giving us multiple trees - a _forest_.\n",
    "\n",
    "Make sure you can see how the parent vector corresponds to the tree diagram above.\n",
    "\n",
    "This representation is missing the associated lables for each node. To get around this, we store the labels in a separate vector. Since each node is associated with an index, it's unambiguous which label is associated with each node."
   ]
  },
  {
   "cell_type": "code",
   "execution_count": 4,
   "id": "794c3bf6-448d-432d-984f-2bbcf7dfc949",
   "metadata": {},
   "outputs": [
    {
     "data": {
      "text/html": [
       "<pre class=\"language-APL\">0 1 2 3 4 5 6 7 8 9\n",
       "0 0 1 1 0 4 5 5 5 0\n",
       "a b e f c g h i j d\n",
       "</pre>"
      ]
     },
     "execution_count": 4,
     "metadata": {},
     "output_type": "execute_result"
    }
   ],
   "source": [
    "labels←'abefcghijd'\n",
    "↑(⍳≢parent) parent labels"
   ]
  },
  {
   "cell_type": "markdown",
   "id": "02b5b791-0dde-442f-af7c-57a3c25f2e8a",
   "metadata": {},
   "source": [
    "Here are a few utility functions to help us visualise trees. You don't need to understand this code right now - but it might be fun to look back on later."
   ]
  },
  {
   "cell_type": "code",
   "execution_count": 5,
   "id": "4be4dc92-bb9b-40c8-9c60-db5b6c455de6",
   "metadata": {},
   "outputs": [],
   "source": [
    "Depths←{ ⍝ find the depths of each node in a parent vector\n",
    "    ⍝ ←: a vector of the depths of each node in the input\n",
    "    p←⍵    ⍝ input parent vector\n",
    "    depths←(≢p)⍴0\n",
    "    StepUp←{ ⍝ step up the tree and increment depths\n",
    "        q←p[⍵]\n",
    "        depths+←⍵≠q\n",
    "        q\n",
    "    }\n",
    "    _←StepUp⍣≡⍳≢p\n",
    "    depths\n",
    "}\n",
    "\n",
    "_PrettyPrint_←{ ⍝ renders a tree given labels, box drawing characters, and padding\n",
    "    ⍝ ←: vector of character matrices, each a labelled rendering of a tree in the forest given by the input parent vector\n",
    "    labels    ←⍺     ⍝ vector of character matrices giving the labels for each node\n",
    "    connectors←⍺⍺    ⍝ box drawing characters to render the tree, e.g: '─┌┬┐│┴├┼┤│' (normal, and upstruck)\n",
    "    spaces    ←⍵⍵    ⍝ number of spaces to pad with between sub-trees\n",
    "    p         ←⍵     ⍝ parent vector\n",
    "    d←Depths p\n",
    "    maxDepth←⌈/d\n",
    "    results←labels         ⍝ result of rendering each sub-tree, seeded with labels\n",
    "    maxDepth=0: results    ⍝ avoid the each running on the prototype\n",
    "    DoFamily←{ ⍝ render and record a sub-tree\n",
    "        ⍝ ⍺: parent node\n",
    "        ⍝ ⍵: rendered results of children\n",
    "        widths←(1⊃⍴)¨⍵                                                                           ⍝ widths of each rendered child\n",
    "        width←spaces-⍨+/spaces+widths                                                            ⍝ eventual width of the rendered tree       wwwwwww\n",
    "        centres←(+\\0,¯1↓spaces+widths)+¯1+⌈2÷⍨widths                                             ⍝ centres of each rendered sub-tree         ∘ss∘ss∘\n",
    "        result←width⍴' '                                                                         ⍝ header to be decorated                   '       '\n",
    "        result[(⊢⊢⍤/⍨((⊃⌽centres)>⊢)∧(⊃centres)<⊢)⍳width]←connectors[0]                          ⍝ add horizontal bar                       ' ───── '\n",
    "        result[   ⊃ centres]←connectors[1]                                                       ⍝ left end of bar                          '┌───── '\n",
    "        result[   ⊃⌽centres]←connectors[3]                                                       ⍝ right end of bar                         '┌─────┐'\n",
    "        result[¯1↓1↓centres]←connectors[2]                                                       ⍝ connectors to intermediate children      '┌──┬──┐'\n",
    "        result[(1=≢centres)⍴⊃centres]←connectors[4]                                              ⍝ if there's only one child, just make it a lone upstrike\n",
    "        centre←¯1+⌈2÷⍨width                                                                      ⍝ index of the centre of the rendered tree     ∘\n",
    "        result[centre]←connectors[5 6 7 8 9][connectors[0 1 2 3 4]⍳result[centre]]               ⍝ connector to the parent                  '┌──┼──┐'\n",
    "        result⍪←(-spaces)↓⍤1⊃,/,∘(spaces⍴' ')⍤1¨⍵↑¨⍨⌈/≢¨⍵                                        ⍝ pad labels, join under header\n",
    "        parentResult←⍺⊃results                                                                   ⍝ label of the parent\n",
    "        parentWidth←1⊃⍴parentResult                                                              ⍝ width of label of parent\n",
    "        parentCentre←¯1+⌈2÷⍨parentWidth                                                          ⍝ centre of label of parent\n",
    "        result      ←((centre-parentCentre)⌽parentWidth↑⍤1⊢)⍣(width<parentWidth)⊢result          ⍝ pad and recentre text so far if it's less wide\n",
    "        parentResult←((parentCentre-centre)⌽      width↑⍤1⊢)⍣(width>parentWidth)⊢parentResult    ⍝ pad and recentre parent label if it's less wide\n",
    "        result⍪⍨←parentResult                                                                    ⍝ add parent label\n",
    "        results[⍺]←⊂result                                                                       ⍝ record result\n",
    "        1\n",
    "    }\n",
    "    DoLayer←{ ⍝ render and record all nodes whose children have depth ⍵\n",
    "        ⍝ ⍵: depth to handle nodes at\n",
    "        i←⍸d=⍵    ⍝ nodes at this depth\n",
    "        _←p[i]DoFamily⌸results[i]\n",
    "        1\n",
    "    }\n",
    "    _←DoLayer¨⌽1+⍳maxDepth    ⍝ bottom up accumulation\n",
    "    results/⍨p=⍳≢p            ⍝ return results at roots only\n",
    "}\n",
    "\n",
    "PPV←{⍺←'∘' ⋄   ((≢⍵)⍴⍉⍤⍪⍤⍕¨'∘'@(0=≢¨)⍺)('─┌┬┐│┴├┼┤│'_PrettyPrint_ 1)⍵}    ⍝ vertical\n",
    "PPH←{⍺←'∘' ⋄ ⍉¨((≢⍵)⍴  ⍪⍤⍕¨'∘'@(0=≢¨)⍺)('│┌├└─┤┬┼┴─'_PrettyPrint_ 0)⍵}    ⍝ horizontal"
   ]
  },
  {
   "cell_type": "markdown",
   "id": "ec71653a-7646-4bb8-bc04-8be3287afcb7",
   "metadata": {},
   "source": [
    "Now we can see that, indeed, our parent vector represents a tree which is the same shape as our diagram above."
   ]
  },
  {
   "cell_type": "code",
   "execution_count": 6,
   "id": "2532cb17-6e6a-490d-b0b4-80c9406a8dca",
   "metadata": {},
   "outputs": [
    {
     "data": {
      "text/html": [
       "<pre class=\"language-APL\">┌───────────┐\n",
       "│     ∘     │\n",
       "│ ┌───┴┬───┐│\n",
       "│ ∘    ∘   ∘│\n",
       "│┌┴┐   │    │\n",
       "│∘ ∘   ∘    │\n",
       "│    ┌─┼─┐  │\n",
       "│    ∘ ∘ ∘  │\n",
       "└───────────┘\n",
       "</pre>"
      ]
     },
     "execution_count": 6,
     "metadata": {},
     "output_type": "execute_result"
    },
    {
     "data": {
      "text/html": [
       "<pre class=\"language-APL\">┌───────────┐\n",
       "│     a     │\n",
       "│ ┌───┴┬───┐│\n",
       "│ b    c   d│\n",
       "│┌┴┐   │    │\n",
       "│e f   g    │\n",
       "│    ┌─┼─┐  │\n",
       "│    h i j  │\n",
       "└───────────┘\n",
       "</pre>"
      ]
     },
     "execution_count": 6,
     "metadata": {},
     "output_type": "execute_result"
    }
   ],
   "source": [
    "PPV parent        ⍝ without labels\n",
    "labels PPV parent ⍝ with labels"
   ]
  },
  {
   "cell_type": "markdown",
   "id": "72a91189-9144-48a9-b77a-83acf053e587",
   "metadata": {},
   "source": [
    "We can also draw the tree horizontally."
   ]
  },
  {
   "cell_type": "code",
   "execution_count": 7,
   "id": "870a61b8-b0d0-41d8-afbf-888873e2cd4e",
   "metadata": {},
   "outputs": [
    {
     "data": {
      "text/html": [
       "<pre class=\"language-APL\">┌───────┐\n",
       "│ ┌b┬e  │\n",
       "│ │ └f  │\n",
       "│a┤   ┌h│\n",
       "│ ├c─g┼i│\n",
       "│ │   └j│\n",
       "│ └d    │\n",
       "└───────┘\n",
       "</pre>"
      ]
     },
     "execution_count": 7,
     "metadata": {},
     "output_type": "execute_result"
    }
   ],
   "source": [
    "labels PPH parent"
   ]
  },
  {
   "cell_type": "markdown",
   "id": "b90ee109-cd4a-42ca-82d9-aef9445b5d57",
   "metadata": {},
   "source": [
    "Now let's stretch our muscles a bit with some basic challenges. Write an expression to determine\n",
    "\n",
    "- which nodes are children of the root node (node `0`);\n",
    "- which nodes are children of nodes $b$ or $c$;\n",
    "- which nodes are leaves (have no children)."
   ]
  },
  {
   "cell_type": "markdown",
   "id": "2e2de29a-6240-4aa7-94f2-0245336416fc",
   "metadata": {},
   "source": [
    "***SPOILERS BELOW***\n",
    "\n",
    "Don't\n",
    "\n",
    "scroll\n",
    "\n",
    "down\n",
    "\n",
    "just\n",
    "\n",
    "yet,\n",
    "\n",
    "try\n",
    "\n",
    "the\n",
    "\n",
    "exercises\n",
    "\n",
    "first."
   ]
  },
  {
   "cell_type": "code",
   "execution_count": 8,
   "id": "4da22ca7-cc66-41f4-a4fb-49c217ef1631",
   "metadata": {},
   "outputs": [
    {
     "data": {
      "text/html": [
       "<pre class=\"language-APL\">abcd\n",
       "</pre>"
      ]
     },
     "execution_count": 8,
     "metadata": {},
     "output_type": "execute_result"
    },
    {
     "data": {
      "text/html": [
       "<pre class=\"language-APL\">efg\n",
       "</pre>"
      ]
     },
     "execution_count": 8,
     "metadata": {},
     "output_type": "execute_result"
    },
    {
     "data": {
      "text/html": [
       "<pre class=\"language-APL\">efhijd\n",
       "</pre>"
      ]
     },
     "execution_count": 8,
     "metadata": {},
     "output_type": "execute_result"
    }
   ],
   "source": [
    "⍝ there is, of course, more than one way to solve all of these\n",
    "labels[⍸parent=0]            ⍝ children of 0\n",
    "labels[⍸parent∊⍸labels∊'bc'] ⍝ children of b or c\n",
    "labels[⍸~(⍳≢parent)∊parent]  ⍝ leaves"
   ]
  },
  {
   "cell_type": "markdown",
   "id": "327e61dc-ae2e-4b37-8934-563e8d513b94",
   "metadata": {},
   "source": [
    "Let's try some edits now. Can you 'break off' node $c$ and all its descendents, so that we have two trees."
   ]
  },
  {
   "cell_type": "markdown",
   "id": "ee51aff0-8d20-4098-a245-18066354272e",
   "metadata": {},
   "source": [
    "***SPOILERS BELOW***\n",
    "\n",
    "Don't\n",
    "\n",
    "scroll\n",
    "\n",
    "down\n",
    "\n",
    "just\n",
    "\n",
    "yet,\n",
    "\n",
    "try\n",
    "\n",
    "the\n",
    "\n",
    "exercises\n",
    "\n",
    "first."
   ]
  },
  {
   "cell_type": "code",
   "execution_count": 9,
   "id": "61698d6e-8258-4b1e-ba83-8997a41437fc",
   "metadata": {},
   "outputs": [
    {
     "data": {
      "text/html": [
       "<pre class=\"language-APL\">┌─────┬─────┐\n",
       "│  a  │  c  │\n",
       "│ ┌┴─┐│  │  │\n",
       "│ b  d│  g  │\n",
       "│┌┴┐  │┌─┼─┐│\n",
       "│e f  │h i j│\n",
       "└─────┴─────┘\n",
       "</pre>"
      ]
     },
     "execution_count": 9,
     "metadata": {},
     "output_type": "execute_result"
    }
   ],
   "source": [
    "⍝ the solution is to make node c its own parent, making it a root node\n",
    "i←labels⍳'c'\n",
    "parent[i]←i\n",
    "labels PPV parent"
   ]
  },
  {
   "cell_type": "markdown",
   "id": "fecacf50-4389-4617-a33b-16d82f96e5b3",
   "metadata": {},
   "source": [
    "We can see, just by looking at this forest, which nodes are descendants of $a$ and which are descendants of $c$. To figure this out programmatically, we can repeatedly index by the parent vector until we reach a fixed point (until we start looping at the root)."
   ]
  },
  {
   "cell_type": "code",
   "execution_count": 10,
   "id": "4045117a-ddf5-4e50-885d-d76843183fd0",
   "metadata": {},
   "outputs": [
    {
     "data": {
      "text/html": [
       "<pre class=\"language-APL\">0 0 0 0 4 4 4 4 4 0\n",
       "</pre>"
      ]
     },
     "execution_count": 10,
     "metadata": {},
     "output_type": "execute_result"
    },
    {
     "data": {
      "text/html": [
       "<pre class=\"language-APL\">aaaaccccca\n",
       "</pre>"
      ]
     },
     "execution_count": 10,
     "metadata": {},
     "output_type": "execute_result"
    },
    {
     "data": {
      "text/html": [
       "<pre class=\"language-APL\">┌─────┬─────┐\n",
       "│  a  │  c  │\n",
       "│ ┌┴─┐│  │  │\n",
       "│ a  a│  c  │\n",
       "│┌┴┐  │┌─┼─┐│\n",
       "│a a  │c c c│\n",
       "└─────┴─────┘\n",
       "</pre>"
      ]
     },
     "execution_count": 10,
     "metadata": {},
     "output_type": "execute_result"
    }
   ],
   "source": [
    "⊢roots←{parent[⍵]}⍣≡parent\n",
    "labels[roots]\n",
    "labels[roots] PPV parent"
   ]
  },
  {
   "cell_type": "markdown",
   "id": "ca50c102-c276-4e31-a2a9-5d771cba9e75",
   "metadata": {},
   "source": [
    "Let's switch to a new tree now."
   ]
  },
  {
   "cell_type": "code",
   "execution_count": 11,
   "id": "c9b64190-77b8-4049-9dff-0c3674783a03",
   "metadata": {},
   "outputs": [
    {
     "data": {
      "text/html": [
       "<pre class=\"language-APL\">┌─────────┐\n",
       "│    7    │\n",
       "│   ┌┴───┐│\n",
       "│   1    4│\n",
       "│┌──┼──┐ ││\n",
       "│0  3  9 2│\n",
       "│   │     │\n",
       "│   6     │\n",
       "│  ┌┴┐    │\n",
       "│  5 8    │\n",
       "└─────────┘\n",
       "</pre>"
      ]
     },
     "execution_count": 11,
     "metadata": {},
     "output_type": "execute_result"
    }
   ],
   "source": [
    "parent←1 7 4 1 7 6 3 7 6 1\n",
    "(⍳≢parent) PPV parent"
   ]
  },
  {
   "cell_type": "markdown",
   "id": "59c8082c-1d56-49b9-87e8-2423afc90436",
   "metadata": {},
   "source": [
    "See if you can adapt our root-finding method to find a mask of all the nodes which are node $3$ or its descendants."
   ]
  },
  {
   "cell_type": "markdown",
   "id": "c7f48b46-869e-4abb-8e37-b5b3e4f6e66d",
   "metadata": {},
   "source": [
    "***SPOILERS BELOW***\n",
    "\n",
    "Don't\n",
    "\n",
    "scroll\n",
    "\n",
    "down\n",
    "\n",
    "just\n",
    "\n",
    "yet,\n",
    "\n",
    "try\n",
    "\n",
    "the\n",
    "\n",
    "exercises\n",
    "\n",
    "first."
   ]
  },
  {
   "cell_type": "code",
   "execution_count": 12,
   "id": "f617708f-b624-4414-93f3-4baec15bf258",
   "metadata": {},
   "outputs": [
    {
     "data": {
      "text/html": [
       "<pre class=\"language-APL\">┌─────────┐\n",
       "│    0    │\n",
       "│   ┌┴───┐│\n",
       "│   0    0│\n",
       "│┌──┼──┐ ││\n",
       "│0  1  0 0│\n",
       "│   │     │\n",
       "│   1     │\n",
       "│  ┌┴┐    │\n",
       "│  1 1    │\n",
       "└─────────┘\n",
       "</pre>"
      ]
     },
     "execution_count": 12,
     "metadata": {},
     "output_type": "execute_result"
    }
   ],
   "source": [
    "mask←1@3⊢3={parent[⍵]}@{⍵≠3}⍣≡parent\n",
    "mask PPV parent"
   ]
  },
  {
   "cell_type": "markdown",
   "id": "3b000a7c-7bda-43ef-a1c1-24ae9daab792",
   "metadata": {},
   "source": [
    "Now we have a mask of some nodes, let's say we want to delete them. If we just mask out the parent vector, the parent indices will be all wrong. To fix this, we need to reduce the index of each nodes parent by the number of nodes that appeared before that parent in the old vector, before they were deleted. There are two ways to go about this."
   ]
  },
  {
   "cell_type": "code",
   "execution_count": 13,
   "id": "22e93116-82da-4a55-be77-f49f73adead8",
   "metadata": {},
   "outputs": [
    {
     "data": {
      "text/html": [
       "<pre class=\"language-APL\">┌─────┐\n",
       "│  7  │\n",
       "│ ┌┴─┐│\n",
       "│ 1  4│\n",
       "│┌┴┐ ││\n",
       "│0 9 2│\n",
       "└─────┘\n",
       "</pre>"
      ]
     },
     "execution_count": 13,
     "metadata": {},
     "output_type": "execute_result"
    }
   ],
   "source": [
    "⍝ using a scan\n",
    "parent/⍨←~mask\n",
    "parent-←(+\\mask)[parent]\n",
    "(⍸~mask) PPV parent"
   ]
  },
  {
   "cell_type": "code",
   "execution_count": 14,
   "id": "584acdb1-16d5-4220-88a8-34595482e8d7",
   "metadata": {},
   "outputs": [
    {
     "data": {
      "text/html": [
       "<pre class=\"language-APL\">┌─────┐\n",
       "│  7  │\n",
       "│ ┌┴─┐│\n",
       "│ 1  4│\n",
       "│┌┴┐ ││\n",
       "│0 9 2│\n",
       "└─────┘\n",
       "</pre>"
      ]
     },
     "execution_count": 14,
     "metadata": {},
     "output_type": "execute_result"
    }
   ],
   "source": [
    "⍝ reset the parent vector so we can see the other way\n",
    "parent←1 7 4 1 7 6 3 7 6 1\n",
    "\n",
    "⍝ using interval index\n",
    "parent/⍨←~mask\n",
    "parent-←1+(⍸mask)⍸parent\n",
    "(⍸~mask) PPV parent"
   ]
  },
  {
   "cell_type": "markdown",
   "id": "67354dac-896f-489e-bfbc-4a32fdab84f9",
   "metadata": {},
   "source": [
    "How to choose between these two methods? Profile them on real data for your use-case and see which is faster."
   ]
  },
  {
   "cell_type": "markdown",
   "id": "3e9bcf34-2da0-4776-8821-ddc52b072abd",
   "metadata": {},
   "source": [
    "Let's reset our tree one more time."
   ]
  },
  {
   "cell_type": "code",
   "execution_count": 15,
   "id": "e9bde104-b5d2-4a21-8bd3-cda676f60328",
   "metadata": {},
   "outputs": [],
   "source": [
    "parent←1 7 4 1 7 6 3 7 6 1"
   ]
  },
  {
   "cell_type": "markdown",
   "id": "4ba02ea9-bd4c-464b-8247-57788546daa0",
   "metadata": {},
   "source": [
    "Can you write some code to delete all the leaves of this tree?"
   ]
  },
  {
   "cell_type": "markdown",
   "id": "950ce43f-6b30-4839-9a5b-a0407885740c",
   "metadata": {},
   "source": [
    "***SPOILERS BELOW***\n",
    "\n",
    "Don't\n",
    "\n",
    "scroll\n",
    "\n",
    "down\n",
    "\n",
    "just\n",
    "\n",
    "yet,\n",
    "\n",
    "try\n",
    "\n",
    "the\n",
    "\n",
    "exercises\n",
    "\n",
    "first."
   ]
  },
  {
   "cell_type": "code",
   "execution_count": 16,
   "id": "345a7b95-2229-45b0-9859-77b2b32bac3d",
   "metadata": {},
   "outputs": [
    {
     "data": {
      "text/html": [
       "<pre class=\"language-APL\">┌───┐\n",
       "│ ∘ │\n",
       "│┌┴┐│\n",
       "│∘ ∘│\n",
       "││  │\n",
       "│∘  │\n",
       "││  │\n",
       "│∘  │\n",
       "└───┘\n",
       "</pre>"
      ]
     },
     "execution_count": 16,
     "metadata": {},
     "output_type": "execute_result"
    }
   ],
   "source": [
    "keep←(⍳≢parent)∊parent\n",
    "parent/⍨←keep\n",
    "parent-←(+\\~keep)[parent] ⍝ you could also use the other idiom\n",
    "PPV parent"
   ]
  },
  {
   "cell_type": "markdown",
   "id": "f71bd9d9-dc76-4a09-8a26-591de7724c00",
   "metadata": {},
   "source": [
    "Now that we understand the basics of working structurally with trees, let's see how to aggregate information from across the whole tree. It's time to start taking advantage of \n",
    "\n",
    "- depths\n",
    "- acummulation (following tutorial)\n",
    "- exercise - find heights?\n",
    "\n",
    "Our first step will be to find the _depth_ of each node in our tree - defined as the number of ancestors a node has. Our method will be to step up the tree from each node until we reach a root. The number of steps made from each node will be its depth."
   ]
  },
  {
   "cell_type": "code",
   "execution_count": 19,
   "id": "78c4140f-0277-4a7e-9984-3716441f728f",
   "metadata": {},
   "outputs": [
    {
     "data": {
      "text/html": [
       "<pre class=\"language-APL\">┌─────────────┐\n",
       "│      0      │\n",
       "│  ┌───┴─┬───┐│\n",
       "│  1     1   1│\n",
       "│ ┌┴─┐   │    │\n",
       "│ 2  2   2    │\n",
       "│┌┴┐   ┌─┼─┐  │\n",
       "│3 3   3 3 3  │\n",
       "└─────────────┘\n",
       "</pre>"
      ]
     },
     "execution_count": 19,
     "metadata": {},
     "output_type": "execute_result"
    }
   ],
   "source": [
    "⍝ new tree\n",
    "parent←0 0 1 2 2 1 0 6 7 7 7 0\n",
    "\n",
    "depths←0×≢parent\n",
    "StepUp←{ ⍝ step up the tree and increment depths\n",
    "    q←parent[⍵]\n",
    "    depths+←⍵≠q\n",
    "    q\n",
    "}\n",
    "_←StepUp⍣≡⍳≢parent\n",
    "depths PPV parent"
   ]
  },
  {
   "cell_type": "markdown",
   "id": "4f5e47c5-5623-43cf-a7ef-4f00e054d2a3",
   "metadata": {},
   "source": [
    "Now we're ready to aggregate some information. By working one 'level' at a time, we can work our way up the tree, accumulating information as we go:\n",
    "\n",
    "![](accumulation.gif)\n",
    "\n",
    "By starting at the deepest level and working upwards, we ensure that everything is collected in the right order."
   ]
  },
  {
   "cell_type": "markdown",
   "id": "aa8d7135-94b9-42c8-b79c-69ee527157a5",
   "metadata": {},
   "source": [
    "TODO: explain this"
   ]
  },
  {
   "cell_type": "code",
   "execution_count": 23,
   "id": "2997678b-cc98-4814-8818-cb988891a130",
   "metadata": {},
   "outputs": [
    {
     "data": {
      "text/html": [
       "<pre class=\"language-APL\">┌─┬───────────────────┬───────────────────┬───┐\n",
       "│a│┌─┬───────────┬───┐│┌─┬───────────────┐│┌─┐│\n",
       "│ ││b│┌─┬───┬───┐│┌─┐│││g│┌─┬───┬───┬───┐│││l││\n",
       "│ ││ ││c│┌─┐│┌─┐│││f││││ ││h│┌─┐│┌─┐│┌─┐│││└─┘│\n",
       "│ ││ ││ ││d│││e│││└─┘│││ ││ ││i│││j│││k││││   │\n",
       "│ ││ ││ │└─┘│└─┘││   │││ ││ │└─┘│└─┘│└─┘│││   │\n",
       "│ ││ │└─┴───┴───┘│   │││ │└─┴───┴───┴───┘││   │\n",
       "│ │└─┴───────────┴───┘│└─┴───────────────┘│   │\n",
       "└─┴───────────────────┴───────────────────┴───┘\n",
       "</pre>"
      ]
     },
     "execution_count": 23,
     "metadata": {},
     "output_type": "execute_result"
    }
   ],
   "source": [
    "result←⊂⍤,¨'abcdefghijkl'\n",
    "DoLayer←{\n",
    "    i←⍸depths=⍵\n",
    "    parent[i]{result[⍺],←⊂result[⍵]}⌸i\n",
    "}\n",
    "DoLayer¨⌽1+⍳⌈/depths\n",
    "⊃result"
   ]
  }
 ],
 "metadata": {
  "kernelspec": {
   "display_name": "Dyalog APL",
   "language": "apl",
   "name": "dyalog_apl"
  },
  "language_info": {
   "file_extension": ".apl",
   "mimetype": "text/apl",
   "name": "APL"
  }
 },
 "nbformat": 4,
 "nbformat_minor": 5
}
