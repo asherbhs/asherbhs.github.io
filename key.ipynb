{
  "cells": [
    {
      "cell_type": "markdown",
      "id": "a2bc989f-94c0-4cfa-bf1d-d7f72b20b0c5",
      "metadata": {
        "editable": true,
        "slideshow": {
          "slide_type": "slide"
        },
        "tags": []
      },
      "source": [
        "# Data Analysis with `⎕CSV` and `⌸`\n",
        "\n",
        "In this workshop we're going to learn to use `⎕CSV` and `⌸` to analyse a real dataset. The dataset is adapted from [this freely available dataset](https://www.kaggle.com/datasets/olistbr/brazilian-ecommerce), and the workshop itself is adapted from a 2023 workshop by Dyalog's Rich Park."
      ]
    },
    {
      "cell_type": "code",
      "execution_count": 1,
      "id": "8148d4b2-6b11-4262-b80f-cf7228812287",
      "metadata": {
        "editable": true,
        "scrolled": true,
        "slideshow": {
          "slide_type": "slide"
        },
        "tags": []
      },
      "outputs": [
        {
          "text": [
            "Was OFF\n"
          ],
          "name": "stdout",
          "output_type": "stream"
        }
      ],
      "source": [
        "⎕IO←0 ⍝ feel free to use ⎕IO←1 if you prefer\n",
        "⎕PW←12345\n",
        "]BOX on"
      ]
    },
    {
      "cell_type": "markdown",
      "id": "ffa5a159-ab2e-4af0-906f-d9a19bacecc1",
      "metadata": {
        "editable": true,
        "slideshow": {
          "slide_type": ""
        },
        "tags": []
      },
      "source": [
        "## `⎕CSV` and Inverted Tables\n",
        "\n",
        "We'll be working with the dataset given in the CSV (comma separated values) file `order_data.csv`. It consists of a header row, giving titles to each column of our dataset, and rows of data values separated by commas.\n",
        "\n",
        "[**Click here to download `order_data.csv`.**](https://asherbhs.github.io/order_data.csv)"
      ]
    },
    {
      "cell_type": "code",
      "execution_count": 2,
      "id": "47e68c00-2dcf-422f-8871-a6a39b005496",
      "metadata": {},
      "outputs": [
        {
          "text": [
            "┌───────────────────────────────────────────────────────────────┐\n",
            "│id,timestamp,city,state,payment,category                       │\n",
            "├───────────────────────────────────────────────────────────────┤\n",
            "│1,2017-10-02 10:56:33,sao paulo,SP,18.12,housewares            │\n",
            "├───────────────────────────────────────────────────────────────┤\n",
            "│2,2018-07-24 20:41:37,barreiras,BA,141.46,perfumery            │\n",
            "├───────────────────────────────────────────────────────────────┤\n",
            "│3,2018-08-08 08:38:49,vianopolis,GO,179.12,auto                │\n",
            "├───────────────────────────────────────────────────────────────┤\n",
            "│4,2017-11-18 19:28:06,sao goncalo do amarante,RN,72.20,pet_shop│\n",
            "├───────────────────────────────────────────────────────────────┤\n",
            "│5,2018-02-13 21:18:39,santo andre,SP,28.62,stationery          │\n",
            "├───────────────────────────────────────────────────────────────┤\n",
            "│6,2017-07-09 21:57:05,congonhinhas,PR,175.26,auto              │\n",
            "├───────────────────────────────────────────────────────────────┤\n",
            "│7,2017-05-16 13:10:30,nilopolis,RJ,75.16,auto                  │\n",
            "├───────────────────────────────────────────────────────────────┤\n",
            "│8,2017-01-23 18:29:09,faxinalzinho,RS,35.95,furniture_decor    │\n",
            "├───────────────────────────────────────────────────────────────┤\n",
            "│9,2017-07-29 11:55:02,sorocaba,SP,161.42,office_furniture      │\n",
            "└───────────────────────────────────────────────────────────────┘\n"
          ],
          "name": "stdout",
          "output_type": "stream"
        }
      ],
      "source": [
        "⍪10↑⊃⎕NGET'order_data.csv'1"
      ]
    },
    {
      "cell_type": "markdown",
      "id": "0e473cad-c6ff-49ff-bb9a-4392e7de94c0",
      "metadata": {},
      "source": [
        "Now, let's use `⎕CSV` to load our data into format we can work with."
      ]
    },
    {
      "cell_type": "code",
      "execution_count": 3,
      "id": "ed2fca3d-a619-49a0-8b74-9ce4d926dcdf",
      "metadata": {
        "editable": true,
        "slideshow": {
          "slide_type": "slide"
        },
        "tags": []
      },
      "outputs": [],
      "source": [
        "(orders_matrix headers)←⎕CSV 'order_data.csv' ⍬ (2 1 1 1 2 1) 1"
      ]
    },
    {
      "cell_type": "markdown",
      "id": "e6e67ac1-01bb-4328-9ace-9e573014fcf3",
      "metadata": {},
      "source": [
        "Here we're using `⎕CSV` to load our dataset into a matrix.\n",
        "\n",
        "- `'order_data.csv'` is the path to the CSV file, but you can also provide CSV data directly here.\n",
        "- The second part of the argument (`⍬`) specifies the encoding of the file. My providing a `⍬`, we are allowing `⎕CSV` to detect the encoding.\n",
        "- `2 1 1 1 2 1` specifies the data types of the columns of our file.\n",
        "    - `0` means ignore this column.\n",
        "    - `1` means this column is character data.\n",
        "    - `2` means this column is numeric.\n",
        "    - `3`, `4`, or `5` mean this column is numeric, but with tolerance for certain empty and/or invalid entries.\n",
        "    \n",
        "    So in our case, the first and fifth columns (`id` and `payment`) are numeric, while the rest are character data.\n",
        "- The final `1` in the argument indicates that our file includes the header row `id,timestamp,city,state,payment,category`, and that this should not be interpreted as data. Instead, the header row is returned separately to us in the result.\n",
        "\n",
        "You can also export data from the workspace to a CSV file with the dyadic form. Full documentation for `⎕CSV` can be found [here](https://help.dyalog.com/19.0/Content/Language/System%20Functions/csv.htm)."
      ]
    },
    {
      "cell_type": "code",
      "execution_count": 4,
      "id": "808da23c-9105-45a7-b103-f413f1d66558",
      "metadata": {
        "editable": true,
        "slideshow": {
          "slide_type": "slide"
        },
        "tags": []
      },
      "outputs": [
        {
          "text": [
            "┌──┬─────────┬────┬─────┬───────┬────────┐\n",
            "│id│timestamp│city│state│payment│category│\n",
            "└──┴─────────┴────┴─────┴───────┴────────┘\n"
          ],
          "name": "stdout",
          "output_type": "stream"
        },
        {
          "text": [
            "┌─┬───────────────────┬───────────────────────┬──┬──────┬──────────┐\n",
            "│1│2017-10-02 10:56:33│sao paulo              │SP│18.12 │housewares│\n",
            "├─┼───────────────────┼───────────────────────┼──┼──────┼──────────┤\n",
            "│2│2018-07-24 20:41:37│barreiras              │BA│141.46│perfumery │\n",
            "├─┼───────────────────┼───────────────────────┼──┼──────┼──────────┤\n",
            "│3│2018-08-08 08:38:49│vianopolis             │GO│179.12│auto      │\n",
            "├─┼───────────────────┼───────────────────────┼──┼──────┼──────────┤\n",
            "│4│2017-11-18 19:28:06│sao goncalo do amarante│RN│72.2  │pet_shop  │\n",
            "├─┼───────────────────┼───────────────────────┼──┼──────┼──────────┤\n",
            "│5│2018-02-13 21:18:39│santo andre            │SP│28.62 │stationery│\n",
            "└─┴───────────────────┴───────────────────────┴──┴──────┴──────────┘\n"
          ],
          "name": "stdout",
          "output_type": "stream"
        }
      ],
      "source": [
        "headers\n",
        "5↑orders_matrix"
      ]
    },
    {
      "cell_type": "markdown",
      "id": "0fd10ba2-bfe1-4270-8331-e1bc7b980531",
      "metadata": {},
      "source": [
        "This is not the only format that `⎕CSV` supports. We can also import the data as an inverted table, using the `Invert` option, which can use less memory and be more efficient to query.\n",
        "\n",
        "By giving the option `'Invert' 1`, character data is imported as matrices. By giving `'Invert' 2`, character data is imported as vectors of character vectors."
      ]
    },
    {
      "cell_type": "code",
      "execution_count": 5,
      "id": "23d7f4b0-3602-4d4d-95a6-1ec2d18006be",
      "metadata": {},
      "outputs": [
        {
          "text": [
            "┌───────────────────────────────────────┐\n",
            "│1 2 3 4 5                              │\n",
            "├───────────────────────────────────────┤\n",
            "│2017-10-02 10:56:33                    │\n",
            "│2018-07-24 20:41:37                    │\n",
            "│2018-08-08 08:38:49                    │\n",
            "│2017-11-18 19:28:06                    │\n",
            "│2018-02-13 21:18:39                    │\n",
            "├───────────────────────────────────────┤\n",
            "│sao paulo                              │\n",
            "│barreiras                              │\n",
            "│vianopolis                             │\n",
            "│sao goncalo do amarante                │\n",
            "│santo andre                            │\n",
            "├───────────────────────────────────────┤\n",
            "│SP                                     │\n",
            "│BA                                     │\n",
            "│GO                                     │\n",
            "│RN                                     │\n",
            "│SP                                     │\n",
            "├───────────────────────────────────────┤\n",
            "│18.12 141.46 179.12 72.2 28.62         │\n",
            "├───────────────────────────────────────┤\n",
            "│housewares                             │\n",
            "│perfumery                              │\n",
            "│auto                                   │\n",
            "│pet_shop                               │\n",
            "│stationery                             │\n",
            "└───────────────────────────────────────┘\n"
          ],
          "name": "stdout",
          "output_type": "stream"
        },
        {
          "text": [
            "┌─────────────────────────────────────────────────────────────────────────────────────────────────────┐\n",
            "│1 2 3 4 5                                                                                            │\n",
            "├─────────────────────────────────────────────────────────────────────────────────────────────────────┤\n",
            "│┌───────────────────┬───────────────────┬───────────────────┬───────────────────┬───────────────────┐│\n",
            "││2017-10-02 10:56:33│2018-07-24 20:41:37│2018-08-08 08:38:49│2017-11-18 19:28:06│2018-02-13 21:18:39││\n",
            "│└───────────────────┴───────────────────┴───────────────────┴───────────────────┴───────────────────┘│\n",
            "├─────────────────────────────────────────────────────────────────────────────────────────────────────┤\n",
            "│┌─────────┬─────────┬──────────┬───────────────────────┬───────────┐                                 │\n",
            "││sao paulo│barreiras│vianopolis│sao goncalo do amarante│santo andre│                                 │\n",
            "│└─────────┴─────────┴──────────┴───────────────────────┴───────────┘                                 │\n",
            "├─────────────────────────────────────────────────────────────────────────────────────────────────────┤\n",
            "│┌──┬──┬──┬──┬──┐                                                                                     │\n",
            "││SP│BA│GO│RN│SP│                                                                                     │\n",
            "│└──┴──┴──┴──┴──┘                                                                                     │\n",
            "├─────────────────────────────────────────────────────────────────────────────────────────────────────┤\n",
            "│18.12 141.46 179.12 72.2 28.62                                                                       │\n",
            "├─────────────────────────────────────────────────────────────────────────────────────────────────────┤\n",
            "│┌──────────┬─────────┬────┬────────┬──────────┐                                                      │\n",
            "││housewares│perfumery│auto│pet_shop│stationery│                                                      │\n",
            "│└──────────┴─────────┴────┴────────┴──────────┘                                                      │\n",
            "└─────────────────────────────────────────────────────────────────────────────────────────────────────┘\n"
          ],
          "name": "stdout",
          "output_type": "stream"
        }
      ],
      "source": [
        "(orders_columns   _)←⎕CSV⎕OPT('Invert' 1)⊢'order_data.csv' ⍬ (2 1 1 1 2 1) 1\n",
        "(orders_columns_2 _)←⎕CSV⎕OPT('Invert' 2)⊢'order_data.csv' ⍬ (2 1 1 1 2 1) 1\n",
        "⍪5↑¨orders_columns\n",
        "⍪5↑¨orders_columns_2"
      ]
    },
    {
      "cell_type": "markdown",
      "id": "f71b6c8f-11dc-4d11-8c50-b2b8750d0118",
      "metadata": {},
      "source": [
        "In our case, using an inverted table with matrices for character columns uses the least space (by far). "
      ]
    },
    {
      "cell_type": "code",
      "execution_count": 6,
      "id": "abe9359e-4f10-4937-8758-d7a02a8e872e",
      "metadata": {},
      "outputs": [
        {
          "text": [
            "28717912\n",
            " 9888840\n",
            "22252568\n"
          ],
          "name": "stdout",
          "output_type": "stream"
        }
      ],
      "source": [
        "⍪⎕SIZE 'orders_matrix' 'orders_columns' 'orders_columns_2'"
      ]
    },
    {
      "cell_type": "markdown",
      "id": "d270b325-4d82-4ad8-b90c-5c55762506fd",
      "metadata": {},
      "source": [
        "Note: there is more to inverted tables than we will cover today. See [this talk](https://www.youtube.com/watch?v=IOWDkqKbMwk) from Dyalog '18 for more information."
      ]
    },
    {
      "cell_type": "markdown",
      "id": "876cc0b8-9a87-4915-9ca7-a93d79f6d498",
      "metadata": {},
      "source": [
        "We're going to use the inverted table format (with character matrices) for the rest of this workshop. We could just pass around all the columns in a vector and unpack them as need be:\n",
        "\n",
        "    (col1 col2 ...)←columns\n",
        "\n",
        "But this makes our code brittle - every time the schema of our data changes we need to change every place we unpack these columns. So instead, let's extract all our columns into variables in a namespace for ease of access."
      ]
    },
    {
      "cell_type": "code",
      "execution_count": 7,
      "id": "ceca30c5-51fd-48f4-a51d-2d20b1e593db",
      "metadata": {},
      "outputs": [],
      "source": [
        "orders←⎕NS ⍬\n",
        "orders.(id timestamp city state payment category)←orders_columns"
      ]
    },
    {
      "cell_type": "markdown",
      "id": "89b6e27b-4864-4d87-a6a0-d8f0e6638bf4",
      "metadata": {},
      "source": [
        "And now it's nice and easy to work with columns by name."
      ]
    },
    {
      "cell_type": "code",
      "execution_count": 8,
      "id": "a2ab27e0-e716-4ec1-b692-106e6a8182f2",
      "metadata": {},
      "outputs": [
        {
          "text": [
            "13664.08\n"
          ],
          "name": "stdout",
          "output_type": "stream"
        }
      ],
      "source": [
        "⌈/orders.payment ⍝ (blimey)"
      ]
    },
    {
      "cell_type": "markdown",
      "id": "cb32ce63-1831-462d-9176-df81765da42e",
      "metadata": {
        "editable": true,
        "slideshow": {
          "slide_type": ""
        },
        "tags": []
      },
      "source": [
        "## Preprocessing\n",
        "\n",
        "Right now, our `orders` namespace has a `timestamp_raw` variable, with the character data for the timestamps of each purchase. To work with this more easily, we're going to need to parse this into numeric columns.\n",
        "\n",
        "**Exercise:** Parse `timestamp_raw` into separate `year`, `month`, `day`, `hour`, `minute`, and `second` columns."
      ]
    },
    {
      "cell_type": "markdown",
      "id": "e105e6a3-ae32-437e-9393-a630a12a148d",
      "metadata": {
        "editable": true,
        "slideshow": {
          "slide_type": ""
        },
        "tags": []
      },
      "source": [
        "**SPOILERS AHEAD**\n",
        "\n",
        "```\n",
        "\n",
        "\n",
        "\n",
        "\n",
        "\n",
        "\n",
        "\n",
        "\n",
        "\n",
        "\n",
        "\n",
        "\n",
        "\n",
        "\n",
        "\n",
        "\n",
        "\n",
        "\n",
        "\n",
        "\n",
        "```"
      ]
    },
    {
      "cell_type": "code",
      "execution_count": 9,
      "id": "c3d3e72d-23ab-486a-a1a5-23b5b2c3dda1",
      "metadata": {
        "editable": true,
        "slideshow": {
          "slide_type": ""
        },
        "tags": []
      },
      "outputs": [],
      "source": [
        "⍝ simple solution\n",
        "orders.(year month day hour minute second←↓⍉{1⊃' -:'⎕VFI⍵}⍤1⊢timestamp)\n",
        "\n",
        "⍝ fast solution - only possible with the inverted table format\n",
        "orders.(year month day hour minute second←(0 1 2 3)(5 6)(8 9)(11 12)(14 15)(17 18){10⊥'0'-⍨⍥⎕UCS ⍵[⍺;]}¨⊂⍉timestamp)"
      ]
    },
    {
      "cell_type": "markdown",
      "id": "fefd8481-0d3a-4aff-a2c7-6b1465de7992",
      "metadata": {},
      "source": [
        "## Key\n",
        "\n",
        "`⌸` is Dyalog's solution to SQL's `GROUP BY` clause. It is called in the form\n",
        "\n",
        "    ⍺ ⍺⍺⌸ ⍵\n",
        "\n",
        "Essentially, this groups `⍵` by the corresponding `⍺`, and applies `⍺⍺` to each group. For example:"
      ]
    },
    {
      "cell_type": "code",
      "execution_count": 10,
      "id": "3e960760-2dd9-461c-a489-c8f2694cc7f1",
      "metadata": {},
      "outputs": [
        {
          "text": [
            "┌─┬─────────────────┐\n",
            "│1│3 1 1 5 9 5 3 5 9│\n",
            "├─┼─────────────────┤\n",
            "│0│4 2 6            │\n",
            "└─┴─────────────────┘\n"
          ],
          "name": "stdout",
          "output_type": "stream"
        }
      ],
      "source": [
        "numbers←3 1 4 1 5 9 2 6 5 3 5 9\n",
        "odds←2|numbers\n",
        "odds {⍺ ⍵}⌸ numbers"
      ]
    },
    {
      "cell_type": "markdown",
      "id": "c39e4c58-e137-4f20-a7d5-8d476f5e88f9",
      "metadata": {},
      "source": [
        "Time for some details. When `⍺` is not provided, `⍵` used as a default. `⍺` and `⍵` must have the same number of major cells (the same `≢`). The function operand `⍺⍺` given to `⌸` is given the key (from `⍺`) as left argument and the cells of `⍵` corresponding to that key as right argument. The results of `⍺⍺` applied to all keys are mixed to give the final result. The order of groups in the output is the order of the corresponding keys in `⍺`. There are some special forms which are particularly fast, see [here](https://www.dyalog.com/uploads/conference/dyalog24/materials/SA2_PerformanceBasics.pdf)\n",
        "\n",
        "For an example with our dataset, let's see what the average payment is for each state."
      ]
    },
    {
      "cell_type": "code",
      "execution_count": 11,
      "id": "1cf5bf1e-b976-481a-b83b-e6e8d21f5147",
      "metadata": {
        "editable": true,
        "slideshow": {
          "slide_type": ""
        },
        "tags": []
      },
      "outputs": [
        {
          "text": [
            "┌──┬───────────┐\n",
            "│SP│140.3866109│\n",
            "├──┼───────────┤\n",
            "│BA│178.0894336│\n",
            "├──┼───────────┤\n",
            "│GO│167.417267 │\n",
            "├──┼───────────┤\n",
            "│RN│207.1084402│\n",
            "├──┼───────────┤\n",
            "│PR│156.8674639│\n",
            "├──┼───────────┤\n",
            "│RJ│163.8149305│\n",
            "├──┼───────────┤\n",
            "│RS│158.1150865│\n",
            "├──┼───────────┤\n",
            "│MG│158.2128593│\n",
            "├──┼───────────┤\n",
            "│SC│166.0354887│\n",
            "├──┼───────────┤\n",
            "│RR│224.0435897│\n",
            "├──┼───────────┤\n",
            "│PE│190.4632381│\n",
            "├──┼───────────┤\n",
            "│TO│214.2737269│\n",
            "├──┼───────────┤\n",
            "│CE│202.896166 │\n",
            "├──┼───────────┤\n",
            "│DF│163.9466195│\n",
            "├──┼───────────┤\n",
            "│SE│208.2690991│\n",
            "├──┼───────────┤\n",
            "│MT│204.492849 │\n",
            "├──┼───────────┤\n",
            "│PB│256.0266012│\n",
            "├──┼───────────┤\n",
            "│PA│214.0911746│\n",
            "├──┼───────────┤\n",
            "│RO│233.8208403│\n",
            "├──┼───────────┤\n",
            "│ES│157.3739535│\n",
            "├──┼───────────┤\n",
            "│AP│239.33     │\n",
            "├──┼───────────┤\n",
            "│MS│191.1419364│\n",
            "├──┼───────────┤\n",
            "│MA│204.0557284│\n",
            "├──┼───────────┤\n",
            "│PI│217.0201493│\n",
            "├──┼───────────┤\n",
            "│AL│233.3682697│\n",
            "├──┼───────────┤\n",
            "│AC│241.6105128│\n",
            "├──┼───────────┤\n",
            "│AM│185.7943056│\n",
            "└──┴───────────┘\n"
          ],
          "name": "stdout",
          "output_type": "stream"
        }
      ],
      "source": [
        "orders.state {(⊂⍺),(+/÷≢)⍵}⌸ orders.payment"
      ]
    },
    {
      "cell_type": "markdown",
      "id": "1c1c3ffc-883d-41c1-82f4-d3ef89fd4ef2",
      "metadata": {
        "editable": true,
        "slideshow": {
          "slide_type": ""
        },
        "tags": []
      },
      "source": [
        "**Exercises:**\n",
        "- Find how many purchases were made in the most popular category (by number of purchases).\n",
        "- Which category/ies are the most popular?"
      ]
    },
    {
      "cell_type": "markdown",
      "id": "238a9c26-de89-4475-896c-ecfbc6e85e0c",
      "metadata": {
        "editable": true,
        "slideshow": {
          "slide_type": ""
        },
        "tags": []
      },
      "source": [
        "**SPOILERS AHEAD**\n",
        "\n",
        "```\n",
        "\n",
        "\n",
        "\n",
        "\n",
        "\n",
        "\n",
        "\n",
        "\n",
        "\n",
        "\n",
        "\n",
        "\n",
        "\n",
        "\n",
        "\n",
        "\n",
        "\n",
        "\n",
        "\n",
        "\n",
        "```"
      ]
    },
    {
      "cell_type": "code",
      "execution_count": 12,
      "id": "361d4a29-e03d-475c-bd5e-ea9bed2dbd5d",
      "metadata": {},
      "outputs": [
        {
          "text": [
            "9166\n"
          ],
          "name": "stdout",
          "output_type": "stream"
        },
        {
          "text": [
            "┌───────────────────────────────────────┐\n",
            "│bed_bath_table                         │\n",
            "└───────────────────────────────────────┘\n"
          ],
          "name": "stdout",
          "output_type": "stream"
        }
      ],
      "source": [
        "⌈/{≢⍵}⌸orders.category                  ⍝ exercise 1\n",
        "⊃{⍺/⍨⍵=⌈/⍵}/↓⍉{(⊂⍺),≢⍵}⌸orders.category ⍝ exercise 2"
      ]
    },
    {
      "cell_type": "markdown",
      "id": "45b53af4-a582-4eb6-bf5f-e1339f67d313",
      "metadata": {
        "editable": true,
        "slideshow": {
          "slide_type": ""
        },
        "tags": []
      },
      "source": [
        "You might have noticed that `⌸` orders its output by the order they appeared in the input. Sometimes this isn't what we want, and we need to do some extra steps.\n",
        "\n",
        "**Exercise:** Write a function `PaymentPerState` which takes\n",
        "- as left argument, a list of state codes, for instance `'GO' 'TO' 'SC'`,\n",
        "- as right argument, the `orders` table,\n",
        "\n",
        "and returns the total payment made in each state, in the **same order** as the left argument. There are two ways you could go about fixing this order:\n",
        "\n",
        "1. sorting after the fact, or\n",
        "2. prepending some data in the correct order."
      ]
    },
    {
      "cell_type": "markdown",
      "id": "61dbbfc5-9c75-4eb5-9283-7a0e02044311",
      "metadata": {
        "editable": true,
        "slideshow": {
          "slide_type": ""
        },
        "tags": []
      },
      "source": [
        "**SPOILERS AHEAD**\n",
        "\n",
        "```\n",
        "\n",
        "\n",
        "\n",
        "\n",
        "\n",
        "\n",
        "\n",
        "\n",
        "\n",
        "\n",
        "\n",
        "\n",
        "\n",
        "\n",
        "\n",
        "\n",
        "\n",
        "\n",
        "\n",
        "\n",
        "```"
      ]
    },
    {
      "cell_type": "code",
      "execution_count": 13,
      "id": "bb18cc7b-a958-46d0-b9ad-48b8d717908e",
      "metadata": {},
      "outputs": [
        {
          "text": [
            "58068.18 319766.98 579297.82\n"
          ],
          "name": "stdout",
          "output_type": "stream"
        },
        {
          "text": [
            "58068.18 319766.98 579297.82\n"
          ],
          "name": "stdout",
          "output_type": "stream"
        }
      ],
      "source": [
        "⍝ solution 1 - using ⍳ to get the right totals\n",
        "PaymentPerState_1←{\n",
        "\t(state payment)←⍵.(state payment)\n",
        "\t(state total)  ←↓⍉state{⍺(+/⍵)}⌸payment\n",
        "\ttotal[state⍳⍺] ⍝ we are lucky that all states appear!\n",
        "}\n",
        "\n",
        "⍝ solution 2 - prepending ⍺ to get the right order\n",
        "PaymentPerState_2←{\n",
        "\t(state payment)←⍵.(state payment)\n",
        "\tstate  ⍪⍨←↑⍺    ⍝ prepend ⍺\n",
        "\tpayment,⍨←0⍴⍨≢⍺ ⍝ prepend a 0 for each state in ⍺\n",
        "\t(≢⍺)↑state{+/⍵}⌸payment\n",
        "}\n",
        "\n",
        "'TO' 'GO' 'SC' PaymentPerState_1 orders\n",
        "'TO' 'GO' 'SC' PaymentPerState_2 orders"
      ]
    },
    {
      "cell_type": "markdown",
      "id": "9feb91fb-7103-4d73-9407-7e605824ad5b",
      "metadata": {},
      "source": [
        "In [Dyalog '23 - D13: Giving Key a Vocabulary](https://www.youtube.com/watch?v=BXUpQUS9pQE), an extension to `⌸` was proposed. This extension would allow us to give `⌸` a 'vocabulary' as left operand, instead of a function. This would control exactly the order that groups appear in the result."
      ]
    },
    {
      "cell_type": "code",
      "execution_count": 14,
      "id": "340c0981-c4b6-456b-82ba-9b16f5853451",
      "metadata": {},
      "outputs": [],
      "source": [
        "⍝ source: https://raw.githubusercontent.com/abrudz/dyalog_vision/main/QuadEqual.aplo\n",
        "QuadEqual←{ ⍝ ⌸ allowing operand to be vocabulary (and then using {⊂⍵} as internal operand)\n",
        "\t⍺←⊢  ⍝\n",
        "\t3=40 ⎕ATX'⍺⍺':⍺ ⍺⍺⌸⍵  ⍝ fn operand: current definition\n",
        "\t3=40 ⎕ATX'⍺':⍵ ∇⍳≢⍵   ⍝ monadic\n",
        "\t\n",
        "\t⎕IO←1\n",
        "\tuvoc←∪⍺⍺\n",
        "\tmask←(≢uvoc)≥uvoc⍳⍺  ⍝ high-rank ∊\n",
        "\tkeys←uvoc⍪mask⌿⍺\n",
        "\tvalues←mask⌿⍵\n",
        "\tvalues⍴⍨←(≢uvoc)+@1⍴values  ⍝ append filler values while guarding against NONCE ERRORs\n",
        "\tvalues⊖⍨←-(≢uvoc)           ⍝ move them to front\n",
        "\n",
        "\t(1↓¨keys{⊂⍵}⌸values)[uvoc⍳⍺⍺]\n",
        "}"
      ]
    },
    {
      "cell_type": "markdown",
      "id": "ebbc2c7c-178c-4c31-baef-6fb62502c514",
      "metadata": {},
      "source": [
        "This makes `PaymentPerState` much easier."
      ]
    },
    {
      "cell_type": "code",
      "execution_count": 15,
      "id": "9822b81c-d8ea-4dd4-a65c-aab9e78bacfe",
      "metadata": {},
      "outputs": [
        {
          "text": [
            "58068.18 319766.98 579297.82\n"
          ],
          "name": "stdout",
          "output_type": "stream"
        }
      ],
      "source": [
        "PaymentPerState_3←{\n",
        "\t(state payment)←⍵.(state payment)\n",
        "\t+/¨(↓state) (⍺ QuadEqual) payment\n",
        "}\n",
        "'TO' 'GO' 'SC' PaymentPerState_3 orders"
      ]
    },
    {
      "cell_type": "markdown",
      "id": "938752b2-c311-4651-b026-9286ff72b392",
      "metadata": {
        "editable": true,
        "slideshow": {
          "slide_type": ""
        },
        "tags": []
      },
      "source": [
        "## Multiple Keys\n",
        "\n",
        "Sometimes we need to group our data by more than one than one key. In this case we really have two options:\n",
        "\n",
        "1. Use `⌸` multiple times - once for each column we're grouping by,\n",
        "2. Create a compound key from the individual keys.\n",
        "\n",
        "**Exercise:** Write a function `PaymentPerMonthByState` which takes\n",
        "\n",
        "- as left argument, a list of state codes,\n",
        "- as right argument, the `orders` table,\n",
        "\n",
        "and returns a matrix of total payments whose columns correspond to the given state codes and whose rows correspond to months **in 2017**. For example, `'SP' 'RJ' 'PI' 'MT' PaymentPerMonthByState orders` should return\n",
        "\n",
        "     43103.53  13139.53 1453.98  1922.78\n",
        "     80348.6   33197.29 3298.4   3583.36\n",
        "    140767.23  59495.67 2582.92  2702.55\n",
        "    130989.25  61960.3  2288.91  3912.86\n",
        "    188394.13  75293.52 6679.58  7560.36\n",
        "    185274.77  59246.08 2626.96  4788.16\n",
        "    197902.88  84167.86 2938.77 11235.49\n",
        "    212931.9   85555.98 5072.72  6939.29\n",
        "    231109.84 104566.94 3242.68  8101.66\n",
        "    239321.27 108026.61 4544.47 12828.51\n",
        "    391137.77 166838.56 3745.39 13144.66\n",
        "    301554.04 124615.01 3482    10432.55\n",
        "\n",
        "For instance, a total of `43103.53` was spent in the state `SP` in January of 2017."
      ]
    },
    {
      "cell_type": "markdown",
      "id": "d1e0bcd0-8d75-4a1f-be06-a0be96a4b927",
      "metadata": {
        "editable": true,
        "slideshow": {
          "slide_type": ""
        },
        "tags": []
      },
      "source": [
        "**SPOILERS AHEAD**\n",
        "\n",
        "```\n",
        "\n",
        "\n",
        "\n",
        "\n",
        "\n",
        "\n",
        "\n",
        "\n",
        "\n",
        "\n",
        "\n",
        "\n",
        "\n",
        "\n",
        "\n",
        "\n",
        "\n",
        "\n",
        "\n",
        "\n",
        "```"
      ]
    },
    {
      "cell_type": "code",
      "execution_count": 16,
      "id": "ce59a034-534f-4c04-9f24-497030d825aa",
      "metadata": {
        "editable": true,
        "slideshow": {
          "slide_type": ""
        },
        "tags": []
      },
      "outputs": [
        {
          "text": [
            " 43103.53  13139.53 1453.98  1922.78\n",
            " 80348.6   33197.29 3298.4   3583.36\n",
            "140767.23  59495.67 2582.92  2702.55\n",
            "130989.25  61960.3  2288.91  3912.86\n",
            "188394.13  75293.52 6679.58  7560.36\n",
            "185274.77  59246.08 2626.96  4788.16\n",
            "197902.88  84167.86 2938.77 11235.49\n",
            "212931.9   85555.98 5072.72  6939.29\n",
            "231109.84 104566.94 3242.68  8101.66\n",
            "239321.27 108026.61 4544.47 12828.51\n",
            "391137.77 166838.56 3745.39 13144.66\n",
            "301554.04 124615.01 3482    10432.55\n"
          ],
          "name": "stdout",
          "output_type": "stream"
        },
        {
          "text": [
            " 43103.53  13139.53 1453.98  1922.78\n",
            " 80348.6   33197.29 3298.4   3583.36\n",
            "140767.23  59495.67 2582.92  2702.55\n",
            "130989.25  61960.3  2288.91  3912.86\n",
            "188394.13  75293.52 6679.58  7560.36\n",
            "185274.77  59246.08 2626.96  4788.16\n",
            "197902.88  84167.86 2938.77 11235.49\n",
            "212931.9   85555.98 5072.72  6939.29\n",
            "231109.84 104566.94 3242.68  8101.66\n",
            "239321.27 108026.61 4544.47 12828.51\n",
            "391137.77 166838.56 3745.39 13144.66\n",
            "301554.04 124615.01 3482    10432.55\n"
          ],
          "name": "stdout",
          "output_type": "stream"
        },
        {
          "text": [
            " 43103.53  13139.53 1453.98  1922.78\n",
            " 80348.6   33197.29 3298.4   3583.36\n",
            "140767.23  59495.67 2582.92  2702.55\n",
            "130989.25  61960.3  2288.91  3912.86\n",
            "188394.13  75293.52 6679.58  7560.36\n",
            "185274.77  59246.08 2626.96  4788.16\n",
            "197902.88  84167.86 2938.77 11235.49\n",
            "212931.9   85555.98 5072.72  6939.29\n",
            "231109.84 104566.94 3242.68  8101.66\n",
            "239321.27 108026.61 4544.47 12828.51\n",
            "391137.77 166838.56 3745.39 13144.66\n",
            "301554.04 124615.01 3482    10432.55\n"
          ],
          "name": "stdout",
          "output_type": "stream"
        },
        {
          "name": "stdout",
          "output_type": "stream",
          "text": [
            " 43103.53  13139.53 1453.98  1922.78\n",
            " 80348.6   33197.29 3298.4   3583.36\n",
            "140767.23  59495.67 2582.92  2702.55\n",
            "130989.25  61960.3  2288.91  3912.86\n",
            "188394.13  75293.52 6679.58  7560.36\n",
            "185274.77  59246.08 2626.96  4788.16\n",
            "197902.88  84167.86 2938.77 11235.49\n",
            "212931.9   85555.98 5072.72  6939.29\n",
            "231109.84 104566.94 3242.68  8101.66\n",
            "239321.27 108026.61 4544.47 12828.51\n",
            "391137.77 166838.56 3745.39 13144.66\n",
            "301554.04 124615.01 3482    10432.55\n"
          ]
        }
      ],
      "source": [
        "⍝ solution 1 - compound key\n",
        "PaymentPerMonthByState_1←{\n",
        "\t(state payment year month)←⍵.(state payment year month)\n",
        "\n",
        "\t⍝ get only 2017\n",
        "\tmask←year=2017\n",
        "\tstate  ⌿⍨←mask\n",
        "\tpayment⌿⍨←mask\n",
        "\tmonth  ⌿⍨←mask\n",
        "\n",
        "\t⍝ prepend for ordering\n",
        "\tn←12×≢⍺\n",
        "\tstate  ⍪⍨←↑n⍴⍺\n",
        "\tmonth  ,⍨←(≢⍺)/1+⍳12\n",
        "\tpayment,⍨←n⍴0\n",
        "\n",
        "\t⍝ compound key\n",
        "\tmonth_state←⍉↑month (↓state)\n",
        "\n",
        "\t⍝ compute matrix\n",
        "\t12 (≢⍺)⍴month_state {+/⍵}⌸ payment\n",
        "}\n",
        "\n",
        "⍝ solution 2 - a faster version\n",
        "PaymentPerMonthByState_2←{\n",
        "\t(state payment year month)←⍵.(state payment year month)\n",
        "\n",
        "\t⍝ get only 2017\n",
        "\tmask←2017=year\n",
        "\tstate  ⌿⍨←mask\n",
        "\tpayment⌿⍨←mask\n",
        "\tmonth  ⌿⍨←mask\n",
        "\n",
        "\t⍝ prepend for ordering\n",
        "\tn←12×≢⍺\n",
        "\tstate  ⍪⍨←↑n⍴⍺\n",
        "\tmonth  ,⍨←(≢⍺)/1+⍳12\n",
        "\tpayment,⍨←n⍴0\n",
        "\n",
        "\t⍝ compound key\n",
        "\tstate←⍳⍨state             ⍝ ids idiom\n",
        "\tmonth_state←⍉↑month state ⍝ now flat\n",
        "\n",
        "\t⍝ compute matrix\n",
        "\t12 (≢⍺)⍴month_state {+/⍵}⌸ payment\n",
        "}\n",
        "\n",
        "⍝ solution 3 - double key\n",
        "PaymentPerMonthByState_3←{\n",
        "\t(state payment year month)←⍵.(state payment year month)\n",
        "\n",
        "\t⍝ get only 2017\n",
        "\tmask←2017=year\n",
        "\tstate  ⌿⍨←mask\n",
        "\tpayment⌿⍨←mask\n",
        "\tmonth  ⌿⍨←mask\n",
        "\n",
        "\tmonth,⍨←1+⍳12\n",
        "\ti←month {⊂1↓⍵}⌸ (12⍴0),⍳≢payment\n",
        "\t↑⍺∘{\n",
        "\t\tstate  ←   (↑⍺)⍪state[⍵;]\n",
        "\t\tpayment←(0⍴⍨≢⍺),payment[⍵]\n",
        "\t\t(≢⍺)↑state {+/⍵}⌸ payment\n",
        "\t}¨i\n",
        "}\n",
        "\n",
        "'SP' 'RJ' 'PI' 'MT' PaymentPerMonthByState_1 orders\n",
        "'SP' 'RJ' 'PI' 'MT' PaymentPerMonthByState_2 orders\n",
        "'SP' 'RJ' 'PI' 'MT' PaymentPerMonthByState_3 orders"
      ]
    }
  ],
  "metadata": {
    "kernelspec": {
      "display_name": "Dyalog APL",
      "language": "apl",
      "name": "dyalog_apl"
    },
    "language_info": {
      "file_extension": ".apl",
      "mimetype": "text/apl",
      "name": "APL"
    }
  },
  "nbformat": 4,
  "nbformat_minor": 5
}
