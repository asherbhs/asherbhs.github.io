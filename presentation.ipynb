{
  "cells": [
    {
      "cell_type": "code",
      "execution_count": 4,
      "id": "20e3045d-42a7-4da8-8eaa-02162810121b",
      "metadata": {},
      "outputs": [
        {
          "text": [
            "Was OFF\n"
          ],
          "name": "stdout",
          "output_type": "stream"
        }
      ],
      "source": [
        "⎕IO←0\n",
        "⎕PW←12345\n",
        "]box on"
      ]
    },
    {
      "cell_type": "code",
      "execution_count": 1,
      "id": "785c6bba-2db6-4fa5-94a1-363bde470c17",
      "metadata": {
        "jupyter": {
          "source_hidden": true
        }
      },
      "outputs": [],
      "source": [
        "Depths←{ ⍝ find the depths of each node in a parent vector\n",
        "    ⍝ ←: a vector of the depths of each node in the input\n",
        "    p←⍵    ⍝ input parent vector\n",
        "    depths←(≢p)⍴0\n",
        "    StepUp←{ ⍝ step up the tree and increment depths\n",
        "        q←p[⍵]\n",
        "        depths+←⍵≠q\n",
        "        q\n",
        "    }\n",
        "    _←StepUp⍣≡⍳≢p\n",
        "    depths\n",
        "}\n",
        "\n",
        "_PrettyPrint_←{ ⍝ renders a tree given labels, box drawing characters, and padding\n",
        "    ⍝ ←: vector of character matrices, each a labelled rendering of a tree in the forest given by the input parent vector\n",
        "    labels    ←⍺     ⍝ vector of character matrices giving the labels for each node\n",
        "    connectors←⍺⍺    ⍝ box drawing characters to render the tree, e.g: '─┌┬┐│┴├┼┤│' (normal, and upstruck)\n",
        "    spaces    ←⍵⍵    ⍝ number of spaces to pad with between sub-trees\n",
        "    p         ←⍵     ⍝ parent vector\n",
        "    d←Depths p\n",
        "    maxDepth←⌈/d\n",
        "    results←labels         ⍝ result of rendering each sub-tree, seeded with labels\n",
        "    maxDepth=0: results    ⍝ avoid the each running on the prototype\n",
        "    DoFamily←{ ⍝ render and record a sub-tree\n",
        "        ⍝ ⍺: parent node\n",
        "        ⍝ ⍵: rendered results of children\n",
        "        widths←(1⊃⍴)¨⍵                                                                           ⍝ widths of each rendered child\n",
        "        width←spaces-⍨+/spaces+widths                                                            ⍝ eventual width of the rendered tree       wwwwwww\n",
        "        centres←(+\\0,¯1↓spaces+widths)+¯1+⌈2÷⍨widths                                             ⍝ centres of each rendered sub-tree         ∘ss∘ss∘\n",
        "        result←width⍴' '                                                                         ⍝ header to be decorated                   '       '\n",
        "        result[(⊢⊢⍤/⍨((⊃⌽centres)>⊢)∧(⊃centres)<⊢)⍳width]←connectors[0]                          ⍝ add horizontal bar                       ' ───── '\n",
        "        result[   ⊃ centres]←connectors[1]                                                       ⍝ left end of bar                          '┌───── '\n",
        "        result[   ⊃⌽centres]←connectors[3]                                                       ⍝ right end of bar                         '┌─────┐'\n",
        "        result[¯1↓1↓centres]←connectors[2]                                                       ⍝ connectors to intermediate children      '┌──┬──┐'\n",
        "        result[(1=≢centres)⍴⊃centres]←connectors[4]                                              ⍝ if there's only one child, just make it a lone upstrike\n",
        "        centre←¯1+⌈2÷⍨width                                                                      ⍝ index of the centre of the rendered tree     ∘\n",
        "        result[centre]←connectors[5 6 7 8 9][connectors[0 1 2 3 4]⍳result[centre]]               ⍝ connector to the parent                  '┌──┼──┐'\n",
        "        result⍪←(-spaces)↓⍤1⊃,/,∘(spaces⍴' ')⍤1¨⍵↑¨⍨⌈/≢¨⍵                                        ⍝ pad labels, join under header\n",
        "        parentResult←⍺⊃results                                                                   ⍝ label of the parent\n",
        "        parentWidth←1⊃⍴parentResult                                                              ⍝ width of label of parent\n",
        "        parentCentre←¯1+⌈2÷⍨parentWidth                                                          ⍝ centre of label of parent\n",
        "        result      ←((centre-parentCentre)⌽parentWidth↑⍤1⊢)⍣(width<parentWidth)⊢result          ⍝ pad and recentre text so far if it's less wide\n",
        "        parentResult←((parentCentre-centre)⌽      width↑⍤1⊢)⍣(width>parentWidth)⊢parentResult    ⍝ pad and recentre parent label if it's less wide\n",
        "        result⍪⍨←parentResult                                                                    ⍝ add parent label\n",
        "        results[⍺]←⊂result                                                                       ⍝ record result\n",
        "        1\n",
        "    }\n",
        "    DoLayer←{ ⍝ render and record all nodes whose children have depth ⍵\n",
        "        ⍝ ⍵: depth to handle nodes at\n",
        "        i←⍸d=⍵    ⍝ nodes at this depth\n",
        "        _←p[i]DoFamily⌸results[i]\n",
        "        1\n",
        "    }\n",
        "    _←DoLayer¨⌽1+⍳maxDepth    ⍝ bottom up accumulation\n",
        "    results/⍨p=⍳≢p            ⍝ return results at roots only\n",
        "}\n",
        "\n",
        "PPV←{⍺←'∘' ⋄   ((≢⍵)⍴⍉⍤⍪⍤⍕¨'∘'@(0=≢¨)⍺)('─┌┬┐│┴├┼┤│'_PrettyPrint_ 1)⍵}    ⍝ vertical\n",
        "PPH←{⍺←'∘' ⋄ ⍉¨((≢⍵)⍴  ⍪⍤⍕¨'∘'@(0=≢¨)⍺)('│┌├└─┤┬┼┴─'_PrettyPrint_ 0)⍵}    ⍝ horizontal"
      ]
    },
    {
      "cell_type": "markdown",
      "id": "f3104cbf-0395-4c32-b5e5-2c6dd1a1f446",
      "metadata": {},
      "source": [
        "# What can Vectorised Trees Do for You? - DYNA 2025"
      ]
    },
    {
      "cell_type": "code",
      "execution_count": 5,
      "id": "9a9e1ff5-0bed-41a2-b730-f21311fc1f62",
      "metadata": {},
      "outputs": [
        {
          "text": [
            "┌───────────┐\n",
            "│     a     │\n",
            "│ ┌───┴┬───┐│\n",
            "│ b    c   d│\n",
            "│┌┴┐   │    │\n",
            "│e f   g    │\n",
            "│    ┌─┼─┐  │\n",
            "│    h i j  │\n",
            "└───────────┘\n"
          ],
          "name": "stdout",
          "output_type": "stream"
        }
      ],
      "source": [
        "⍝      ┌─┐─────┐ ┌─┐─┐─┐\n",
        "⍝      ↓ │     │ ↓ │ │ │\n",
        "parent←0 0 1 1 0 4 5 5 5 0\n",
        "⍝      ↑ ↑ │ │ ↑ │       │\n",
        "⍝      │ └─┘─┘ └─┘       │\n",
        "⍝      └─────────────────┘\n",
        "labels←'abefcghijd'\n",
        "labels PPV parent"
      ]
    },
    {
      "cell_type": "code",
      "execution_count": 9,
      "id": "fb8fcc26-491d-447f-a892-d5bf2f979e99",
      "metadata": {},
      "outputs": [
        {
          "text": [
            "┌───────────┐\n",
            "│     0     │\n",
            "│ ┌───┴┬───┐│\n",
            "│ 0    0   0│\n",
            "│┌┴┐   │    │\n",
            "│1 1   1    │\n",
            "│    ┌─┼─┐  │\n",
            "│    0 0 0  │\n",
            "└───────────┘\n"
          ],
          "name": "stdout",
          "output_type": "stream"
        },
        {
          "text": [
            "efg\n"
          ],
          "name": "stdout",
          "output_type": "stream"
        }
      ],
      "source": [
        "⍝ finding children of particular nodes\n",
        "kids←parent∊labels⍳'bc'\n",
        "kids PPV parent\n",
        "labels[⍸kids]"
      ]
    },
    {
      "cell_type": "code",
      "execution_count": 10,
      "id": "4b4bd3d2-d896-4e01-a9a5-cb1f49c3768b",
      "metadata": {},
      "outputs": [
        {
          "text": [
            "┌───────────┐\n",
            "│     0     │\n",
            "│ ┌───┴┬───┐│\n",
            "│ 0    0   1│\n",
            "│┌┴┐   │    │\n",
            "│1 1   0    │\n",
            "│    ┌─┼─┐  │\n",
            "│    1 1 1  │\n",
            "└───────────┘\n"
          ],
          "name": "stdout",
          "output_type": "stream"
        },
        {
          "text": [
            "efhijd\n"
          ],
          "name": "stdout",
          "output_type": "stream"
        }
      ],
      "source": [
        "⍝ finding the leaves\n",
        "leaves←~(⍳≢parent)∊parent\n",
        "leaves PPV parent\n",
        "labels[⍸leaves]"
      ]
    },
    {
      "cell_type": "code",
      "execution_count": 11,
      "id": "4fa92a8a-501c-40f7-87a3-689e236a5fd7",
      "metadata": {},
      "outputs": [
        {
          "text": [
            "┌─────┬─────┐\n",
            "│  a  │  c  │\n",
            "│ ┌┴─┐│  │  │\n",
            "│ b  d│  g  │\n",
            "│┌┴┐  │┌─┼─┐│\n",
            "│e f  │h i j│\n",
            "└─────┴─────┘\n"
          ],
          "name": "stdout",
          "output_type": "stream"
        }
      ],
      "source": [
        "⍝ trim nodes\n",
        "i←labels⍳'c'\n",
        "parent[i]←i\n",
        "labels PPV parent"
      ]
    },
    {
      "cell_type": "code",
      "execution_count": 15,
      "id": "7fac291d-b9de-4d17-92b7-6d633819d0d8",
      "metadata": {},
      "outputs": [
        {
          "text": [
            "┌─────┬─────┐\n",
            "│  3  │  5  │\n",
            "│ ┌┴─┐│  │  │\n",
            "│ 1  4│  9  │\n",
            "│┌┴┐  │┌─┼─┐│\n",
            "│4 1  │2 6 5│\n",
            "└─────┴─────┘\n"
          ],
          "name": "stdout",
          "output_type": "stream"
        },
        {
          "text": [
            "┌─────┬─────┐\n",
            "│  0  │  0  │\n",
            "│ ┌┴─┐│  │  │\n",
            "│ 1  1│  1  │\n",
            "│┌┴┐  │┌─┼─┐│\n",
            "│2 2  │2 2 2│\n",
            "└─────┴─────┘\n"
          ],
          "name": "stdout",
          "output_type": "stream"
        }
      ],
      "source": [
        "⍝ you can have any kind of data associated\n",
        "numbers←3 1 4 1 5 9 2 6 5 4\n",
        "numbers PPV parent\n",
        "\n",
        "depth←0 1 2 2 0 1 2 2 2 1\n",
        "depth PPV parent"
      ]
    },
    {
      "cell_type": "code",
      "execution_count": 17,
      "id": "fe94b297-a61b-4f5b-a297-7a2515907993",
      "metadata": {},
      "outputs": [
        {
          "text": [
            "┌─────┬─────┐\n",
            "│  26 │  54 │\n",
            "│ ┌┴─┐│  │  │\n",
            "│ 6  4│  22 │\n",
            "│┌┴┐  │┌─┼─┐│\n",
            "│4 1  │2 6 5│\n",
            "└─────┴─────┘\n"
          ],
          "name": "stdout",
          "output_type": "stream"
        }
      ],
      "source": [
        "⍝ bottom up traversal\n",
        "total←numbers\n",
        "{\n",
        "    i←⍸depth=⍵\n",
        "    total[parent[i]]+←total[i]\n",
        "}¨⌽⍳1+⌈/depth\n",
        "total PPV parent"
      ]
    }
  ],
  "metadata": {
    "kernelspec": {
      "display_name": "Dyalog APL",
      "language": "apl",
      "name": "dyalog_apl"
    },
    "language_info": {
      "file_extension": ".apl",
      "mimetype": "text/apl",
      "name": "APL"
    }
  },
  "nbformat": 4,
  "nbformat_minor": 5
}
