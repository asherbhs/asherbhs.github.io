{
 "cells": [
  {
   "cell_type": "markdown",
   "id": "fb923aa9-2f87-4249-900c-8579b431ef93",
   "metadata": {},
   "source": [
    "# Trees at Minnowbrook"
   ]
  },
  {
   "cell_type": "code",
   "execution_count": 1,
   "id": "61ca9ce8-4ede-468d-a7e6-61ec4e97ca7d",
   "metadata": {},
   "outputs": [
    {
     "data": {
      "text/html": [
       "<pre class=\"language-APL\">Was OFF\n",
       "</pre>"
      ]
     },
     "execution_count": 1,
     "metadata": {},
     "output_type": "execute_result"
    }
   ],
   "source": [
    "⎕IO←0\n",
    "⎕PW←12345\n",
    "]BOX on"
   ]
  },
  {
   "cell_type": "raw",
   "id": "dbcda966-649b-4185-9418-681836b9f6b1",
   "metadata": {},
   "source": [
    "desktop/\n",
    "├── drawer\n",
    "│   ├── document.md\n",
    "│   └── notebook.ipynb\n",
    "├── empty-mug\n",
    "├── my-wallet\n",
    "│   ├── card-slot\n",
    "│   │   └── id\n",
    "│   └── coin-pouch\n",
    "│       ├── cent\n",
    "│       ├── dime\n",
    "│       ├── nickel\n",
    "│       └── quarter\n",
    "├── pen.cil\n",
    "├── plant-pot\n",
    "│   └── aloe.vera\n",
    "├── .secret-compartment\n",
    "│   ├── chocolate.bar\n",
    "│   └── ufo.evidence\n",
    "└── todo.txt"
   ]
  },
  {
   "cell_type": "code",
   "execution_count": 2,
   "id": "98617a9a-6e92-4fb2-9aa7-ed253ea73b82",
   "metadata": {},
   "outputs": [
    {
     "data": {
      "text/html": [
       "<pre class=\"language-APL\">TODO NESTED\n",
       "</pre>"
      ]
     },
     "execution_count": 2,
     "metadata": {},
     "output_type": "execute_result"
    }
   ],
   "source": [
    "'TODO NESTED'"
   ]
  },
  {
   "cell_type": "raw",
   "id": "c5b9cb65-8875-42fe-a5bb-147e74132ee3",
   "metadata": {},
   "source": [
    "TODO DIAGRAM\n",
    "       ┌─┬─────┬─┬─┬─────────┬─┐  ┌─┐   ┌──┬──┬──┬──┐\n",
    "       ↓ │     │ │ │         │ │  ↓ │   ↓  │  │  │  │\n",
    "parent←0 0 1 1 0 0 0 6 0 8 8 0 0 12 13 12 15 15 15 15\n",
    "         ↑ │ │     ↑ │ ↑ │ │   ↑ │     │\n",
    "         └─┴─┘     └─┘ └─┴─┘   └─┴─────┘"
   ]
  },
  {
   "cell_type": "code",
   "execution_count": 20,
   "id": "4d10a8bc-a92a-48e8-8760-07aaa83b8c46",
   "metadata": {
    "scrolled": true
   },
   "outputs": [
    {
     "data": {
      "text/html": [
       "<pre class=\"language-APL\">┌──┬───────────────────┬───┬─┐\n",
       "│0 │desktop            │134│0│\n",
       "├──┼───────────────────┼───┼─┤\n",
       "│0 │drawer             │40 │0│\n",
       "├──┼───────────────────┼───┼─┤\n",
       "│1 │document.md        │129│1│\n",
       "├──┼───────────────────┼───┼─┤\n",
       "│1 │notebook.ipynb     │135│1│\n",
       "├──┼───────────────────┼───┼─┤\n",
       "│0 │empty-mug          │0  │0│\n",
       "├──┼───────────────────┼───┼─┤\n",
       "│0 │my-wallet          │38 │0│\n",
       "├──┼───────────────────┼───┼─┤\n",
       "│5 │card-slot          │4  │0│\n",
       "├──┼───────────────────┼───┼─┤\n",
       "│6 │id                 │20 │1│\n",
       "├──┼───────────────────┼───┼─┤\n",
       "│5 │coin-pouch         │42 │0│\n",
       "├──┼───────────────────┼───┼─┤\n",
       "│8 │cent               │1  │1│\n",
       "├──┼───────────────────┼───┼─┤\n",
       "│8 │dime               │5  │1│\n",
       "├──┼───────────────────┼───┼─┤\n",
       "│8 │nickel             │10 │1│\n",
       "├──┼───────────────────┼───┼─┤\n",
       "│8 │quarter            │25 │1│\n",
       "├──┼───────────────────┼───┼─┤\n",
       "│0 │pen.cil            │77 │1│\n",
       "├──┼───────────────────┼───┼─┤\n",
       "│0 │plant-pot          │18 │0│\n",
       "├──┼───────────────────┼───┼─┤\n",
       "│14│aloe.vera          │774│1│\n",
       "├──┼───────────────────┼───┼─┤\n",
       "│0 │.secret-compartment│50 │0│\n",
       "├──┼───────────────────┼───┼─┤\n",
       "│16│chocolate.bar      │340│1│\n",
       "├──┼───────────────────┼───┼─┤\n",
       "│16│ufo.evidence       │5  │1│\n",
       "├──┼───────────────────┼───┼─┤\n",
       "│0 │todo.txt           │95 │1│\n",
       "└──┴───────────────────┴───┴─┘\n",
       "</pre>"
      ]
     },
     "execution_count": 20,
     "metadata": {},
     "output_type": "execute_result"
    }
   ],
   "source": [
    "parent←0 0 1 1 0 0 5 6 5 8 8 8 8 0 0 14 0 16 16 0\n",
    "name←'desktop' 'drawer' 'document.md' 'notebook.ipynb' 'empty-mug' 'my-wallet' 'card-slot' 'id' 'coin-pouch' 'cent' 'dime' 'nickel' 'quarter' 'pen.cil' 'plant-pot' 'aloe.vera' '.secret-compartment' 'chocolate.bar' 'ufo.evidence' 'todo.txt'\n",
    "size←134 40 129 135 0 38 4 20 42 1 5 10 25 77 18 774 50 340 5 95\n",
    "isFile←0 0 1 1 0 0 0 1 0 1 1 1 1 1 0 1 0 1 1 1\n",
    "⍉↑parent name size isFile"
   ]
  },
  {
   "cell_type": "code",
   "execution_count": 4,
   "id": "9d11f101-1e31-4210-b189-ee1c53e067f7",
   "metadata": {
    "jupyter": {
     "source_hidden": true
    }
   },
   "outputs": [],
   "source": [
    "Depths←{ ⍝ find the depths of each node in a parent vector\n",
    "    ⍝ ←: a vector of the depths of each node in the input\n",
    "    p←⍵    ⍝ input parent vector\n",
    "    depths←(≢p)⍴0\n",
    "    StepUp←{ ⍝ step up the tree and increment depths\n",
    "        q←p[⍵]\n",
    "        depths+←⍵≠q\n",
    "        q\n",
    "    }\n",
    "    _←StepUp⍣≡⍳≢p\n",
    "    depths\n",
    "}\n",
    "\n",
    "_PrettyPrint_←{ ⍝ renders a tree given labels, box drawing characters, and padding\n",
    "    ⍝ ←: vector of character matrices, each a labelled rendering of a tree in the forest given by the input parent vector\n",
    "    labels    ←⍺     ⍝ vector of character matrices giving the labels for each node\n",
    "    connectors←⍺⍺    ⍝ box drawing characters to render the tree, e.g: '─┌┬┐│┴├┼┤│' (normal, and upstruck)\n",
    "    spaces    ←⍵⍵    ⍝ number of spaces to pad with between sub-trees\n",
    "    p         ←⍵     ⍝ parent vector\n",
    "    d←Depths p\n",
    "    maxDepth←⌈/d\n",
    "    results←labels         ⍝ result of rendering each sub-tree, seeded with labels\n",
    "    maxDepth=0: results    ⍝ avoid the each running on the prototype\n",
    "    DoFamily←{ ⍝ render and record a sub-tree\n",
    "        ⍝ ⍺: parent node\n",
    "        ⍝ ⍵: rendered results of children\n",
    "        widths←(1⊃⍴)¨⍵                                                                           ⍝ widths of each rendered child\n",
    "        width←spaces-⍨+/spaces+widths                                                            ⍝ eventual width of the rendered tree       wwwwwww\n",
    "        centres←(+\\0,¯1↓spaces+widths)+¯1+⌈2÷⍨widths                                             ⍝ centres of each rendered sub-tree         ∘ss∘ss∘\n",
    "        result←width⍴' '                                                                         ⍝ header to be decorated                   '       '\n",
    "        result[(⊢⊢⍤/⍨((⊃⌽centres)>⊢)∧(⊃centres)<⊢)⍳width]←connectors[0]                          ⍝ add horizontal bar                       ' ───── '\n",
    "        result[   ⊃ centres]←connectors[1]                                                       ⍝ left end of bar                          '┌───── '\n",
    "        result[   ⊃⌽centres]←connectors[3]                                                       ⍝ right end of bar                         '┌─────┐'\n",
    "        result[¯1↓1↓centres]←connectors[2]                                                       ⍝ connectors to intermediate children      '┌──┬──┐'\n",
    "        result[(1=≢centres)⍴⊃centres]←connectors[4]                                              ⍝ if there's only one child, just make it a lone upstrike\n",
    "        centre←¯1+⌈2÷⍨width                                                                      ⍝ index of the centre of the rendered tree     ∘\n",
    "        result[centre]←connectors[5 6 7 8 9][connectors[0 1 2 3 4]⍳result[centre]]               ⍝ connector to the parent                  '┌──┼──┐'\n",
    "        result⍪←(-spaces)↓⍤1⊃,/,∘(spaces⍴' ')⍤1¨⍵↑¨⍨⌈/≢¨⍵                                        ⍝ pad labels, join under header\n",
    "        parentResult←⍺⊃results                                                                   ⍝ label of the parent\n",
    "        parentWidth←1⊃⍴parentResult                                                              ⍝ width of label of parent\n",
    "        parentCentre←¯1+⌈2÷⍨parentWidth                                                          ⍝ centre of label of parent\n",
    "        result      ←((centre-parentCentre)⌽parentWidth↑⍤1⊢)⍣(width<parentWidth)⊢result          ⍝ pad and recentre text so far if it's less wide\n",
    "        parentResult←((parentCentre-centre)⌽      width↑⍤1⊢)⍣(width>parentWidth)⊢parentResult    ⍝ pad and recentre parent label if it's less wide\n",
    "        result⍪⍨←parentResult                                                                    ⍝ add parent label\n",
    "        results[⍺]←⊂result                                                                       ⍝ record result\n",
    "        1\n",
    "    }\n",
    "    DoLayer←{ ⍝ render and record all nodes whose children have depth ⍵\n",
    "        ⍝ ⍵: depth to handle nodes at\n",
    "        i←⍸d=⍵    ⍝ nodes at this depth\n",
    "        _←p[i]DoFamily⌸results[i]\n",
    "        1\n",
    "    }\n",
    "    _←DoLayer¨⌽1+⍳maxDepth    ⍝ bottom up accumulation\n",
    "    results/⍨p=⍳≢p            ⍝ return results at roots only\n",
    "}\n",
    "\n",
    "PPV←{⍺←'∘' ⋄   ((≢⍵)⍴⍉⍤⍪⍤⍕¨'∘'@(0=≢¨)⍺)('─┌┬┐│┴├┼┤│'_PrettyPrint_ 1)⍵}    ⍝ vertical\n",
    "PPH←{⍺←'∘' ⋄ ⍉¨((≢⍵)⍴  ⍪⍤⍕¨'∘'@(0=≢¨)⍺)('│┌├└─┤┬┼┴─'_PrettyPrint_ 0)⍵}    ⍝ horizontal"
   ]
  },
  {
   "cell_type": "code",
   "execution_count": 21,
   "id": "4f9456eb-594b-41b0-8d20-995fb1ddf99e",
   "metadata": {},
   "outputs": [
    {
     "data": {
      "text/html": [
       "<pre class=\"language-APL\">┌─────────────────────────┐\n",
       "│            ∘            │\n",
       "│ ┌──┬─────┬─┴───┬─┬──┬──┐│\n",
       "│ ∘  ∘     ∘     ∘ ∘  ∘  ∘│\n",
       "│┌┴┐   ┌───┴┐      │ ┌┴┐  │\n",
       "│∘ ∘   ∘    ∘      ∘ ∘ ∘  │\n",
       "│      │ ┌─┬┴┬─┐          │\n",
       "│      ∘ ∘ ∘ ∘ ∘          │\n",
       "└─────────────────────────┘\n",
       "</pre>"
      ]
     },
     "execution_count": 21,
     "metadata": {},
     "output_type": "execute_result"
    },
    {
     "data": {
      "text/html": [
       "<pre class=\"language-APL\">┌──────────────────────────────────────┐\n",
       "│                 134                  │\n",
       "│   ┌────┬──────┬──┴────┬───┬────┬───┐ │\n",
       "│   40   0      38      77  18   50  95│\n",
       "│ ┌─┴─┐    ┌────┴─┐         │   ┌┴─┐   │\n",
       "│129 135   4      42       774 340 5   │\n",
       "│          │  ┌─┬─┼──┐                 │\n",
       "│          20 1 5 10 25                │\n",
       "└──────────────────────────────────────┘\n",
       "</pre>"
      ]
     },
     "execution_count": 21,
     "metadata": {},
     "output_type": "execute_result"
    },
    {
     "data": {
      "text/html": [
       "<pre class=\"language-APL\">┌─────────────────────────────────────────────────────────────────────────────────────────────────────────────────────────────┐\n",
       "│                                                           desktop                                                           │\n",
       "│            ┌──────────────────┬─────────────────────┬────────┴────────────┬────────┬─────────────────┬─────────────────┐    │\n",
       "│          drawer           empty-mug             my-wallet              pen.cil plant-pot    .secret-compartment     todo.txt│\n",
       "│     ┌──────┴─────┐                      ┌───────────┴────┐                         │           ┌─────┴──────┐               │\n",
       "│document.md notebook.ipynb           card-slot        coin-pouch                aloe.vera chocolate.bar ufo.evidence         │\n",
       "│                                         │      ┌────┬────┴┬───────┐                                                         │\n",
       "│                                         id    cent dime nickel quarter                                                      │\n",
       "└─────────────────────────────────────────────────────────────────────────────────────────────────────────────────────────────┘\n",
       "</pre>"
      ]
     },
     "execution_count": 21,
     "metadata": {},
     "output_type": "execute_result"
    },
    {
     "data": {
      "text/html": [
       "<pre class=\"language-APL\">┌─────────────────────────────────────────┐\n",
       "│       ┌drawer┬document.md               │\n",
       "│       │      └notebook.ipynb            │\n",
       "│       ├empty-mug                        │\n",
       "│       │         ┌card-slot─id           │\n",
       "│       │         │          ┌cent        │\n",
       "│       ├my-wallet┴coin-pouch┼dime        │\n",
       "│desktop┤                    ├nickel      │\n",
       "│       │                    └quarter     │\n",
       "│       ├pen.cil                          │\n",
       "│       ├plant-pot─aloe.vera              │\n",
       "│       ├.secret-compartment┬chocolate.bar│\n",
       "│       │                   └ufo.evidence │\n",
       "│       └todo.txt                         │\n",
       "└─────────────────────────────────────────┘\n",
       "</pre>"
      ]
     },
     "execution_count": 21,
     "metadata": {},
     "output_type": "execute_result"
    }
   ],
   "source": [
    "PPV parent\n",
    "size PPV parent\n",
    "name PPV parent\n",
    "name PPH parent"
   ]
  },
  {
   "cell_type": "markdown",
   "id": "a7572fb1-9eda-4a8e-b740-de31dbac0551",
   "metadata": {},
   "source": [
    "There are actually a lot of things we can do without the tree structure!\n",
    "\n",
    "**Exercise:** Find all files with a size greater than $100$."
   ]
  },
  {
   "cell_type": "raw",
   "id": "1f326bcd-ddfb-4642-9c20-72ecfdfec491",
   "metadata": {},
   "source": [
    "SPOILERS LIE AHEAD\n",
    "\n",
    "\n",
    "\n",
    "\n",
    "\n",
    "\n",
    "\n",
    "\n",
    "\n"
   ]
  },
  {
   "cell_type": "code",
   "execution_count": 23,
   "id": "b2252803-6f44-460e-a2eb-37b0ea90431d",
   "metadata": {},
   "outputs": [
    {
     "data": {
      "text/html": [
       "<pre class=\"language-APL\">┌───────────┬──────────────┬─────────┬─────────────┐\n",
       "│document.md│notebook.ipynb│aloe.vera│chocolate.bar│\n",
       "└───────────┴──────────────┴─────────┴─────────────┘\n",
       "</pre>"
      ]
     },
     "execution_count": 23,
     "metadata": {},
     "output_type": "execute_result"
    }
   ],
   "source": [
    "name/⍨isFile∧size>100"
   ]
  },
  {
   "cell_type": "markdown",
   "id": "04b42cc3-42ba-4078-a287-94b7ca63cdbd",
   "metadata": {},
   "source": [
    "**Exercise:** Find (as a mask or a vector of indices) the nodes which are immediate children of `desktop`."
   ]
  },
  {
   "cell_type": "raw",
   "id": "b216ea4f-dc5a-4ce4-98b6-5ea782ecd316",
   "metadata": {},
   "source": [
    "SPOILERS LIE AHEAD\n",
    "\n",
    "\n",
    "\n",
    "\n",
    "\n",
    "\n",
    "\n",
    "\n",
    "\n"
   ]
  },
  {
   "cell_type": "code",
   "execution_count": 24,
   "id": "fde4bb50-b41b-4560-b72d-51c1cf4eb682",
   "metadata": {},
   "outputs": [
    {
     "data": {
      "text/html": [
       "<pre class=\"language-APL\">┌───────┬──────┬─────────┬─────────┬───────┬─────────┬───────────────────┬────────┐\n",
       "│desktop│drawer│empty-mug│my-wallet│pen.cil│plant-pot│.secret-compartment│todo.txt│\n",
       "└───────┴──────┴─────────┴─────────┴───────┴─────────┴───────────────────┴────────┘\n",
       "</pre>"
      ]
     },
     "execution_count": 24,
     "metadata": {},
     "output_type": "execute_result"
    },
    {
     "data": {
      "text/html": [
       "<pre class=\"language-APL\">┌───────┬──────┬─────────┬─────────┬───────┬─────────┬───────────────────┬────────┐\n",
       "│desktop│drawer│empty-mug│my-wallet│pen.cil│plant-pot│.secret-compartment│todo.txt│\n",
       "└───────┴──────┴─────────┴─────────┴───────┴─────────┴───────────────────┴────────┘\n",
       "</pre>"
      ]
     },
     "execution_count": 24,
     "metadata": {},
     "output_type": "execute_result"
    }
   ],
   "source": [
    "name[⍸'desktop'∘≡¨name[parent]]\n",
    "name[⍸parent=name⍳⊂'desktop']"
   ]
  },
  {
   "cell_type": "markdown",
   "id": "e68125ee-1d67-47bb-920a-677238995c9e",
   "metadata": {},
   "source": [
    "Note that this includes the root `desktop`. Since this is a self-loop, it often needs special handling."
   ]
  },
  {
   "cell_type": "markdown",
   "id": "4e907bf9-8753-4ba1-9387-1071ff18f044",
   "metadata": {},
   "source": [
    "We can adapt this to find, for instance, the immediate children of `drawer` and `plant-pot`."
   ]
  },
  {
   "cell_type": "code",
   "execution_count": 25,
   "id": "6c59e75e-3c34-4557-9d58-750445345ff3",
   "metadata": {},
   "outputs": [
    {
     "data": {
      "text/html": [
       "<pre class=\"language-APL\">┌───────────┬──────────────┬─────────┐\n",
       "│document.md│notebook.ipynb│aloe.vera│\n",
       "└───────────┴──────────────┴─────────┘\n",
       "</pre>"
      ]
     },
     "execution_count": 25,
     "metadata": {},
     "output_type": "execute_result"
    },
    {
     "data": {
      "text/html": [
       "<pre class=\"language-APL\">┌───────────┬──────────────┬─────────┐\n",
       "│document.md│notebook.ipynb│aloe.vera│\n",
       "└───────────┴──────────────┴─────────┘\n",
       "</pre>"
      ]
     },
     "execution_count": 25,
     "metadata": {},
     "output_type": "execute_result"
    }
   ],
   "source": [
    "name[⍸name[parent]∊'drawer' 'plant-pot']\n",
    "name[⍸parent∊name⍳'drawer' 'plant-pot']"
   ]
  },
  {
   "cell_type": "markdown",
   "id": "244e9c38-3c6a-4ce7-967d-0aed5a906d24",
   "metadata": {},
   "source": [
    "**Exercise:** Find all the leaves of our tree.\n",
    "\n",
    "Note: this is not the same as all the files (that would be `isFile`) since an empty directory is also a leaf."
   ]
  },
  {
   "cell_type": "raw",
   "id": "c4d2973f-4b8b-4f3b-90d6-8e710d9a02fd",
   "metadata": {},
   "source": [
    "SPOILERS LIE AHEAD\n",
    "\n",
    "\n",
    "\n",
    "\n",
    "\n",
    "\n",
    "\n",
    "\n",
    "\n"
   ]
  },
  {
   "cell_type": "code",
   "execution_count": 26,
   "id": "b9c103af-b0c2-4940-b023-5b4a3586fc48",
   "metadata": {},
   "outputs": [
    {
     "data": {
      "text/html": [
       "<pre class=\"language-APL\">┌───────────┬──────────────┬─────────┬──┬────┬────┬──────┬───────┬───────┬─────────┬─────────────┬────────────┬────────┐\n",
       "│document.md│notebook.ipynb│empty-mug│id│cent│dime│nickel│quarter│pen.cil│aloe.vera│chocolate.bar│ufo.evidence│todo.txt│\n",
       "└───────────┴──────────────┴─────────┴──┴────┴────┴──────┴───────┴───────┴─────────┴─────────────┴────────────┴────────┘\n",
       "</pre>"
      ]
     },
     "execution_count": 26,
     "metadata": {},
     "output_type": "execute_result"
    }
   ],
   "source": [
    "name[⍸~(⍳≢parent)∊parent]"
   ]
  },
  {
   "cell_type": "markdown",
   "id": "cac47958-ff2b-4b3a-9920-68e85f8ef8e7",
   "metadata": {},
   "source": [
    "Note: forests can also be represented"
   ]
  },
  {
   "cell_type": "code",
   "execution_count": 10,
   "id": "0ae9c367-b0b2-4a5a-b509-e7958408d7a7",
   "metadata": {},
   "outputs": [
    {
     "data": {
      "text/html": [
       "<pre class=\"language-APL\">┌───┬───┐\n",
       "│ ∘ │ ∘ │\n",
       "│┌┴┐│┌┴┐│\n",
       "│∘ ∘│∘ ∘│\n",
       "└───┴───┘\n",
       "</pre>"
      ]
     },
     "execution_count": 10,
     "metadata": {},
     "output_type": "execute_result"
    }
   ],
   "source": [
    "PPV 0 0 0 3 3 3"
   ]
  },
  {
   "cell_type": "markdown",
   "id": "758f9121-e84c-4339-8ded-0f0586f6ad68",
   "metadata": {},
   "source": [
    "**Exercise:** Break `my-wallet` off to its own tree."
   ]
  },
  {
   "cell_type": "raw",
   "id": "07a48415-356b-4d51-9039-08ed34db449b",
   "metadata": {},
   "source": [
    "SPOILERS LIE AHEAD\n",
    "\n",
    "\n",
    "\n",
    "\n",
    "\n",
    "\n",
    "\n",
    "\n",
    "\n"
   ]
  },
  {
   "cell_type": "code",
   "execution_count": 27,
   "id": "a9ecabb4-0f80-4063-998c-cd74fe2b306f",
   "metadata": {},
   "outputs": [],
   "source": [
    "i←name⍳⊂'my-wallet'\n",
    "parent[i]←i"
   ]
  },
  {
   "cell_type": "code",
   "execution_count": 28,
   "id": "804b765d-ecde-45d2-9434-2ff3d03008e0",
   "metadata": {},
   "outputs": [
    {
     "data": {
      "text/html": [
       "<pre class=\"language-APL\">┌─────────────────────────────────────────┬────────────────────────────┐\n",
       "│       ┌drawer┬document.md               │         ┌card-slot─id      │\n",
       "│       │      └notebook.ipynb            │         │          ┌cent   │\n",
       "│       ├empty-mug                        │my-wallet┴coin-pouch┼dime   │\n",
       "│desktop┼pen.cil                          │                    ├nickel │\n",
       "│       ├plant-pot─aloe.vera              │                    └quarter│\n",
       "│       ├.secret-compartment┬chocolate.bar│                            │\n",
       "│       │                   └ufo.evidence │                            │\n",
       "│       └todo.txt                         │                            │\n",
       "└─────────────────────────────────────────┴────────────────────────────┘\n",
       "</pre>"
      ]
     },
     "execution_count": 28,
     "metadata": {},
     "output_type": "execute_result"
    }
   ],
   "source": [
    "name PPH parent"
   ]
  },
  {
   "cell_type": "markdown",
   "id": "c2d24c49-f636-4563-8290-be307b5b66b3",
   "metadata": {},
   "source": [
    "It may be useful to know each node's root, here's how we do that:"
   ]
  },
  {
   "cell_type": "code",
   "execution_count": 29,
   "id": "f1aa7aa9-9e6b-43ca-83a9-9fe29d8d8abc",
   "metadata": {},
   "outputs": [
    {
     "data": {
      "text/html": [
       "<pre class=\"language-APL\">┌─────┬─────┐\n",
       "│ ┌0┬0│ ┌5─5│\n",
       "│ │ └0│ │ ┌5│\n",
       "│ ├0  │5┴5┼5│\n",
       "│0┼0  │   ├5│\n",
       "│ ├0─0│   └5│\n",
       "│ ├0┬0│     │\n",
       "│ │ └0│     │\n",
       "│ └0  │     │\n",
       "└─────┴─────┘\n",
       "</pre>"
      ]
     },
     "execution_count": 29,
     "metadata": {},
     "output_type": "execute_result"
    }
   ],
   "source": [
    "root←{parent[⍵]}⍣≡parent\n",
    "root←{⍵[⍵]}⍣≡parent\n",
    "root PPH parent"
   ]
  },
  {
   "cell_type": "markdown",
   "id": "248b7b54-d20c-43c4-a5e6-b1e6812290d2",
   "metadata": {},
   "source": [
    "Let's reset the tree."
   ]
  },
  {
   "cell_type": "code",
   "execution_count": 30,
   "id": "5378ce13-7e9a-4657-ac1e-d25f5247d9ca",
   "metadata": {},
   "outputs": [
    {
     "data": {
      "text/html": [
       "<pre class=\"language-APL\">┌─────────────────────────────────────────┐\n",
       "│       ┌drawer┬document.md               │\n",
       "│       │      └notebook.ipynb            │\n",
       "│       ├empty-mug                        │\n",
       "│       │         ┌card-slot─id           │\n",
       "│       │         │          ┌cent        │\n",
       "│       ├my-wallet┴coin-pouch┼dime        │\n",
       "│desktop┤                    ├nickel      │\n",
       "│       │                    └quarter     │\n",
       "│       ├pen.cil                          │\n",
       "│       ├plant-pot─aloe.vera              │\n",
       "│       ├.secret-compartment┬chocolate.bar│\n",
       "│       │                   └ufo.evidence │\n",
       "│       └todo.txt                         │\n",
       "└─────────────────────────────────────────┘\n",
       "</pre>"
      ]
     },
     "execution_count": 30,
     "metadata": {},
     "output_type": "execute_result"
    }
   ],
   "source": [
    "parent[i]←0\n",
    "name PPH parent"
   ]
  },
  {
   "cell_type": "markdown",
   "id": "891557a8-4d8e-4a7d-9151-b0784df17958",
   "metadata": {},
   "source": [
    "**Exercise:** Adapt the root-finding method to find all the nodes which are equal to or a child of `wallet`."
   ]
  },
  {
   "cell_type": "raw",
   "id": "04cb2f14-c561-4058-8903-c6cbda12df0d",
   "metadata": {},
   "source": [
    "SPOILERS LIE AHEAD\n",
    "\n",
    "\n",
    "\n",
    "\n",
    "\n",
    "\n",
    "\n",
    "\n",
    "\n"
   ]
  },
  {
   "cell_type": "code",
   "execution_count": 31,
   "id": "74bc95c1-94a9-490a-8ce9-51c289b5fd2d",
   "metadata": {},
   "outputs": [
    {
     "data": {
      "text/html": [
       "<pre class=\"language-APL\">┌───────┐\n",
       "│ ┌0┬0  │\n",
       "│ │ └0  │\n",
       "│ ├0    │\n",
       "│ │ ┌1─1│\n",
       "│ │ │ ┌1│\n",
       "│ ├1┴1┼1│\n",
       "│0┤   ├1│\n",
       "│ │   └1│\n",
       "│ ├0    │\n",
       "│ ├0─0  │\n",
       "│ ├0┬0  │\n",
       "│ │ └0  │\n",
       "│ └0    │\n",
       "└───────┘\n",
       "</pre>"
      ]
     },
     "execution_count": 31,
     "metadata": {},
     "output_type": "execute_result"
    }
   ],
   "source": [
    "i←name⍳⊂'my-wallet'\n",
    "mask←i={parent[⍵]}@(≠∘i)⍣≡⍳≢parent\n",
    "mask PPH parent"
   ]
  },
  {
   "cell_type": "markdown",
   "id": "91aba0b3-8804-4a53-aa9b-d0b7854708b9",
   "metadata": {},
   "source": [
    "There are two ways to delete nodes."
   ]
  },
  {
   "cell_type": "code",
   "execution_count": 32,
   "id": "72f2de25-3a58-467f-bbff-6f41a6a4119b",
   "metadata": {},
   "outputs": [
    {
     "data": {
      "text/html": [
       "<pre class=\"language-APL\">┌─────────────────────────┐\n",
       "│            ∘            │\n",
       "│ ┌──┬─────┬─┴───┬─┬──┬──┐│\n",
       "│ ∘  ∘     ∘     ∘ ∘  ∘  ∘│\n",
       "│┌┴┐   ┌───┴┐      │ ┌┴┐  │\n",
       "│∘ ∘   ∘    ∘      ∘ ∘ ∘  │\n",
       "│      │ ┌─┬┴┬─┐          │\n",
       "│      ∘ ∘ ∘ ∘ ∘          │\n",
       "└─────────────────────────┘\n",
       "</pre>"
      ]
     },
     "execution_count": 32,
     "metadata": {},
     "output_type": "execute_result"
    },
    {
     "data": {
      "text/html": [
       "<pre class=\"language-APL\">┌───────────────┐\n",
       "│       ∘       │\n",
       "│ ┌──┬─┬┴┬──┬──┐│\n",
       "│ ∘  ∘ ∘ ∘  ∘  ∘│\n",
       "│┌┴┐     │ ┌┴┐  │\n",
       "│∘ ∘     ∘ ∘ ∘  │\n",
       "└───────────────┘\n",
       "</pre>"
      ]
     },
     "execution_count": 32,
     "metadata": {},
     "output_type": "execute_result"
    }
   ],
   "source": [
    "parentBackup←parent\n",
    "PPV parent\n",
    "\n",
    "⍝ first way\n",
    "parent←(~mask)/parent\n",
    "parent-←(+\\mask)[parent]\n",
    "PPV parent"
   ]
  },
  {
   "cell_type": "code",
   "execution_count": 33,
   "id": "91cb0ddf-1557-41cc-b1ce-a6c763c9c69f",
   "metadata": {},
   "outputs": [
    {
     "data": {
      "text/html": [
       "<pre class=\"language-APL\">┌─────────────────────────┐\n",
       "│            ∘            │\n",
       "│ ┌──┬─────┬─┴───┬─┬──┬──┐│\n",
       "│ ∘  ∘     ∘     ∘ ∘  ∘  ∘│\n",
       "│┌┴┐   ┌───┴┐      │ ┌┴┐  │\n",
       "│∘ ∘   ∘    ∘      ∘ ∘ ∘  │\n",
       "│      │ ┌─┬┴┬─┐          │\n",
       "│      ∘ ∘ ∘ ∘ ∘          │\n",
       "└─────────────────────────┘\n",
       "</pre>"
      ]
     },
     "execution_count": 33,
     "metadata": {},
     "output_type": "execute_result"
    },
    {
     "data": {
      "text/html": [
       "<pre class=\"language-APL\">┌───────────────┐\n",
       "│       ∘       │\n",
       "│ ┌──┬─┬┴┬──┬──┐│\n",
       "│ ∘  ∘ ∘ ∘  ∘  ∘│\n",
       "│┌┴┐     │ ┌┴┐  │\n",
       "│∘ ∘     ∘ ∘ ∘  │\n",
       "└───────────────┘\n",
       "</pre>"
      ]
     },
     "execution_count": 33,
     "metadata": {},
     "output_type": "execute_result"
    }
   ],
   "source": [
    "parent←parentBackup\n",
    "PPV parent\n",
    "\n",
    "⍝ second way\n",
    "parent←(~mask)/parent\n",
    "parent-←1+(⍸mask)⍸parent\n",
    "PPV parent"
   ]
  },
  {
   "cell_type": "markdown",
   "id": "03502e99-7f3d-44a6-b393-509a336cf00b",
   "metadata": {},
   "source": [
    "**Exercise:** Using either of the methods discussed above, delete the hidden directories (those whose names begin with a `.`) from the tree."
   ]
  },
  {
   "cell_type": "code",
   "execution_count": 34,
   "id": "cb89227b-2ba5-4298-96c1-6026f6a03009",
   "metadata": {},
   "outputs": [],
   "source": [
    "parent←parentBackup"
   ]
  },
  {
   "cell_type": "code",
   "execution_count": 35,
   "id": "a46568e4-2d69-48a3-8b9d-baadbd05b6ad",
   "metadata": {},
   "outputs": [
    {
     "data": {
      "text/html": [
       "<pre class=\"language-APL\">┌────────────────────────────────────┐\n",
       "│       ┌drawer┬document.md          │\n",
       "│       │      └notebook.ipynb       │\n",
       "│       ├empty-mug                   │\n",
       "│       │         ┌card-slot─id      │\n",
       "│       │         │          ┌cent   │\n",
       "│desktop┼my-wallet┴coin-pouch┼dime   │\n",
       "│       │                    ├nickel │\n",
       "│       │                    └quarter│\n",
       "│       ├pen.cil                     │\n",
       "│       ├plant-pot─aloe.vera         │\n",
       "│       └todo.txt                    │\n",
       "└────────────────────────────────────┘\n",
       "</pre>"
      ]
     },
     "execution_count": 35,
     "metadata": {},
     "output_type": "execute_result"
    }
   ],
   "source": [
    "hidden←⍸'.'=⊃¨name\n",
    "hidden←0≠{parent[⍵]}@{~⍵∊hidden}⍣≡⍳≢parent\n",
    "mask←~hidden\n",
    "parent/⍨←mask\n",
    "parent-←(+\\hidden)[parent]\n",
    "name  /⍨←mask\n",
    "size  /⍨←mask\n",
    "isFile/⍨←mask\n",
    "\n",
    "name PPH parent"
   ]
  },
  {
   "cell_type": "code",
   "execution_count": null,
   "id": "731a9722-d9b9-40a4-a0b9-50ed5dfd181c",
   "metadata": {},
   "outputs": [],
   "source": []
  }
 ],
 "metadata": {
  "kernelspec": {
   "display_name": "Dyalog APL",
   "language": "apl",
   "name": "dyalog_apl"
  },
  "language_info": {
   "file_extension": ".apl",
   "mimetype": "text/apl",
   "name": "APL"
  }
 },
 "nbformat": 4,
 "nbformat_minor": 5
}
