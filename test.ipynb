{
 "cells": [
  {
   "cell_type": "markdown",
   "id": "9632f55d",
   "metadata": {},
   "source": [
    "test"
   ]
  },
  {
   "cell_type": "code",
   "execution_count": 2,
   "id": "65e26a00",
   "metadata": {},
   "outputs": [],
   "source": [
    "]dinput\n",
    "F←{\n",
    "    x←⍵\n",
    "⍝   ┌x┐\n",
    "    x x\n",
    "}"
   ]
  },
  {
   "cell_type": "code",
   "execution_count": 3,
   "id": "ca0126fc",
   "metadata": {},
   "outputs": [],
   "source": [
    "∇ r←G x\n",
    "    r←x x\n",
    "∇"
   ]
  },
  {
   "cell_type": "code",
   "execution_count": null,
   "id": "5b592203",
   "metadata": {},
   "outputs": [],
   "source": [
    "(+/÷≢)1 2 3\n",
    "⍝│ │└─count\n",
    "⍝│ └─divided by\n",
    "⍝└─sum"
   ]
  }
 ],
 "metadata": {
  "kernelspec": {
   "display_name": "Dyalog APL",
   "language": "apl",
   "name": "dyalog-kernel"
  },
  "language_info": {
   "file_extension": ".apl",
   "mimetype": "text/apl",
   "name": "APL"
  }
 },
 "nbformat": 4,
 "nbformat_minor": 5
}
