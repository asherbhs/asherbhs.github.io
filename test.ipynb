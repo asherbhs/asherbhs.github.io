{
 "cells": [
  {
   "cell_type": "markdown",
   "id": "be700076",
   "metadata": {},
   "source": [
    "test"
   ]
  },
  {
   "cell_type": "code",
   "execution_count": 1,
   "id": "2a74c1be",
   "metadata": {},
   "outputs": [],
   "source": [
    "]dinput\n",
    "F←{\n",
    "    x←⍵\n",
    "    x x\n",
    "}"
   ]
  },
  {
   "cell_type": "code",
   "execution_count": null,
   "id": "e337205e",
   "metadata": {},
   "outputs": [],
   "source": [
    "F 1"
   ]
  }
 ],
 "metadata": {
  "kernelspec": {
   "display_name": "Dyalog APL",
   "language": "apl",
   "name": "dyalog-kernel"
  },
  "language_info": {
   "file_extension": ".apl",
   "mimetype": "text/apl",
   "name": "APL"
  }
 },
 "nbformat": 4,
 "nbformat_minor": 5
}
