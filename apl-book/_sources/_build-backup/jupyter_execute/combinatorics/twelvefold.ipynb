{
 "cells": [
  {
   "cell_type": "markdown",
   "id": "ad2f1739",
   "metadata": {},
   "source": [
    "# The Twelvefold Way\n",
    "\n",
    "- three variables:\n",
    "    - labelling of balls\n",
    "    - labelling of boxes\n",
    "    - at most 1 ball, at least one ball, or any number of balls\n",
    "- problems conceptually in a `2 2 3` array\n",
    "- richard stanley and that other guy\n",
    "- twelvefold table, partially filled in with already seen problems\n",
    "- we're going to explore the rest of the problems, and enumerate possibilities for each\n",
    "\n",
    "\n",
    "\n",
    "## Implementing the Twelvefold Way\n",
    "\n",
    "- for each function, we can either have ball → box mappings, or box → ball mappings, or both!\n",
    "- for more information\n",
    "    - sudley place for nars2000 apl stuff\n",
    "    - taocp4a for imperative generation algorithms - we're doing recursive implementations\n",
    "- permutation function from aplcart"
   ]
  }
 ],
 "metadata": {
  "jupytext": {
   "formats": "md:myst",
   "text_representation": {
    "extension": ".md",
    "format_name": "myst",
    "format_version": 0.13,
    "jupytext_version": "1.11.5"
   }
  },
  "kernelspec": {
   "display_name": "Dyalog APL",
   "language": "Dyalog APL",
   "name": "dyalog_apl"
  },
  "language_info": {
   "file_extension": ".apl",
   "mimetype": "text/apl",
   "name": "APL"
  },
  "source_map": [
   13
  ]
 },
 "nbformat": 4,
 "nbformat_minor": 5
}