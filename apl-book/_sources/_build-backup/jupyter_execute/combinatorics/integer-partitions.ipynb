{
 "cells": [
  {
   "cell_type": "markdown",
   "id": "3cb1ab3f",
   "metadata": {},
   "source": [
    "# Integer Partitions"
   ]
  },
  {
   "cell_type": "code",
   "execution_count": 1,
   "id": "5ef17c15",
   "metadata": {},
   "outputs": [],
   "source": [
    "⎕IO←1"
   ]
  },
  {
   "cell_type": "markdown",
   "id": "1774d70d",
   "metadata": {},
   "source": [
    "So far, we've covered many different variations of our balls into boxes scenario. We're going to cover just one more before we tie them all up in a neat package. This last problem has a nice interpretation as partitioning a number into parts, and is also the first problem we're looking at which doesn't have a nice closed form for its count.\n",
    "\n",
    "We're going to consider the case where we have unlabelled balls, and unlabelled boxes. To begin with, we're also going to restrict ourselves to surjective functions, so there must be at least one ball in each box. This is equivalent to counting the number of ways to write the integer $k$ as the sum of $n$ positive integers. These are called the *integer partitions* of $k$ into $n$ parts (not to be confused with *set* partitions which we saw [in a previous section](./inclusion-exclusion.md). For example, there are $8$ partitions of $10$ into $3$ parts:"
   ]
  },
  {
   "cell_type": "code",
   "execution_count": 2,
   "id": "207d6e04",
   "metadata": {},
   "outputs": [
    {
     "data": {
      "text/html": [
       "<pre class=\"language-APL\"> 8 1 1 \n",
       " 7 2 1 \n",
       " 6 3 1 \n",
       " 6 2 2 \n",
       " 5 4 1 \n",
       " 5 3 2 \n",
       " 4 4 2 \n",
       " 4 3 3 \n",
       "</pre>"
      ]
     },
     "execution_count": 2,
     "metadata": {},
     "output_type": "execute_result"
    },
    {
     "data": {
      "text/html": [
       "<pre class=\"language-APL\">10 10 10 10 10 10 10 10\n",
       "</pre>"
      ]
     },
     "execution_count": 2,
     "metadata": {},
     "output_type": "execute_result"
    }
   ],
   "source": [
    "⍪p←(8 1 1) (7 2 1) (6 3 1) (6 2 2) (5 4 1) (5 3 2) (4 4 2) (4 3 3)\n",
    "+/¨p"
   ]
  },
  {
   "cell_type": "markdown",
   "id": "8395df25",
   "metadata": {},
   "source": [
    "We can think of each partition as a map of a balls into boxes placement, with each number indicating that many balls are placed in the box at that position."
   ]
  },
  {
   "cell_type": "code",
   "execution_count": 3,
   "id": "79082c0d",
   "metadata": {},
   "outputs": [
    {
     "data": {
      "text/html": [
       "<pre class=\"language-APL\"> ***** \n",
       " ***   \n",
       " **    \n",
       "</pre>"
      ]
     },
     "execution_count": 3,
     "metadata": {},
     "output_type": "execute_result"
    }
   ],
   "source": [
    "⍪5 3 2⍴¨'*'    ⍝ 5 balls in the first box, 3 in the second, and 2 in the third"
   ]
  },
  {
   "cell_type": "markdown",
   "id": "97761f60",
   "metadata": {},
   "source": [
    "Note that since our boxes are unlabelled, we don't care about the ordering of these numbers. The partition `7 2 1` is the same as the partition `2 1 7`. Labelling boxes leads to the 'stars and bars' scenario we looked at in the [previous section](./stars-bars.md). We'll be representing each partition with its terms in decreasing order, for consistency.\n",
    "\n",
    "If we remove the surjectivity restriction, we find ourselves counting ways to partition $k$ into *at most* $n$ parts. For example, there are $14$ ways to partition $10$ into at most $3$ parts."
   ]
  },
  {
   "cell_type": "code",
   "execution_count": 4,
   "id": "9da3162b",
   "metadata": {},
   "outputs": [
    {
     "data": {
      "text/html": [
       "<pre class=\"language-APL\"> 8 1 1 \n",
       " 7 2 1 \n",
       " 6 3 1 \n",
       " 6 2 2 \n",
       " 5 4 1 \n",
       " 5 3 2 \n",
       " 4 4 2 \n",
       " 4 3 3 \n",
       " 9 1   \n",
       " 8 2   \n",
       " 7 3   \n",
       " 6 4   \n",
       " 5 5   \n",
       " 10    \n",
       "</pre>"
      ]
     },
     "execution_count": 4,
     "metadata": {},
     "output_type": "execute_result"
    },
    {
     "data": {
      "text/html": [
       "<pre class=\"language-APL\">10 10 10 10 10 10 10 10 10 10 10 10 10 10\n",
       "</pre>"
      ]
     },
     "execution_count": 4,
     "metadata": {},
     "output_type": "execute_result"
    }
   ],
   "source": [
    "p,←(9 1) (8 2) (7 3) (6 4) (5 5) (,10)\n",
    "⍪p\n",
    "+/¨p"
   ]
  },
  {
   "cell_type": "markdown",
   "id": "6c9e1eb9",
   "metadata": {},
   "source": [
    "When we set $n$ to be greater than or equal to $k$, we count the number of ways to partition $k$ into *any number* of parts, since we can't have a partition longer than `1+1+..+1`. We won't enumerate all the ways to partition $10$ here because there are a lot of them, but if you like you can confirm that there are $42$.\n",
    "\n",
    "Sadly, there is no known closed form for any of these quantities! The only way to find them is to generate them, which we will get to in the next section, where we will also be implementing algorithms for all the counting problems we've seen so far. Before we do, let's look at some interesting properties of integer partitions.\n",
    "\n",
    "Let's visualise our balls into boxes placements again, this time as a matrix, with each ball indicated by a $1$."
   ]
  },
  {
   "cell_type": "code",
   "execution_count": 5,
   "id": "5661f002",
   "metadata": {},
   "outputs": [
    {
     "data": {
      "text/html": [
       "<pre class=\"language-APL\">1 1 1 1 1\n",
       "1 1 1 0 0\n",
       "1 1 0 0 0\n",
       "</pre>"
      ]
     },
     "execution_count": 5,
     "metadata": {},
     "output_type": "execute_result"
    }
   ],
   "source": [
    "5 3 2⍴⍤0⊢1"
   ]
  },
  {
   "cell_type": "markdown",
   "id": "3e886d76",
   "metadata": {},
   "source": [
    "This way of representing a partition is called a [*Young tableau*](https://en.wikipedia.org/wiki/Young_tableau)[^tableau], *Young diagram*, or *Ferrers diagram*.\n",
    "\n",
    "[^tableau]: We are using a slightly different representation to what you'll find in the linked article, where we have $0$s indicating the absence of a box. We could use a nested ragged array instead, but the matrix representation gives us some nice extra properties.\n",
    "\n",
    "Young tableaux of partitions suggest some interesting transformations we can perform on them. For instance, when we transpose a tableau, we get a new tableau which represents a different partition of the same integer:"
   ]
  },
  {
   "cell_type": "code",
   "execution_count": 6,
   "id": "1f360d7e",
   "metadata": {},
   "outputs": [
    {
     "data": {
      "text/html": [
       "<pre class=\"language-APL\">1 1 1 1 1\n",
       "1 1 1 0 0\n",
       "1 1 0 0 0\n",
       "</pre>"
      ]
     },
     "execution_count": 6,
     "metadata": {},
     "output_type": "execute_result"
    },
    {
     "data": {
      "text/html": [
       "<pre class=\"language-APL\">1 1 1\n",
       "1 1 1\n",
       "1 1 0\n",
       "1 0 0\n",
       "1 0 0\n",
       "</pre>"
      ]
     },
     "execution_count": 6,
     "metadata": {},
     "output_type": "execute_result"
    },
    {
     "data": {
      "text/html": [
       "<pre class=\"language-APL\">3 3 2 1 1\n",
       "</pre>"
      ]
     },
     "execution_count": 6,
     "metadata": {},
     "output_type": "execute_result"
    },
    {
     "data": {
      "text/html": [
       "<pre class=\"language-APL\">10 10\n",
       "</pre>"
      ]
     },
     "execution_count": 6,
     "metadata": {},
     "output_type": "execute_result"
    }
   ],
   "source": [
    "⊢p←5 3 2⍴⍤0⊢1\n",
    "⊢q←⍉p\n",
    "+/q\n",
    "(+/+/p) (+/+/q)"
   ]
  },
  {
   "cell_type": "markdown",
   "id": "d00feb2d",
   "metadata": {},
   "source": [
    "This is called the partition's *conjugate*. Since each partition has exactly one conjugate partition (`⍉` is a bijection on partitions), we know that the number of partitions of $k$ into $n$ parts must be the same as the number of partitions of $n$ into $k$ parts.\n",
    "\n",
    "Some partitions are *self-conjugate*. That is, their Young tableau is symmetric down its leading diagonal so the partition equals its conjugate. For example, `7 6 4 4 2 2 1` is a self-conjugate partition of $26$."
   ]
  },
  {
   "cell_type": "code",
   "execution_count": 7,
   "id": "49004a30",
   "metadata": {},
   "outputs": [
    {
     "data": {
      "text/html": [
       "<pre class=\"language-APL\">1 1 1 1 1 1 1\n",
       "1 1 1 1 1 1 0\n",
       "1 1 1 1 0 0 0\n",
       "1 1 1 1 0 0 0\n",
       "1 1 0 0 0 0 0\n",
       "1 1 0 0 0 0 0\n",
       "1 0 0 0 0 0 0\n",
       "</pre>"
      ]
     },
     "execution_count": 7,
     "metadata": {},
     "output_type": "execute_result"
    },
    {
     "data": {
      "text/html": [
       "<pre class=\"language-APL\">1\n",
       "</pre>"
      ]
     },
     "execution_count": 7,
     "metadata": {},
     "output_type": "execute_result"
    }
   ],
   "source": [
    "⊢p←7 6 4 4 2 2 1⍴⍤0⊢1\n",
    "p≡⍉p"
   ]
  },
  {
   "cell_type": "markdown",
   "id": "8cd1361c",
   "metadata": {},
   "source": [
    "It turns out that the number of self-conjugate partitions of some $k$ is exactly the same as the number of partitions of $k$ into distinct odd parts. For example, `13 9 3 1` has only odd terms, which are all different, so it is a distinct odd partition of $26$. To prove this, let's look at the Young diagram for our self-conjugate partition. We're going to label each ball by its 'layer' in the diagram."
   ]
  },
  {
   "cell_type": "code",
   "execution_count": 8,
   "id": "712a54ec",
   "metadata": {},
   "outputs": [
    {
     "data": {
      "text/html": [
       "<pre class=\"language-APL\">1 1 1 1 1 1 1\n",
       "1 1 1 1 1 1 0\n",
       "1 1 1 1 0 0 0\n",
       "1 1 1 1 0 0 0\n",
       "1 1 0 0 0 0 0\n",
       "1 1 0 0 0 0 0\n",
       "1 0 0 0 0 0 0\n",
       "</pre>"
      ]
     },
     "execution_count": 8,
     "metadata": {},
     "output_type": "execute_result"
    },
    {
     "data": {
      "text/html": [
       "<pre class=\"language-APL\">AAAAAAA\n",
       "ABBBBB \n",
       "ABCC   \n",
       "ABCD   \n",
       "AB     \n",
       "AB     \n",
       "A      \n",
       "</pre>"
      ]
     },
     "execution_count": 8,
     "metadata": {},
     "output_type": "execute_result"
    }
   ],
   "source": [
    "⊢p←7 6 4 4 2 2 1⍴⍤0⊢1\n",
    "⊢l←' ABCD'[1+p×∘.⌊⍨⍳≢p]"
   ]
  },
  {
   "cell_type": "markdown",
   "id": "5449bfff",
   "metadata": {},
   "source": [
    "If we count how many squares are labelled with each letter, we get exactly our distinct odd partition!"
   ]
  },
  {
   "cell_type": "code",
   "execution_count": 9,
   "id": "a885a498",
   "metadata": {},
   "outputs": [
    {
     "data": {
      "text/html": [
       "<pre class=\"language-APL\">13 9 3 1\n",
       "</pre>"
      ]
     },
     "execution_count": 9,
     "metadata": {},
     "output_type": "execute_result"
    }
   ],
   "source": [
    "'ABCD'(+/⍣2∘.=)l"
   ]
  },
  {
   "cell_type": "markdown",
   "id": "124324dd",
   "metadata": {},
   "source": [
    "This is because we can imagine 'unfolding' our self-conjugate tableau, so that each 'layer' matches a row of the tableau of a distinct odd partition like so:"
   ]
  },
  {
   "cell_type": "code",
   "execution_count": 10,
   "id": "7d56f4b1",
   "metadata": {},
   "outputs": [
    {
     "data": {
      "text/html": [
       "<pre class=\"language-APL\">AAAAAAA\n",
       "ABBBBB \n",
       "ABCC   \n",
       "ABCD   \n",
       "AB     \n",
       "AB     \n",
       "A      \n",
       "</pre>"
      ]
     },
     "execution_count": 10,
     "metadata": {},
     "output_type": "execute_result"
    },
    {
     "data": {
      "text/html": [
       "<pre class=\"language-APL\">AAAAAAAAAAAAA\n",
       "BBBBBBBBB    \n",
       "CCC          \n",
       "D            \n",
       "</pre>"
      ]
     },
     "execution_count": 10,
     "metadata": {},
     "output_type": "execute_result"
    }
   ],
   "source": [
    "p←7 6 4 4 2 2 1⍴⍤0⊢1\n",
    "' ABCD'[1+p×∘.⌊⍨⍳≢p]\n",
    "q←13 9 3 1⍴⍤0⊢1\n",
    "' ABCD'[1+q×⍤1 0⍳≢q]"
   ]
  },
  {
   "cell_type": "markdown",
   "id": "2edeac0d",
   "metadata": {},
   "source": [
    "That's a neat picture, but it takes some more effort to conclusively prove that this works. To do that, for each $1$ in a Young tableau, let's write the number of $1$s below and to the right of it, including the $1$ itself. We'll call these the *hook numbers* of each place."
   ]
  },
  {
   "cell_type": "code",
   "execution_count": 11,
   "id": "43823584",
   "metadata": {},
   "outputs": [
    {
     "data": {
      "text/html": [
       "<pre class=\"language-APL\">1 1 1 1 1 1 1\n",
       "1 1 1 1 1 1 0\n",
       "1 1 1 1 0 0 0\n",
       "1 1 1 1 0 0 0\n",
       "1 1 0 0 0 0 0\n",
       "1 1 0 0 0 0 0\n",
       "1 0 0 0 0 0 0\n",
       "</pre>"
      ]
     },
     "execution_count": 11,
     "metadata": {},
     "output_type": "execute_result"
    },
    {
     "data": {
      "text/html": [
       "<pre class=\"language-APL\">13 11 8 7 4 3 1\n",
       "11  9 6 5 2 1 0\n",
       " 8  6 3 2 0 0 0\n",
       " 7  5 2 1 0 0 0\n",
       " 4  2 0 0 0 0 0\n",
       " 3  1 0 0 0 0 0\n",
       " 1  0 0 0 0 0 0\n",
       "</pre>"
      ]
     },
     "execution_count": 11,
     "metadata": {},
     "output_type": "execute_result"
    }
   ],
   "source": [
    "p\n",
    "⊢h←⊖⌽(⊢-⍨+⍀++\\)⊖⌽p"
   ]
  },
  {
   "cell_type": "markdown",
   "id": "2e6674c3",
   "metadata": {},
   "source": [
    "Note the non-zero numbers on the leading diagonal - they are the terms of the distinct odd partition which corresponds to this self-conjugate partition."
   ]
  },
  {
   "cell_type": "code",
   "execution_count": 12,
   "id": "293fae2e",
   "metadata": {},
   "outputs": [
    {
     "data": {
      "text/html": [
       "<pre class=\"language-APL\">13 9 3 1\n",
       "</pre>"
      ]
     },
     "execution_count": 12,
     "metadata": {},
     "output_type": "execute_result"
    }
   ],
   "source": [
    "4↑1 1⍉h"
   ]
  },
  {
   "cell_type": "markdown",
   "id": "abfde5c5",
   "metadata": {},
   "source": [
    "For a self-conjugate partition, the hook numbers along the leading diagonal must be odd, since the number of $1$s below and to the right are equal, so their sum is even, and we add the $1$ itself. The hook numbers are necessarily decreasing (as a consequence of us ordering partitions in decreasing order), so the numbers along the leading diagonal must be odd. This means that we have a (bijective) correspondence between self-conjugate partitions of $k$ and distinct odd partition of $k$ by finding these diagonal hook numbers. Therefore, the number of self-conjugate partitions must be equal to the number of distinct odd partitions.\n",
    "\n",
    "```{important}\n",
    "- An *integer partition* of $k$ is a set of positive integers which sum to $k$.\n",
    "- Integer partitions correspond to counting ways of placing unlabelled balls into unlabelled boxes, possibly with at least one per box.\n",
    "- There is no known closed form for the number of integer partitions of $k$.\n",
    "- We can represent an integer partition as a *Young tableau*.\n",
    "- Any integer partition has a *conjugate partition*, which can be found by transposing the Young tableau.\n",
    "- An integer partition which is its own conjugate is *self-conjugate*.\n",
    "- Every self-conjugate partition has a corresponding distinct odd partition, found by unfolding its Young tableau.\n",
    "- There are therefore an equal number of self-conjugate partitions of $k$ and distinct odd partitions of $k$.\n",
    "```"
   ]
  }
 ],
 "metadata": {
  "jupytext": {
   "formats": "md:myst",
   "text_representation": {
    "extension": ".md",
    "format_name": "myst",
    "format_version": 0.13,
    "jupytext_version": "1.11.5"
   }
  },
  "kernelspec": {
   "display_name": "Dyalog APL",
   "language": "Dyalog APL",
   "name": "dyalog_apl"
  },
  "language_info": {
   "file_extension": ".apl",
   "mimetype": "text/apl",
   "name": "APL"
  },
  "source_map": [
   13,
   17,
   19,
   25,
   28,
   32,
   34,
   40,
   44,
   52,
   54,
   62,
   67,
   73,
   76,
   80,
   83,
   87,
   89,
   93,
   98,
   102,
   105,
   109,
   111
  ]
 },
 "nbformat": 4,
 "nbformat_minor": 5
}