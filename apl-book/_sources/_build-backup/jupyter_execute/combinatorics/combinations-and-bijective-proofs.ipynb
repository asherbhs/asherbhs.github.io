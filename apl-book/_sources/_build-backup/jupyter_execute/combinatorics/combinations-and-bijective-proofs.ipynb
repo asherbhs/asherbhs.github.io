{
 "cells": [
  {
   "cell_type": "markdown",
   "id": "c4e4f094",
   "metadata": {},
   "source": [
    "# Combinations and Bijective Proofs"
   ]
  },
  {
   "cell_type": "code",
   "execution_count": 1,
   "id": "d05a99d0",
   "metadata": {},
   "outputs": [],
   "source": [
    "⎕IO←1"
   ]
  },
  {
   "cell_type": "markdown",
   "id": "21a2cac3",
   "metadata": {},
   "source": [
    "In this section, we're going to encounter one of the most basic and useful concepts in combinatorics: *combinations*.\n",
    "\n",
    "A *combination* is a selection distinct elements from a set, without repetition, where we don't care about the order we pick elements. For example, given the set `'🍎🍌🍊🍐🍇'`, `'🍎🍌🍊'` is a combination of $3$ elements from the set. It is different to the combination `'🍎🍌🍇'`, but the same as the combination `'🍊🍌🍎'`, since we don't care about order. A *$k$-combination* is a combination of exactly $k$ elements from the set.\n",
    "\n",
    "There are $10$ $3$-combinations of our set `'🍎🍌🍊🍐🍇'`:\n",
    "\n",
    "```\n",
    "🍎🍌🍊\n",
    "🍎🍌🍐\n",
    "🍎🍌🍇\n",
    "🍎🍊🍐\n",
    "🍎🍊🍇\n",
    "🍎🍐🍇\n",
    "🍌🍊🍐\n",
    "🍌🍊🍇\n",
    "🍌🍐🍇\n",
    "🍊🍐🍇\n",
    "```\n",
    "\n",
    "It's probably clear where we're going with this. If we have a set of $n$ elements, how many $k$-combinations of elements from that set are there? This is very similar to a question we've already answered. We've already seen that there are `(!n)÷!n-k` $k$-*permutations* of an $n$ element set, so this is a good starting point. There are more $k$-permutations of a set than there are $k$-combinations of the same set, since the order that we select elements matters in a permutation, but not in combinations: `'🍏🍊'` and `'🍊🍏'` are the same combination of items, but they are different permutations.\n",
    "\n",
    "For example, there are $60$ $3$-permutations of `'🍎🍌🍊🍐🍇'`, which we can group by which $3$-combinations they are equivalent to:\n",
    "\n",
    "```\n",
    "🍎🍌🍊  🍎🍌🍐  🍎🍊🍐  🍌🍊🍐  🍎🍌🍇  🍎🍊🍇  🍌🍊🍇  🍎🍐🍇  🍌🍐🍇  🍊🍐🍇\n",
    "🍎🍊🍌  🍎🍐🍌  🍎🍐🍊  🍌🍐🍊  🍎🍇🍌  🍎🍇🍊  🍌🍇🍊  🍎🍇🍐  🍌🍇🍐  🍊🍇🍐\n",
    "🍌🍎🍊  🍌🍎🍐  🍊🍎🍐  🍊🍌🍐  🍌🍎🍇  🍊🍎🍇  🍊🍌🍇  🍐🍎🍇  🍐🍌🍇  🍐🍊🍇\n",
    "🍌🍊🍎  🍌🍐🍎  🍊🍐🍎  🍊🍐🍌  🍌🍇🍎  🍊🍇🍎  🍊🍇🍌  🍐🍇🍎  🍐🍇🍌  🍐🍇🍊\n",
    "🍊🍎🍌  🍐🍎🍌  🍐🍎🍊  🍐🍌🍊  🍇🍎🍌  🍇🍎🍊  🍇🍌🍊  🍇🍎🍐  🍇🍌🍐  🍇🍊🍐\n",
    "🍊🍌🍎  🍐🍌🍎  🍐🍊🍎  🍐🍊🍌  🍇🍌🍎  🍇🍊🍎  🍇🍊🍌  🍇🍐🍎  🍇🍐🍌  🍇🍐🍊\n",
    "```\n",
    "\n",
    "For each $3$-combination, we can see that there are `!3 ←→ 6` $3$-permutations of that combination's elements. In general, for each $k$-combination of items, there are `!k` permutations of that combination. So, in our formula `(!n)÷!n-k` for counting $k$-permutations, we are overcounting combinations by a factor of `!k`. This leads us to a formula for the number of $k$-combinations:\n",
    "\n",
    "```\n",
    "((!n)÷!n-k)÷!k ←→ (!n)÷(!k)×!n-k\n",
    "```\n",
    "\n",
    "By dividing by `!k`, we are undoing the overcounting in the partial permutations formula.\n",
    "\n",
    "Along with the factorial, this is one of the most useful quantities in combinatorics, so it too gets it own name: the *binomial coefficient*. We'll see where this name comes from later. The binomial coefficient takes up the dyadic form of `!`:"
   ]
  },
  {
   "cell_type": "code",
   "execution_count": 2,
   "id": "bab57ac7",
   "metadata": {},
   "outputs": [
    {
     "data": {
      "text/html": [
       "<pre class=\"language-APL\">10\n",
       "</pre>"
      ]
     },
     "execution_count": 2,
     "metadata": {},
     "output_type": "execute_result"
    },
    {
     "data": {
      "text/html": [
       "<pre class=\"language-APL\">10\n",
       "</pre>"
      ]
     },
     "execution_count": 2,
     "metadata": {},
     "output_type": "execute_result"
    }
   ],
   "source": [
    "k n←3 5           ⍝ 3-combinations of 5 items\n",
    "(!n)÷(!k)×!n-k\n",
    "k!n"
   ]
  },
  {
   "cell_type": "markdown",
   "id": "4d10f9ab",
   "metadata": {},
   "source": [
    "You might like to read `k!n` as '$k$ from $n$' or similar. Note that our formula `(!n)÷(!k)×!n-k` will `DOMAIN ERROR` when `k>n`. This is because then `(n-k)<0`, so `!n-k` doesn't make any sense. This aligns with our intuition for combinations, since you can't take more elements from a set than there are. `k!n` is slightly more tolerant; it will evaluate to `0` when `k>n`, rather than `DOMAIN ERROR`ing, indicating that are no ways to take $k$ elements from the set."
   ]
  },
  {
   "cell_type": "code",
   "execution_count": 3,
   "id": "fcfe46c8",
   "metadata": {},
   "outputs": [
    {
     "name": "stderr",
     "output_type": "stream",
     "text": [
      "DOMAIN ERROR\n",
      "      (!n)÷(!k)×!n-k\n",
      "                ∧\n"
     ]
    },
    {
     "data": {
      "text/html": [
       "<pre class=\"language-APL\">0\n",
       "</pre>"
      ]
     },
     "execution_count": 3,
     "metadata": {},
     "output_type": "execute_result"
    }
   ],
   "source": [
    "k n←6 5           ⍝ trying to take 6 things from a set of 5\n",
    "(!n)÷(!k)×!n-k\n",
    "k!n"
   ]
  },
  {
   "cell_type": "markdown",
   "id": "0a9e37af",
   "metadata": {},
   "source": [
    "In traditional mathematical notation, `k!n` is written as\n",
    "\n",
    "$$\n",
    "\\binom{n}{k}=\\begin{cases}\n",
    "    \\frac{n!}{k!(n-k)!} & k\\le n \\\\\n",
    "    0                   & k>n\n",
    "\\end{cases}\n",
    "$$\n",
    "\n",
    "This notation is usually read as '$n$ choose $k$'.\n",
    "\n",
    "Here's an interesting thing to note about the binomial coefficient. `k!n` and `(n-k)!n` will always evaluate to the same number. To see why, let's view combinations from another perspective. Take our trusty set of fruits `'🍎🍌🍊🍐🍇'`. Let's mark which of those we're choosing in the combination `'🍎🍊🍐'` with a $1$, and the rest with a $0$."
   ]
  },
  {
   "cell_type": "code",
   "execution_count": 4,
   "id": "b07efaa3",
   "metadata": {},
   "outputs": [
    {
     "data": {
      "text/html": [
       "<pre class=\"language-APL\">1 0 1 1 0\n",
       "</pre>"
      ]
     },
     "execution_count": 4,
     "metadata": {},
     "output_type": "execute_result"
    }
   ],
   "source": [
    "'🍎🍌🍊🍐🍇'∊'🍎🍊🍐'"
   ]
  },
  {
   "cell_type": "markdown",
   "id": "9b5c3009",
   "metadata": {},
   "source": [
    "This is nice representation of a combination, since it doesn't matter what order we put our choices in:"
   ]
  },
  {
   "cell_type": "code",
   "execution_count": 5,
   "id": "7a6290e5",
   "metadata": {},
   "outputs": [
    {
     "data": {
      "text/html": [
       "<pre class=\"language-APL\">1 0 1 1 0\n",
       "</pre>"
      ]
     },
     "execution_count": 5,
     "metadata": {},
     "output_type": "execute_result"
    }
   ],
   "source": [
    "⍝ reverse order of combination, same result\n",
    "'🍎🍌🍊🍐🍇'∊'🍐🍊🍎'"
   ]
  },
  {
   "cell_type": "markdown",
   "id": "dc2671d7",
   "metadata": {},
   "source": [
    "This representation gives us a new way to look at combinations - out of a sequence of $n$ $0$s, we choose $k$ to turn into ones. Equally, you can view this as a sequence of $n$ $1$s, where we choose $n-k$ to turn into $0$s. In other words, we're choosing $n-k$ to *not* select. Since there are the same number of ways to choose $k$ items as there are to discard $n-k$ items, it must be the case that `(k!n)≡(n-k)!n`.\n",
    "\n",
    "## Pascal's Triangle and Bijective Proofs\n",
    "\n",
    "To study the binomial coefficient in more detail, it will be helpful to look at its function table:"
   ]
  },
  {
   "cell_type": "code",
   "execution_count": 6,
   "id": "afeb589a",
   "metadata": {},
   "outputs": [
    {
     "data": {
      "text/html": [
       "<pre class=\"language-APL\">1 0  0  0  0  0 0 0\n",
       "1 1  0  0  0  0 0 0\n",
       "1 2  1  0  0  0 0 0\n",
       "1 3  3  1  0  0 0 0\n",
       "1 4  6  4  1  0 0 0\n",
       "1 5 10 10  5  1 0 0\n",
       "1 6 15 20 15  6 1 0\n",
       "1 7 21 35 35 21 7 1\n",
       "</pre>"
      ]
     },
     "execution_count": 6,
     "metadata": {},
     "output_type": "execute_result"
    }
   ],
   "source": [
    "⍉∘.!⍨0,⍳7"
   ]
  },
  {
   "cell_type": "markdown",
   "id": "c4ec7b0d",
   "metadata": {},
   "source": [
    "Don't get tripped up! Note that `k!n` is defined for all $k$ and $n$ which are non-negative integers, *including* $0$. This means the value at `p[n;k]` is `(k-1)!n-1`, since we are working in `⎕IO←1`.\n",
    "\n",
    "The triangle in this table is called *Pascal's triangle*, and has been studied for centuries[^pascal] for its many interesting patterns. First of all, we can easily see the property we just proved (`(k!n)≡(n-k)!n`) by the fact that each row is symmetrical (ignoring `0`s). Another thing to notice about the triangle is that each item is the sum of the item directly the above, and the item before that. For example, the $6$ in the $5$th row is the sum of the two $3$s in the row above. So we could also generate the trangle by starting with the first row and repeatedly summing adjacent items:\n",
    "\n",
    "[^pascal]: Although it is named after French Mathematician [Blaise Pascal](https://en.wikipedia.org/wiki/Blaise_Pascal), Pascal's triangle was discovered and studied for centuries before him."
   ]
  },
  {
   "cell_type": "code",
   "execution_count": 7,
   "id": "b322676a",
   "metadata": {},
   "outputs": [
    {
     "data": {
      "text/html": [
       "<pre class=\"language-APL\"> 1                   \n",
       " 1 1                 \n",
       " 1 2 1               \n",
       " 1 3 3 1             \n",
       " 1 4 6 4 1           \n",
       " 1 5 10 10 5 1       \n",
       " 1 6 15 20 15 6 1    \n",
       " 1 7 21 35 35 21 7 1 \n",
       "</pre>"
      ]
     },
     "execution_count": 7,
     "metadata": {},
     "output_type": "execute_result"
    }
   ],
   "source": [
    "⍪{⍵,⊂1,(2+/⊃⌽⍵),1}⍣7⊂,1    ⍝ ↑-ing this would give the same matrix as we saw before"
   ]
  },
  {
   "cell_type": "markdown",
   "id": "6e551b5f",
   "metadata": {},
   "source": [
    "Stated more formally, we're saying that `k!n ←→ (k!n-1)+(k-1)!n-1`. There's more than one way we can prove this. We *could* go about it algebraically, but that would be long and unenlightening. You can find the algebraic proof in the footnotes if you're interested in it[^algebraic-proof]. Instead, it's equally valid to prove this by talking about what it's describing.\n",
    "\n",
    "[^algebraic-proof]: $$\\begin{aligned}\n",
    "    \\binom{n-1}{k}+\\binom{n-1}{k-1}&=\\frac{(n-1)!     }{k!((n-1)-k)!} +\\frac{(n-1)! }{(k-1)!((n-1)-(k-1))!} \\\\\n",
    "                                   &=\\frac{(n-1)!     }{k!(n-k-1)!  } +\\frac{(n-1)! }{(k-1)!(n-k)!        } \\\\\n",
    "                                   &=\\frac{(n-1)!(n-k)}{k!(n-k)!    } +\\frac{(n-1)!k}{k!    (n-k)!        } \\\\\n",
    "                                   &=\\frac{(n-1)!((n-k)+k)}{k!(n-k)!} \\\\\n",
    "                                   &=\\frac{(n-1)!n        }{k!(n-k)!} \\\\\n",
    "                                   &=\\frac{n!             }{k!(n-k)!} \\\\\n",
    "                                   &=\\binom{n}{k}\n",
    "\\end{aligned}\n",
    "$$\n",
    "\n",
    "`k!n` is the number of ways to pick a combination of $k$ items from an $n$ element set. To pick a combination, for each item in the set, we have two options. We can either (1) pick it, and pick `k-1` more items from the remaining `n-1` elements of the set, or (2) not pick it, and instead pick all `k` items from the remaining `n-1` elements. There are `(k-1)!n-1` ways for (1), and `k!n-1` ways for (2). So, in total, there are `(k!n-1)+(k-1)!n-1` ways to pick a combination of $k$ items from an $n$ element set. Therefore, `k!n ←→ (k!n-1)+(k-1)!n-1`.\n",
    "\n",
    "This kind of proof, where we show that two different expressions count the same thing (or, in general, the same number of things), is called a *bijective proof*, and they are used throughout combinatorics. Let's do another one to get a better feel of the process.\n",
    "\n",
    "If you were playing around with Pascal's triangle, you might notice a pattern that arises from summing along its rows."
   ]
  },
  {
   "cell_type": "code",
   "execution_count": 8,
   "id": "e6e38ffa",
   "metadata": {},
   "outputs": [
    {
     "data": {
      "text/html": [
       "<pre class=\"language-APL\">1 0  0  0  0  0 0 0\n",
       "1 1  0  0  0  0 0 0\n",
       "1 2  1  0  0  0 0 0\n",
       "1 3  3  1  0  0 0 0\n",
       "1 4  6  4  1  0 0 0\n",
       "1 5 10 10  5  1 0 0\n",
       "1 6 15 20 15  6 1 0\n",
       "1 7 21 35 35 21 7 1\n",
       "</pre>"
      ]
     },
     "execution_count": 8,
     "metadata": {},
     "output_type": "execute_result"
    },
    {
     "data": {
      "text/html": [
       "<pre class=\"language-APL\">1 2 4 8 16 32 64 128\n",
       "</pre>"
      ]
     },
     "execution_count": 8,
     "metadata": {},
     "output_type": "execute_result"
    }
   ],
   "source": [
    "⊢p←⍉∘.!⍨0,⍳7\n",
    "+/p"
   ]
  },
  {
   "cell_type": "markdown",
   "id": "acde7d23",
   "metadata": {},
   "source": [
    "Those are all powers of $2$! Specifically, each `n+1`th row of the triangle sums to `2*n`, which we can write formally as `+/(0,⍳n)!n ←→ 2*n` (note that `!` is pervasive like `+`, `×` and friends, so `a b c!n ←→ (a!n) (b!n) (c!n)`).\n",
    "\n",
    "Again, we can prove this alegebraically, but it's much more insightful to prove it bijectively. `+/(0,⍳n)!n` is the number of ways to pick a $1$-combination from $n$ items, plus the number of ways to pick a $2$-combination, and a $3$-combination, and so on until $n$-combination. In other words, it is the number of ways to pick a combination of any size. The number of ways to pick a combination of any size can also be described differently. For each item in the set, we have $2$ choices: either we can pick it or we can not pick it. Therefore there are `2*n` ways to pick a combination of any size from an $n$ element set. Since both `+/(0,⍳n)!n` and `2*n` count the number of ways to pick a combination of any size from an $n$ element set, the expressions must be equal for all $n$.\n",
    "\n",
    "## The Binomial Theorem\n",
    "\n",
    "Now, we're ready to see the namesake of the binomial coefficient `k!n`. Take a look at the expansion of $(a+b)^n$ for some small values of $n$:\n",
    "\n",
    "$$\n",
    "\\begin{aligned}\n",
    "    (a+b)^2&=a^2+\\mathbf{2}ab+b^2 \\\\\n",
    "    (a+b)^3&=a^3+\\mathbf{3}a^2b+\\mathbf{3}ab^2+b^3 \\\\\n",
    "    (a+b)^4&=a^4+\\mathbf{4}a^3b+\\mathbf{6}a^2b^2+\\mathbf{4}ab^3+b^4 \\\\\n",
    "    (a+b)^5&=a^5+\\mathbf{5}a^4b+\\mathbf{10}a^3b^2+\\mathbf{10}a^2b^3+\\mathbf{5}ab^4+b^5 \\\\\n",
    "    \\vdots\n",
    "\\end{aligned}\n",
    "$$\n",
    "\n",
    "Those coefficients might be ringing some bells in your head. They're exactly the numbers in Pascal's triangle! This is no coincidence. When we multiply by $(a+b)$, the distributive law creates two different sub-expressions, one where everything is multiplied by $a$, and another where everything is multiplied by $b$. This leads to the eventual result being made up of strings of $a$s and $b$s multiplied together in all possible ways, for example:\n",
    "\n",
    "$$\n",
    "\\begin{aligned}\n",
    "    (a+b)^3&=(a+b)(a+b)(a+b) \\\\\n",
    "           &=(a+b)(aa+ab+ba+bb) \\\\\n",
    "           &=aaa+aab+aba+abb+baa+bab+bba+bbb \\\\\n",
    "           &=a^3+3a^2b+3ab^2+b^3 \\\\\n",
    "\\end{aligned}\n",
    "$$\n",
    "\n",
    "A we can think of each string of $a$s and $b$s as just a relabelling of a binary string, where each $1$ is replaced by an $a$, and each $0$ by a $b$. This is exactly a representation of combinations that we've already seen! This means that the coefficient on, for example, $a^2b$ must be the same as the number of combinations of $2$ items from a set of $3$ elements - `2!3` or $\\binom{3}{2}$. In general, this gives us the *binomial theorem*:\n",
    "\n",
    "$$\n",
    "(a+b)^n=\\sum_{k=0}^n\\binom{n}{k}a^kb^{n-k}\n",
    "$$\n",
    "\n",
    "Since $\\binom{n}{k}$ is the *coefficient* in the *binomial* theorem, it takes the name *binomial coefficient*.\n",
    "\n",
    "The reasoning behind the binomial theorem is somewhat easier to grasp when written in traditional mathematical notation, but we can, of course, express the result in APL terms: `(a+b)*n ←→ +/(!∘n × (a*⌽) × b∘*)0,⍳n`."
   ]
  },
  {
   "cell_type": "code",
   "execution_count": 9,
   "id": "597ee939",
   "metadata": {},
   "outputs": [
    {
     "data": {
      "text/html": [
       "<pre class=\"language-APL\">16807\n",
       "</pre>"
      ]
     },
     "execution_count": 9,
     "metadata": {},
     "output_type": "execute_result"
    },
    {
     "data": {
      "text/html": [
       "<pre class=\"language-APL\">16807\n",
       "</pre>"
      ]
     },
     "execution_count": 9,
     "metadata": {},
     "output_type": "execute_result"
    }
   ],
   "source": [
    "a b n←3 4 5\n",
    "(a+b)*n\n",
    "+/(!∘n × (a*⌽) × b∘*)0,⍳n"
   ]
  },
  {
   "cell_type": "markdown",
   "id": "67d79a0d",
   "metadata": {},
   "source": [
    "```{admonition} Aside\n",
    "Essentially, when we take a combination of items from a set, we're splitting it into two partitions: the items we take and the items we don't. We can generalise this to more partitions. If we have some group sizes $k_1,k_2,\\ldots,k_r$ whose sum is $n$, there are\n",
    "\n",
    "$$\\binom{n}{k_1,k_2,\\ldots,k_r}=\\frac{n!}{k_1!k_2!\\cdots k_r!}$$\n",
    "\n",
    "ways to split the $n$ element set into partitions with sizes $k_1,k_2,\\ldots,k_r$. This is the *multinomial* coefficient.\n",
    "\n",
    "Splitting into two groups with sizes $k$ and $n-k$ specialises the multinomial coefficent to the familiar binomial coefficent we've been studying in this section.\n",
    "```\n",
    "\n",
    "```{important}\n",
    "- A *combination* is an unordered selection of distinct elements from a set.\n",
    "- A *$k$-combination* is a combination of exactly $k$ elements.\n",
    "- There are `k!n ←→ (!n)÷(!k)×!n-k` $k$-combinations from an $n$ element set. This is the *binomial coefficient*.\n",
    "- The function table of `!` gives us Pascal's triangle.\n",
    "- `k!n ←→ (k!n-1)+(k-1)!n-1`\n",
    "- A *bijective proof* is a way of showing two formulas are equivalent by showing that they count sets which are the same size.\n",
    "- The sum of a row of Pascal's triangle is a power of two, since it's related to counting all combinations of elements of a set.\n",
    "- The binomial coefficient features in the expansion of $(a+b)^n$ in the *binomial theorem*.\n",
    "```"
   ]
  }
 ],
 "metadata": {
  "jupytext": {
   "formats": "md:myst",
   "text_representation": {
    "extension": ".md",
    "format_name": "myst",
    "format_version": 0.13,
    "jupytext_version": "1.11.5"
   }
  },
  "kernelspec": {
   "display_name": "Dyalog APL",
   "language": "Dyalog APL",
   "name": "dyalog_apl"
  },
  "language_info": {
   "file_extension": ".apl",
   "mimetype": "text/apl",
   "name": "APL"
  },
  "source_map": [
   13,
   17,
   19,
   63,
   67,
   71,
   75,
   90,
   92,
   96,
   99,
   107,
   109,
   117,
   119,
   140,
   143,
   184,
   188
  ]
 },
 "nbformat": 4,
 "nbformat_minor": 5
}