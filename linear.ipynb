{
 "cells": [
  {
   "cell_type": "markdown",
   "id": "a5bfeb90",
   "metadata": {},
   "source": [
    "# Linear Algebra with Dyalog APL\n",
    "\n",
    "APL is an executable mathematical notation and programming language whose central data structure is the multidimensional array. This makes it fantastic for working with the central objects of linear algebra: vectors and matrices. This notebook is intended for a reader with a high-school level knowledge of vectors and matrices, and some experience with programming. By the end, we'll be using APL to solve systems of linear equations with arbitrary size with almost no code."
   ]
  },
  {
   "cell_type": "markdown",
   "id": "0b6c4207",
   "metadata": {},
   "source": [
    "This document is a Jupyter Notebook, intended to be run as an interactive lesson in [TryAPL](https://tryapl.org/), but it should work in other notebook viewers if you have the Dyalog Jupyter Kernel correctly set up."
   ]
  },
  {
   "cell_type": "markdown",
   "id": "8d1bed4a",
   "metadata": {},
   "source": [
    "## Arithmetic\n",
    "\n",
    "Before we can look at more complicated structures, we must be able to do basic maths in APL."
   ]
  },
  {
   "cell_type": "markdown",
   "id": "91451160",
   "metadata": {},
   "source": [
    "Starting with the most basic operations, we can do addition and subtraction in the usual way with `+` and `-`:"
   ]
  },
  {
   "cell_type": "code",
   "execution_count": 1,
   "id": "eaf53b64",
   "metadata": {},
   "outputs": [
    {
     "data": {
      "text/html": [
       "<pre class=\"language-APL\">7\n",
       "</pre>"
      ]
     },
     "execution_count": 1,
     "metadata": {},
     "output_type": "execute_result"
    }
   ],
   "source": [
    "3+4"
   ]
  },
  {
   "cell_type": "code",
   "execution_count": 2,
   "id": "4ddc8ecb",
   "metadata": {},
   "outputs": [
    {
     "data": {
      "text/html": [
       "<pre class=\"language-APL\">¯1\n",
       "</pre>"
      ]
     },
     "execution_count": 2,
     "metadata": {},
     "output_type": "execute_result"
    }
   ],
   "source": [
    "3-4"
   ]
  },
  {
   "cell_type": "markdown",
   "id": "7d8127a6",
   "metadata": {},
   "source": [
    "`+` and `-` are both binary operators, meaning they take two arguments. In our case these were 3 and 4. In APL we call these *dyadic functions*. Most symbols in APL have a both a *dyadic* form as we've seen, and a *monadic* form, which takes only one argument. For example, when we give `-` only one argument, it negates it."
   ]
  },
  {
   "cell_type": "code",
   "execution_count": 4,
   "id": "60ad56c9",
   "metadata": {},
   "outputs": [
    {
     "data": {
      "text/html": [
       "<pre class=\"language-APL\">¯1\n",
       "</pre>"
      ]
     },
     "execution_count": 4,
     "metadata": {},
     "output_type": "execute_result"
    }
   ],
   "source": [
    "-1"
   ]
  },
  {
   "cell_type": "markdown",
   "id": "7b158230",
   "metadata": {},
   "source": [
    "We won't be using monadic `+`, but if you're curious it negates the imaginary part of a number."
   ]
  },
  {
   "cell_type": "markdown",
   "id": "22b70770",
   "metadata": {},
   "source": [
    "Now we're going to level up to using multiplication and division. In most programming languages you would use symbols conventionally available on your keyboard for this, probably `*` and `/` or something similar. APL is not most programming languages. We represent these functions with their true mathematical symbols `×` and `÷`."
   ]
  },
  {
   "cell_type": "markdown",
   "id": "f3ee9470",
   "metadata": {},
   "source": [
    "If you're using TryAPL, you can type these symbols by first pressing `` ` `` and then `-` for `×` or `=` for `÷`. You can also use the buttons in the language bar at the top of the page, but it's recommended to learn the key combinations. Whenever a new symbol is used, you will be able to see its key combination in a comment after the expression (comments in APL begin with a `⍝`, which you can type with `` `, ``)."
   ]
  },
  {
   "cell_type": "code",
   "execution_count": 6,
   "id": "26be75ae",
   "metadata": {},
   "outputs": [
    {
     "data": {
      "text/html": [
       "<pre class=\"language-APL\">12\n",
       "</pre>"
      ]
     },
     "execution_count": 6,
     "metadata": {},
     "output_type": "execute_result"
    }
   ],
   "source": [
    "3×4       ⍝ `-"
   ]
  },
  {
   "cell_type": "code",
   "execution_count": 5,
   "id": "c356543c",
   "metadata": {},
   "outputs": [
    {
     "data": {
      "text/html": [
       "<pre class=\"language-APL\">0.75\n",
       "</pre>"
      ]
     },
     "execution_count": 5,
     "metadata": {},
     "output_type": "execute_result"
    }
   ],
   "source": [
    "3÷4       ⍝ `="
   ]
  },
  {
   "cell_type": "markdown",
   "id": "f4c411b9",
   "metadata": {},
   "source": [
    "You will have noticed that negative numbers are rendered with a `¯` rather than a traditional negative sign `-`. This is intentional; sometimes we want to write negative numbers without actually calling a function. You can type the 'high minus' with `` `2 ``."
   ]
  },
  {
   "cell_type": "code",
   "execution_count": 91,
   "id": "2c07afbb",
   "metadata": {},
   "outputs": [
    {
     "data": {
      "text/html": [
       "<pre class=\"language-APL\">¯3\n",
       "</pre>"
      ]
     },
     "execution_count": 91,
     "metadata": {},
     "output_type": "execute_result"
    }
   ],
   "source": [
    "¯3        ⍝ `2"
   ]
  },
  {
   "cell_type": "code",
   "execution_count": 10,
   "id": "7c318c6b",
   "metadata": {},
   "outputs": [
    {
     "data": {
      "text/html": [
       "<pre class=\"language-APL\">¯7\n",
       "</pre>"
      ]
     },
     "execution_count": 10,
     "metadata": {},
     "output_type": "execute_result"
    }
   ],
   "source": [
    "¯3+¯4"
   ]
  },
  {
   "cell_type": "markdown",
   "id": "11e498d3",
   "metadata": {},
   "source": [
    "Just like `+` and `-`, `×` and `÷` also have monadic (single argument) forms. Monadic `×` gives you the sign of a number, which is $1$ if the input is positive, and $-1$ if the input is negative. Monadic `÷` yields the reciprocal ($\\frac{1}{x}$) of an input $x$."
   ]
  },
  {
   "cell_type": "code",
   "execution_count": 6,
   "id": "034f4fbf",
   "metadata": {},
   "outputs": [
    {
     "data": {
      "text/html": [
       "<pre class=\"language-APL\">1\n",
       "</pre>"
      ]
     },
     "execution_count": 6,
     "metadata": {},
     "output_type": "execute_result"
    }
   ],
   "source": [
    "×3"
   ]
  },
  {
   "cell_type": "code",
   "execution_count": 7,
   "id": "a319a427",
   "metadata": {},
   "outputs": [
    {
     "data": {
      "text/html": [
       "<pre class=\"language-APL\">¯1\n",
       "</pre>"
      ]
     },
     "execution_count": 7,
     "metadata": {},
     "output_type": "execute_result"
    }
   ],
   "source": [
    "×¯4"
   ]
  },
  {
   "cell_type": "code",
   "execution_count": 11,
   "id": "ea0129c4",
   "metadata": {},
   "outputs": [
    {
     "data": {
      "text/html": [
       "<pre class=\"language-APL\">0.25\n",
       "</pre>"
      ]
     },
     "execution_count": 11,
     "metadata": {},
     "output_type": "execute_result"
    }
   ],
   "source": [
    "÷4"
   ]
  },
  {
   "cell_type": "code",
   "execution_count": 13,
   "id": "e25f3761",
   "metadata": {},
   "outputs": [
    {
     "data": {
      "text/html": [
       "<pre class=\"language-APL\">2\n",
       "</pre>"
      ]
     },
     "execution_count": 13,
     "metadata": {},
     "output_type": "execute_result"
    }
   ],
   "source": [
    "÷0.5"
   ]
  },
  {
   "cell_type": "markdown",
   "id": "6beda4b6",
   "metadata": {},
   "source": [
    "Just one more arithmetic symbol to cover now before we move on: `*` (just a normal asterisk) raises its left argument to the power of its right argument when called dyadically."
   ]
  },
  {
   "cell_type": "code",
   "execution_count": 16,
   "id": "af2f032a",
   "metadata": {},
   "outputs": [
    {
     "data": {
      "text/html": [
       "<pre class=\"language-APL\">81\n",
       "</pre>"
      ]
     },
     "execution_count": 16,
     "metadata": {},
     "output_type": "execute_result"
    }
   ],
   "source": [
    "3*4       ⍝ 3×3×3×3"
   ]
  },
  {
   "cell_type": "markdown",
   "id": "8642fbff",
   "metadata": {},
   "source": [
    "We won't be using this, but for completeness, `*` has Euler's number $e$ as a default left argument when called monadically, so `*x` does $e^x$."
   ]
  },
  {
   "cell_type": "code",
   "execution_count": 32,
   "id": "7595eeed",
   "metadata": {},
   "outputs": [
    {
     "data": {
      "text/html": [
       "<pre class=\"language-APL\">2.718281828\n",
       "</pre>"
      ]
     },
     "execution_count": 32,
     "metadata": {},
     "output_type": "execute_result"
    }
   ],
   "source": [
    "*1"
   ]
  },
  {
   "cell_type": "markdown",
   "id": "d7cfe995",
   "metadata": {},
   "source": [
    "If you want a bit of self-guided exploration, check out `⍟` (`` `* ``)."
   ]
  },
  {
   "cell_type": "markdown",
   "id": "95222e0d",
   "metadata": {},
   "source": [
    "## Comparisons and Booleans\n",
    "\n",
    "Where many languages (notably not C) have special keywords for the concepts of 'true' and 'false', APL takes a different approach, representing 'true' with $1$ and 'false' with $0$, just like computers do internally with binary numbers. While at first this seems like a shortcoming, we'll see later that being able to manipulate booleans as numbers is extremely useful."
   ]
  },
  {
   "cell_type": "markdown",
   "id": "89f0de82",
   "metadata": {},
   "source": [
    "To test the equality of two numbers, we use the `=` function. This symbol does *not* do assignment like it does in most other languages, instead this is a test for equality, like you'd typically use `==` for in C or Python. See how it returns $1$ when the two arguments are equal and $0$ when they're not, just like we've discussed."
   ]
  },
  {
   "cell_type": "code",
   "execution_count": 19,
   "id": "1db1a9f5",
   "metadata": {},
   "outputs": [
    {
     "data": {
      "text/html": [
       "<pre class=\"language-APL\">0\n",
       "</pre>"
      ]
     },
     "execution_count": 19,
     "metadata": {},
     "output_type": "execute_result"
    }
   ],
   "source": [
    "3=4"
   ]
  },
  {
   "cell_type": "code",
   "execution_count": 21,
   "id": "a000048f",
   "metadata": {},
   "outputs": [
    {
     "data": {
      "text/html": [
       "<pre class=\"language-APL\">1\n",
       "</pre>"
      ]
     },
     "execution_count": 21,
     "metadata": {},
     "output_type": "execute_result"
    }
   ],
   "source": [
    "4=4"
   ]
  },
  {
   "cell_type": "markdown",
   "id": "27202dc1",
   "metadata": {},
   "source": [
    "APL has *many* special symbols beyond those that we've seen so far. For example, where you'd use `!=` in C or Python, APL has the dedicated `≠` symbol, typed with `` `8 ``."
   ]
  },
  {
   "cell_type": "code",
   "execution_count": 22,
   "id": "e17e2f29",
   "metadata": {},
   "outputs": [
    {
     "data": {
      "text/html": [
       "<pre class=\"language-APL\">1\n",
       "</pre>"
      ]
     },
     "execution_count": 22,
     "metadata": {},
     "output_type": "execute_result"
    }
   ],
   "source": [
    "3≠4       ⍝ `8"
   ]
  },
  {
   "cell_type": "markdown",
   "id": "2aac4137",
   "metadata": {},
   "source": [
    "For comparisons, APL has the usual `<` and `>` for 'less than' and 'greater than'. Of course, we also have `≤` and `≥` for 'less than or equal to' and 'greater than or equal to', which you can type with `` `4 `` and `` `6 `` respectively."
   ]
  },
  {
   "cell_type": "code",
   "execution_count": 12,
   "id": "97b4bd67",
   "metadata": {},
   "outputs": [
    {
     "data": {
      "text/html": [
       "<pre class=\"language-APL\">1\n",
       "</pre>"
      ]
     },
     "execution_count": 12,
     "metadata": {},
     "output_type": "execute_result"
    }
   ],
   "source": [
    "3<4"
   ]
  },
  {
   "cell_type": "code",
   "execution_count": 13,
   "id": "14b5e44c",
   "metadata": {},
   "outputs": [
    {
     "data": {
      "text/html": [
       "<pre class=\"language-APL\">1\n",
       "</pre>"
      ]
     },
     "execution_count": 13,
     "metadata": {},
     "output_type": "execute_result"
    }
   ],
   "source": [
    "3≤4       ⍝ `4"
   ]
  },
  {
   "cell_type": "code",
   "execution_count": 14,
   "id": "3e9a866b",
   "metadata": {},
   "outputs": [
    {
     "data": {
      "text/html": [
       "<pre class=\"language-APL\">0\n",
       "</pre>"
      ]
     },
     "execution_count": 14,
     "metadata": {},
     "output_type": "execute_result"
    }
   ],
   "source": [
    "3>4"
   ]
  },
  {
   "cell_type": "code",
   "execution_count": 25,
   "id": "73837f10",
   "metadata": {},
   "outputs": [
    {
     "data": {
      "text/html": [
       "<pre class=\"language-APL\">0\n",
       "</pre>"
      ]
     },
     "execution_count": 25,
     "metadata": {},
     "output_type": "execute_result"
    }
   ],
   "source": [
    "3≥4       ⍝ `6"
   ]
  },
  {
   "cell_type": "markdown",
   "id": "c8a92bfd",
   "metadata": {},
   "source": [
    "These comparison functions don't have monadic forms (except `≠` but we're not equipped to understand that one yet)."
   ]
  },
  {
   "cell_type": "markdown",
   "id": "494c4549",
   "metadata": {},
   "source": [
    "## Boolean Functions\n",
    "\n",
    "In the same way there are fundamental arithmetic operations like `+` and `×`, there are fundamental operations which work on exclusively the boolean values $0$ and $1$."
   ]
  },
  {
   "cell_type": "markdown",
   "id": "f09f9839",
   "metadata": {},
   "source": [
    "The first of these is 'and', which will return true if *both* of its arguments are true. In maths, we write this with the symbol $\\land$, while most programming languages use either `&&` or just the word `and`. True to form, APL uses the mathematical symbol `∧`, which you can type with `` `0 ``."
   ]
  },
  {
   "cell_type": "code",
   "execution_count": 33,
   "id": "42f45d45",
   "metadata": {},
   "outputs": [
    {
     "data": {
      "text/html": [
       "<pre class=\"language-APL\">0\n",
       "</pre>"
      ]
     },
     "execution_count": 33,
     "metadata": {},
     "output_type": "execute_result"
    }
   ],
   "source": [
    "1∧0       ⍝ `0"
   ]
  },
  {
   "cell_type": "code",
   "execution_count": 28,
   "id": "c7b87d66",
   "metadata": {},
   "outputs": [
    {
     "data": {
      "text/html": [
       "<pre class=\"language-APL\">1\n",
       "</pre>"
      ]
     },
     "execution_count": 28,
     "metadata": {},
     "output_type": "execute_result"
    }
   ],
   "source": [
    "1∧1"
   ]
  },
  {
   "cell_type": "markdown",
   "id": "0b254083",
   "metadata": {},
   "source": [
    "Similarly, the 'or' function returns true if *either* of its arguments are true. It's written `∨` with `` `9 ``."
   ]
  },
  {
   "cell_type": "code",
   "execution_count": 29,
   "id": "b9d21b11",
   "metadata": {},
   "outputs": [
    {
     "data": {
      "text/html": [
       "<pre class=\"language-APL\">1\n",
       "</pre>"
      ]
     },
     "execution_count": 29,
     "metadata": {},
     "output_type": "execute_result"
    }
   ],
   "source": [
    "1∨0       ⍝ `9"
   ]
  },
  {
   "cell_type": "code",
   "execution_count": 31,
   "id": "9b5fed04",
   "metadata": {},
   "outputs": [
    {
     "data": {
      "text/html": [
       "<pre class=\"language-APL\">0\n",
       "</pre>"
      ]
     },
     "execution_count": 31,
     "metadata": {},
     "output_type": "execute_result"
    }
   ],
   "source": [
    "0∨0       ⍝ hehe it looks like an owl"
   ]
  },
  {
   "cell_type": "markdown",
   "id": "c5624f60",
   "metadata": {},
   "source": [
    "That's a lot of functions to absorb all at once, they're collected into a table here for reference:\n",
    "\n",
    "| Symbol | Monadic Function | Dyadic Function | Key Combination |\n",
    "| :----- | :--------------- | :-------------- | :-------------- |\n",
    "| `+`    |                  | Plus            |                 |\n",
    "| `-`    | Negate           | Minus           |                 |\n",
    "| `×`    | Direction        | Times           | `` `- ``        |\n",
    "| `÷`    | Reciprocal       | Divide          | `` `= ``        |\n",
    "| `*`    | Exponential      | Power           |                 |\n",
    "| `=`    |                  | Equal To        |                 |\n",
    "| `≠`    |                  | Not Equal To    | `` `8 ``        |\n",
    "| `≤`    |                  | Less Than Or Equal To | `` `4 ``  |\n",
    "| `<`    |                  | Less Than       |                 |\n",
    "| `>`    |                  | Greater Than    |                 |\n",
    "| `≥`    |                  | Greater Than Or Equal To | `` `6 `` |\n",
    "| `∧`    |                  | And             | `` `0 ``        |\n",
    "| `∨`    |                  | Or              | `` `9 ``        |"
   ]
  },
  {
   "cell_type": "markdown",
   "id": "108ab5c2",
   "metadata": {},
   "source": [
    "## Expressions\n",
    "\n",
    "It's finally time to put the functions we've learned together into more complex expressions. In mathematics and most programming languages there are complex rules governing the precedence of operators. Recall BODMAS, PEMDAS, or whatever variant you learned in school. These rules can be confusing to remember, and it's not unusual to find programming style guides recommending using superfluous parenthesis for clarity even when you don't need them."
   ]
  },
  {
   "cell_type": "markdown",
   "id": "27534ded",
   "metadata": {},
   "source": [
    "In APL, there are an enormous number of infix operators. Defining special precedence rules for each one would create a completely unusable mess. Instead, all functions have the same precedence, and they associate exclusively to the left."
   ]
  },
  {
   "cell_type": "markdown",
   "id": "1a9aa05c",
   "metadata": {},
   "source": [
    "For example, the expression `÷2×3-4` is evaluated as `÷(2×(3-4))`. This takes some getting used to when you've been working with special rules your whole mathematical/programming life, but it makes reading long expressions extremely easy - you just read from right to left."
   ]
  },
  {
   "cell_type": "code",
   "execution_count": 38,
   "id": "5d6fedf8",
   "metadata": {},
   "outputs": [
    {
     "data": {
      "text/html": [
       "<pre class=\"language-APL\">0.25\n",
       "</pre>"
      ]
     },
     "execution_count": 38,
     "metadata": {},
     "output_type": "execute_result"
    }
   ],
   "source": [
    "÷4×3-2    ⍝ recall monadic ÷ is reciprocal"
   ]
  },
  {
   "cell_type": "markdown",
   "id": "1b830cad",
   "metadata": {},
   "source": [
    "If you want to change the order of evaluation, you can of course use parenthesis like normal."
   ]
  },
  {
   "cell_type": "code",
   "execution_count": 39,
   "id": "7df741b6",
   "metadata": {},
   "outputs": [
    {
     "data": {
      "text/html": [
       "<pre class=\"language-APL\">0.1\n",
       "</pre>"
      ]
     },
     "execution_count": 39,
     "metadata": {},
     "output_type": "execute_result"
    }
   ],
   "source": [
    "÷(4×3)-2"
   ]
  },
  {
   "cell_type": "markdown",
   "id": "482a3878",
   "metadata": {},
   "source": [
    "Just like other programming languages, we can store values in variables. Since the `=` symbol is already taken for testing equality, we instead use `←` (`` `[ ``) for assignment. It is no coincidence that this symbol is also frequently used for the same purpose in mathematics."
   ]
  },
  {
   "cell_type": "code",
   "execution_count": 41,
   "id": "9088acc2",
   "metadata": {},
   "outputs": [
    {
     "data": {
      "text/html": [
       "<pre class=\"language-APL\">7\n",
       "</pre>"
      ]
     },
     "execution_count": 41,
     "metadata": {},
     "output_type": "execute_result"
    }
   ],
   "source": [
    "x←3       ⍝ `[\n",
    "y←4\n",
    "x+y"
   ]
  },
  {
   "cell_type": "markdown",
   "id": "b8ecda34",
   "metadata": {},
   "source": [
    "It's worth taking stock of what we've learned so far. Take some time to play around with the concepts we've introduced. Choose a couple of formulas you know and try to write them out in APL; for example you could define values `a`, `b`, and `c` as the coefficients of a nice polynomial, and write out the quadratic formula to find a root of it. Make sure you really understand what all the functions do and how your expressions are evaluated."
   ]
  },
  {
   "cell_type": "markdown",
   "id": "fbe2a139",
   "metadata": {},
   "source": [
    "## Vectors\n",
    "\n",
    "Now we know how to write expressions working with single values, it's time to get into APL's killer feature: multidimensional arrays."
   ]
  },
  {
   "cell_type": "markdown",
   "id": "b39a96c9",
   "metadata": {},
   "source": [
    "The simplest kind of multidimensional array is the kind with no dimensions at all! This is the kind that we have been working with so far: single numbers. From here on out, we're going to call these kinds of values *scalars*."
   ]
  },
  {
   "cell_type": "markdown",
   "id": "b273a26d",
   "metadata": {},
   "source": [
    "A one-dimensional array is a *vector* - an ordered list of values. APL supports the simplest possible notation for vectors, just write the values next to each other!"
   ]
  },
  {
   "cell_type": "code",
   "execution_count": 43,
   "id": "7d903a61",
   "metadata": {},
   "outputs": [
    {
     "data": {
      "text/html": [
       "<pre class=\"language-APL\">1 2 3\n",
       "</pre>"
      ]
     },
     "execution_count": 43,
     "metadata": {},
     "output_type": "execute_result"
    }
   ],
   "source": [
    "1 2 3     ⍝ a vector of numbers"
   ]
  },
  {
   "cell_type": "markdown",
   "id": "820ce08c",
   "metadata": {},
   "source": [
    "Recall that APL's central data type is the array; we're about to see what that really means."
   ]
  },
  {
   "cell_type": "markdown",
   "id": "63698549",
   "metadata": {},
   "source": [
    "If you wanted to do some operation on all elements of a vector in most programming languages, you would have to bring out some heavy machinery like a `for` loop or a `map` function. While we have both of these in APL, often we don't need them! All the operations we've learned so far are *pervasive*, meaning they will distribute their arguments over arrays. For example:"
   ]
  },
  {
   "cell_type": "code",
   "execution_count": 44,
   "id": "31c50d50",
   "metadata": {},
   "outputs": [
    {
     "data": {
      "text/html": [
       "<pre class=\"language-APL\">4 8 12\n",
       "</pre>"
      ]
     },
     "execution_count": 44,
     "metadata": {},
     "output_type": "execute_result"
    }
   ],
   "source": [
    "1 2 3+4"
   ]
  },
  {
   "cell_type": "markdown",
   "id": "2349de32",
   "metadata": {},
   "source": [
    "`+` implicity distributes its scalar argument `4` across the whole vector `1 2 3`."
   ]
  },
  {
   "cell_type": "markdown",
   "id": "aae51282",
   "metadata": {},
   "source": [
    "This lets us do some fairly complicated things very tersely. For example, generating a mask of elements which are less than 10:"
   ]
  },
  {
   "cell_type": "code",
   "execution_count": 47,
   "id": "386798ca",
   "metadata": {},
   "outputs": [
    {
     "data": {
      "text/html": [
       "<pre class=\"language-APL\">0 1 1 0\n",
       "</pre>"
      ]
     },
     "execution_count": 47,
     "metadata": {},
     "output_type": "execute_result"
    }
   ],
   "source": [
    "12 3 4 56<10"
   ]
  },
  {
   "cell_type": "markdown",
   "id": "1a14ce6f",
   "metadata": {},
   "source": [
    "What if we have a vector, and we want to a different number to each element of it? Pervasive functions to the rescue again! When  presented with two vectors (which are the same length), a pervasive operation will apply to elements pairwise. For example:"
   ]
  },
  {
   "cell_type": "code",
   "execution_count": 76,
   "id": "49489b41",
   "metadata": {},
   "outputs": [
    {
     "data": {
      "text/html": [
       "<pre class=\"language-APL\">5 7 9\n",
       "</pre>"
      ]
     },
     "execution_count": 76,
     "metadata": {},
     "output_type": "execute_result"
    }
   ],
   "source": [
    "1 2 3+4 5 6         ⍝ (1+4) (2+5) (3+6)"
   ]
  },
  {
   "cell_type": "markdown",
   "id": "a296f4f3",
   "metadata": {},
   "source": [
    "Vectors can also contain other vectors. To construct a vector of vectors, just write them in order:"
   ]
  },
  {
   "cell_type": "code",
   "execution_count": 78,
   "id": "e296525c",
   "metadata": {},
   "outputs": [
    {
     "data": {
      "text/html": [
       "<pre class=\"language-APL\">┌─────┬─────┐\n",
       "│1 2 3│4 5 6│\n",
       "└─────┴─────┘\n",
       "</pre>"
      ]
     },
     "execution_count": 78,
     "metadata": {},
     "output_type": "execute_result"
    }
   ],
   "source": [
    "(1 2 3) (4 5 6)     ⍝ vector of vectors"
   ]
  },
  {
   "cell_type": "markdown",
   "id": "08ed1f68",
   "metadata": {},
   "source": [
    "All the same principles of pervasion apply:"
   ]
  },
  {
   "cell_type": "code",
   "execution_count": 93,
   "id": "2a6f9851",
   "metadata": {},
   "outputs": [
    {
     "data": {
      "text/html": [
       "<pre class=\"language-APL\">┌────────┬───────────┐\n",
       "│10 20 30│400 500 600│\n",
       "└────────┴───────────┘\n",
       "</pre>"
      ]
     },
     "execution_count": 93,
     "metadata": {},
     "output_type": "execute_result"
    }
   ],
   "source": [
    "10 100×(1 2 3) (4 5 6)"
   ]
  },
  {
   "cell_type": "markdown",
   "id": "a814be85",
   "metadata": {},
   "source": [
    "One final note about vectors - there's a nasty gap in the notation. If you want to write a vector with multiple elements you just write them next to each other, e.g. `a b c`. If you want a vector with just one element, writing that element on its own doesn't do the trick, as that just evaluates to the *scalar*, not the *vector* containing only that scalar. To create the one-element vector containing a scalar, use monadic `,` (just a normal comma), which enlists it's input:"
   ]
  },
  {
   "cell_type": "code",
   "execution_count": 96,
   "id": "7035eb29",
   "metadata": {},
   "outputs": [
    {
     "data": {
      "text/html": [
       "<pre class=\"language-APL\">3\n",
       "</pre>"
      ]
     },
     "execution_count": 96,
     "metadata": {},
     "output_type": "execute_result"
    },
    {
     "data": {
      "text/html": [
       "<pre class=\"language-APL\">0\n",
       "</pre>"
      ]
     },
     "execution_count": 96,
     "metadata": {},
     "output_type": "execute_result"
    }
   ],
   "source": [
    ",3        ⍝ on TryAPL, this won't render any differently, but we can check that it is distinct\n",
    "3≡,3      ⍝ this evaluates to 0, showing that ,3 is indeed a different thing to 3"
   ]
  },
  {
   "cell_type": "markdown",
   "id": "59781002",
   "metadata": {},
   "source": [
    "Have some fun with vectors using the functions we've already covered. The behaviour takes some getting used to."
   ]
  },
  {
   "cell_type": "markdown",
   "id": "a436cf56",
   "metadata": {},
   "source": [
    "## Reductions"
   ]
  },
  {
   "cell_type": "markdown",
   "id": "86c2b79d",
   "metadata": {},
   "source": [
    "Very often, we have a vector of values and we want to find some property of the vector as a whole, like its sum. For this, APL provides us with *reductions*, so named because they reduce the dimensions of the input, in our case from a vector (1-dimensional) to a scalar (0-dimensional)."
   ]
  },
  {
   "cell_type": "markdown",
   "id": "65491e9d",
   "metadata": {},
   "source": [
    "Say we have a vector `1 2 3`. To find it's sum we want to put a `+` between all the elements, `1+2+3`, and evaluate that, giving `6`. APL provides the shorthand `+/` (read 'plus reduce') to do this for us:"
   ]
  },
  {
   "cell_type": "code",
   "execution_count": 49,
   "id": "c1659f64",
   "metadata": {},
   "outputs": [
    {
     "data": {
      "text/html": [
       "<pre class=\"language-APL\">6\n",
       "</pre>"
      ]
     },
     "execution_count": 49,
     "metadata": {},
     "output_type": "execute_result"
    }
   ],
   "source": [
    "+/1 2 3"
   ]
  },
  {
   "cell_type": "markdown",
   "id": "cdf531b0",
   "metadata": {},
   "source": [
    "This form extends to any function you like:"
   ]
  },
  {
   "cell_type": "code",
   "execution_count": 52,
   "id": "94aee30a",
   "metadata": {},
   "outputs": [
    {
     "data": {
      "text/html": [
       "<pre class=\"language-APL\">1000\n",
       "</pre>"
      ]
     },
     "execution_count": 52,
     "metadata": {},
     "output_type": "execute_result"
    }
   ],
   "source": [
    "×/10 10 10          ⍝ product of a vector"
   ]
  },
  {
   "cell_type": "code",
   "execution_count": 54,
   "id": "f7880c3a",
   "metadata": {},
   "outputs": [
    {
     "data": {
      "text/html": [
       "<pre class=\"language-APL\">1\n",
       "</pre>"
      ]
     },
     "execution_count": 54,
     "metadata": {},
     "output_type": "execute_result"
    }
   ],
   "source": [
    "∨/0 0 1 0           ⍝ can you figure out what this is doing? try it with different vectors"
   ]
  },
  {
   "cell_type": "markdown",
   "id": "1ca78506",
   "metadata": {},
   "source": [
    "We've now covered everything we need for you to attempt this challenge: write an expression that returns a scalar `1` (meaning true) when two vectors are equal, and scalar `0` (meaning false) when they're not. `=` alone will not work! Don't look ahead until you're done (or you want spoilers)."
   ]
  },
  {
   "cell_type": "code",
   "execution_count": 81,
   "id": "52db6733",
   "metadata": {},
   "outputs": [
    {
     "data": {
      "text/html": [
       "<pre class=\"language-APL\">1\n",
       "</pre>"
      ]
     },
     "execution_count": 81,
     "metadata": {},
     "output_type": "execute_result"
    },
    {
     "data": {
      "text/html": [
       "<pre class=\"language-APL\">0\n",
       "</pre>"
      ]
     },
     "execution_count": 81,
     "metadata": {},
     "output_type": "execute_result"
    }
   ],
   "source": [
    "⍝ answer:\n",
    "∧/1 2 3=1 2 3\n",
    "∧/1 2 3=3 2 1"
   ]
  },
  {
   "cell_type": "markdown",
   "id": "716e1b6d",
   "metadata": {},
   "source": [
    "To save us from having to write this out every time, APL has the `≡` function (pronounced 'match' and typed `` `: ``), which does the same thing."
   ]
  },
  {
   "cell_type": "code",
   "execution_count": 71,
   "id": "b720bf69",
   "metadata": {},
   "outputs": [
    {
     "data": {
      "text/html": [
       "<pre class=\"language-APL\">1\n",
       "</pre>"
      ]
     },
     "execution_count": 71,
     "metadata": {},
     "output_type": "execute_result"
    },
    {
     "data": {
      "text/html": [
       "<pre class=\"language-APL\">0\n",
       "</pre>"
      ]
     },
     "execution_count": 71,
     "metadata": {},
     "output_type": "execute_result"
    }
   ],
   "source": [
    "1 2 3≡1 2 3         ⍝ `:\n",
    "1 2 3≡3 2 1"
   ]
  },
  {
   "cell_type": "markdown",
   "id": "916193f3",
   "metadata": {},
   "source": [
    "## Indexing"
   ]
  },
  {
   "cell_type": "markdown",
   "id": "a9413d70",
   "metadata": {},
   "source": [
    "A fundamental operation on vectors that we haven't looked at yet is indexing. To select a specific element of a vector by it's index, use square brackets just like you would in other programming langauges."
   ]
  },
  {
   "cell_type": "markdown",
   "id": "737c6680",
   "metadata": {},
   "source": [
    "Unlike other langauges, indexing is *1-based*. This means that to select the first element of some vector `v`, you would do `v[1]`. If you're coming from a mathematical background, this will seem quite natural. If you're primarily a programmer used to 0-based indexing, I'm so sorry that you have to deal with this. What's even worse is that the index base is actually *configurable*, which leads to endless debate."
   ]
  },
  {
   "cell_type": "code",
   "execution_count": 60,
   "id": "b28baae2",
   "metadata": {},
   "outputs": [
    {
     "data": {
      "text/html": [
       "<pre class=\"language-APL\">5\n",
       "</pre>"
      ]
     },
     "execution_count": 60,
     "metadata": {},
     "output_type": "execute_result"
    }
   ],
   "source": [
    "4 5 6[2]  ⍝ get the 2nd element"
   ]
  },
  {
   "cell_type": "markdown",
   "id": "03e8cda1",
   "metadata": {},
   "source": [
    "Of course, APL doesn't stop there. You can also index a vector with another vector:"
   ]
  },
  {
   "cell_type": "code",
   "execution_count": 64,
   "id": "1542f5a1",
   "metadata": {},
   "outputs": [
    {
     "data": {
      "text/html": [
       "<pre class=\"language-APL\">6 4\n",
       "</pre>"
      ]
     },
     "execution_count": 64,
     "metadata": {},
     "output_type": "execute_result"
    },
    {
     "data": {
      "text/html": [
       "<pre class=\"language-APL\">5 5 5 5\n",
       "</pre>"
      ]
     },
     "execution_count": 64,
     "metadata": {},
     "output_type": "execute_result"
    }
   ],
   "source": [
    "4 5 6[3 1]          ⍝ get the third and first elements in that order\n",
    "4 5 6[2 2 2 2]      ⍝ four copies of the 2nd element"
   ]
  },
  {
   "cell_type": "markdown",
   "id": "ce99d369",
   "metadata": {},
   "source": [
    "There are tons of ways to generate vectors of indices to be used like this, most of which are out of scope for us right now. We'll just introduce one of the most fundamental as a taster."
   ]
  },
  {
   "cell_type": "markdown",
   "id": "f73f9b91",
   "metadata": {},
   "source": [
    "The `⍳` function (pronounced 'eye-oh-tuh', typed `` `i ``) takes a number and generates all the numbers from up to it:"
   ]
  },
  {
   "cell_type": "code",
   "execution_count": 67,
   "id": "f1acd5dd",
   "metadata": {},
   "outputs": [
    {
     "data": {
      "text/html": [
       "<pre class=\"language-APL\">1 2 3 4 5 6 7 8 9 10\n",
       "</pre>"
      ]
     },
     "execution_count": 67,
     "metadata": {},
     "output_type": "execute_result"
    }
   ],
   "source": [
    "⍳10"
   ]
  },
  {
   "cell_type": "markdown",
   "id": "443efaa1",
   "metadata": {},
   "source": [
    "We can use this to generate some indices for indexing:"
   ]
  },
  {
   "cell_type": "code",
   "execution_count": 73,
   "id": "1591a6ca",
   "metadata": {},
   "outputs": [
    {
     "data": {
      "text/html": [
       "<pre class=\"language-APL\">7 6 5 4 3\n",
       "</pre>"
      ]
     },
     "execution_count": 73,
     "metadata": {},
     "output_type": "execute_result"
    }
   ],
   "source": [
    "9 8 7 6 5 4 3 2 1[2+⍳5]"
   ]
  },
  {
   "cell_type": "markdown",
   "id": "20dc3a4f",
   "metadata": {},
   "source": [
    "You can also assign to indexed parts of an array:"
   ]
  },
  {
   "cell_type": "code",
   "execution_count": 72,
   "id": "12a401bb",
   "metadata": {},
   "outputs": [
    {
     "data": {
      "text/html": [
       "<pre class=\"language-APL\">4 0 6 0 8 0\n",
       "</pre>"
      ]
     },
     "execution_count": 72,
     "metadata": {},
     "output_type": "execute_result"
    }
   ],
   "source": [
    "v←4 5 6 7 8 9\n",
    "v[2 4 6]←0          ⍝ assignment to parts of a vector\n",
    "v"
   ]
  },
  {
   "cell_type": "markdown",
   "id": "9166c571",
   "metadata": {},
   "source": [
    "## Linear Combinations"
   ]
  },
  {
   "cell_type": "markdown",
   "id": "5e51d946",
   "metadata": {},
   "source": [
    "It's finally time to get down to some linear algebra. Given scalars $\\alpha_1,\\alpha_2,\\ldots,\\alpha_n$ and vectors $v_1,v_2,\\ldots,v_n$ which are all the same length $$\\alpha_1v_1+\\alpha_2v_2+\\ldots+\\alpha_nv_n$$ is a *linear combination* of the vectors $v_1,v_2,\\ldots,v_n$. We can model this easily in APL:"
   ]
  },
  {
   "cell_type": "code",
   "execution_count": 84,
   "id": "53fb36f6",
   "metadata": {},
   "outputs": [
    {
     "data": {
      "text/html": [
       "<pre class=\"language-APL\">┌────────┐\n",
       "│36 42 48│\n",
       "└────────┘\n",
       "</pre>"
      ]
     },
     "execution_count": 84,
     "metadata": {},
     "output_type": "execute_result"
    }
   ],
   "source": [
    "a←3 2 1\n",
    "v←(4 5 6) (7 8 9) (10 11 12)\n",
    "+/a×v"
   ]
  },
  {
   "cell_type": "markdown",
   "id": "545be06c",
   "metadata": {},
   "source": [
    "There's a catch here. If you're using TryAPL (or any interpreter with boxing enabled) you'll see that this vector has a box drawn round it. This is because it's actually not a vector, it's a scalar whose element is a vector. Remember that `+/` is a *reduction*, this means it obeys a contract to *reduce* the dimensions of it's input by one. Since the input was a vector, and the naive output is also a vector, `+/` *encloses* the result so that it's a scalar (one-dimensional). It's like our vector has been put in a box with 'this is actually a scalar' scrawn on the sides."
   ]
  },
  {
   "cell_type": "markdown",
   "id": "547b7e54",
   "metadata": {},
   "source": [
    "You can enclose things yourself using the enclose function `⊂` (`` `z ``):"
   ]
  },
  {
   "cell_type": "code",
   "execution_count": 86,
   "id": "7326d3c3",
   "metadata": {},
   "outputs": [
    {
     "data": {
      "text/html": [
       "<pre class=\"language-APL\">┌─────┐\n",
       "│1 2 3│\n",
       "└─────┘\n",
       "</pre>"
      ]
     },
     "execution_count": 86,
     "metadata": {},
     "output_type": "execute_result"
    },
    {
     "data": {
      "text/html": [
       "<pre class=\"language-APL\">1\n",
       "</pre>"
      ]
     },
     "execution_count": 86,
     "metadata": {},
     "output_type": "execute_result"
    }
   ],
   "source": [
    "⊂1 2 3    ⍝ `z\n",
    "⊂1        ⍝ enclosing a simple scalar does nothing, it's already a scalar!"
   ]
  },
  {
   "cell_type": "markdown",
   "id": "993a1453",
   "metadata": {},
   "source": [
    "To undo an enclose, use `⊃` (`` `x ``):"
   ]
  },
  {
   "cell_type": "code",
   "execution_count": 90,
   "id": "afe94e2a",
   "metadata": {},
   "outputs": [
    {
     "data": {
      "text/html": [
       "<pre class=\"language-APL\">1 2 3\n",
       "</pre>"
      ]
     },
     "execution_count": 90,
     "metadata": {},
     "output_type": "execute_result"
    },
    {
     "data": {
      "text/html": [
       "<pre class=\"language-APL\">1\n",
       "</pre>"
      ]
     },
     "execution_count": 90,
     "metadata": {},
     "output_type": "execute_result"
    }
   ],
   "source": [
    "⊃⊂1 2 3   ⍝ `x\n",
    "⊃1        ⍝ again no effect!"
   ]
  },
  {
   "cell_type": "markdown",
   "id": "446ca6a7",
   "metadata": {},
   "source": [
    "This is one of the rough edges of APL, and it's unfortunate that it takes all that explanation just to say that you need to do:"
   ]
  },
  {
   "cell_type": "code",
   "execution_count": 89,
   "id": "7e848e9e",
   "metadata": {},
   "outputs": [
    {
     "data": {
      "text/html": [
       "<pre class=\"language-APL\">36 42 48\n",
       "</pre>"
      ]
     },
     "execution_count": 89,
     "metadata": {},
     "output_type": "execute_result"
    }
   ],
   "source": [
    "⊃+/a×v"
   ]
  },
  {
   "cell_type": "markdown",
   "id": "dbac743a",
   "metadata": {},
   "source": [
    "to get the simple vector out for a linear combination."
   ]
  },
  {
   "cell_type": "markdown",
   "id": "d9071f63",
   "metadata": {},
   "source": [
    "## Matrices\n",
    "\n",
    "It's time to really show what the 'multi' in 'multidimensional' means. In APL, every array has a *shape*, which is a vector where an element describes the length of a dimension. For example, the shape of a vector `1 2 3` will be the one element vector `,3`, since the vector is 3 elements long in the first dimension. The shape of a scalar is an empty vector (there are no dimensions, so it has no length in any dimension). You can inspect the shape of an array with monadic `⍴` (`` `r ``):"
   ]
  },
  {
   "cell_type": "code",
   "execution_count": 98,
   "id": "7bdca8b6",
   "metadata": {},
   "outputs": [
    {
     "data": {
      "text/html": [
       "<pre class=\"language-APL\">3\n",
       "</pre>"
      ]
     },
     "execution_count": 98,
     "metadata": {},
     "output_type": "execute_result"
    },
    {
     "data": {
      "text/html": [
       "<pre class=\"language-APL\">\n",
       "</pre>"
      ]
     },
     "execution_count": 98,
     "metadata": {},
     "output_type": "execute_result"
    },
    {
     "data": {
      "text/html": [
       "<pre class=\"language-APL\">1\n",
       "</pre>"
      ]
     },
     "execution_count": 98,
     "metadata": {},
     "output_type": "execute_result"
    }
   ],
   "source": [
    "⍴1 2 3\n",
    "⍴4        ⍝ shape will be an empty vector, so there's nothing to render\n",
    "⍴,5       ⍝ 1 element vector"
   ]
  },
  {
   "cell_type": "markdown",
   "id": "2acf384a",
   "metadata": {},
   "source": [
    "If you want to change the shape of an array, you can use `⍴` *dyadically* with the new shape as a left argument:"
   ]
  },
  {
   "cell_type": "code",
   "execution_count": 100,
   "id": "39df35b3",
   "metadata": {},
   "outputs": [
    {
     "data": {
      "text/html": [
       "<pre class=\"language-APL\">1 2 3\n",
       "</pre>"
      ]
     },
     "execution_count": 100,
     "metadata": {},
     "output_type": "execute_result"
    },
    {
     "data": {
      "text/html": [
       "<pre class=\"language-APL\">1 2 3 4 5 1 2 3 4 5\n",
       "</pre>"
      ]
     },
     "execution_count": 100,
     "metadata": {},
     "output_type": "execute_result"
    }
   ],
   "source": [
    "3⍴1 2 3 4 5         ⍝ reshape to 3 elements long\n",
    "10⍴1 2 3 4 5        ⍝ if there's not enough elements, cycle from the start"
   ]
  },
  {
   "cell_type": "markdown",
   "id": "02e15d71",
   "metadata": {},
   "source": [
    "A matrix is a two-dimensional array. If you've used other programming languages, you may have approximated two-dimensional arrays with vectors of vectors:"
   ]
  },
  {
   "cell_type": "code",
   "execution_count": 102,
   "id": "43600750",
   "metadata": {},
   "outputs": [
    {
     "data": {
      "text/html": [
       "<pre class=\"language-APL\">┌─────┬─────┬─────┐\n",
       "│1 2 3│4 5 6│7 8 9│\n",
       "└─────┴─────┴─────┘\n",
       "</pre>"
      ]
     },
     "execution_count": 102,
     "metadata": {},
     "output_type": "execute_result"
    }
   ],
   "source": [
    "(1 2 3)(4 5 6)(7 8 9)"
   ]
  },
  {
   "cell_type": "markdown",
   "id": "5a20ba02",
   "metadata": {},
   "source": [
    "In APL, we can do better than that. We can create a true matrix by reshaping with a two-element shape:"
   ]
  },
  {
   "cell_type": "code",
   "execution_count": 106,
   "id": "b8b6fc9e",
   "metadata": {},
   "outputs": [
    {
     "data": {
      "text/html": [
       "<pre class=\"language-APL\">1 2 3\n",
       "4 5 6\n",
       "1 2 3\n",
       "4 5 6\n",
       "</pre>"
      ]
     },
     "execution_count": 106,
     "metadata": {},
     "output_type": "execute_result"
    }
   ],
   "source": [
    "4 3⍴1 2 3 4 5 6"
   ]
  },
  {
   "cell_type": "markdown",
   "id": "8e47e46b",
   "metadata": {},
   "source": [
    "Note the order of the shape elements in the example above. There are `4` rows, each with length `3`. It can make it easier to read the shape `4 3` as '`4` rows of length `3`'."
   ]
  },
  {
   "cell_type": "markdown",
   "id": "e4daa75e",
   "metadata": {},
   "source": [
    "As a challenge, try to use `⍴` to create a three by three identity matrix, but only writing the number `1` once. Don't move on until you have an answer or want spoilers."
   ]
  },
  {
   "cell_type": "code",
   "execution_count": 107,
   "id": "c0c39468",
   "metadata": {},
   "outputs": [
    {
     "data": {
      "text/html": [
       "<pre class=\"language-APL\">1 0 0\n",
       "0 1 0\n",
       "0 0 1\n",
       "</pre>"
      ]
     },
     "execution_count": 107,
     "metadata": {},
     "output_type": "execute_result"
    }
   ],
   "source": [
    "3 3⍴1 0 0 0"
   ]
  },
  {
   "cell_type": "markdown",
   "id": "681e2828",
   "metadata": {},
   "source": [
    "Just like vectors, we can apply arithmetic operations to matrices. So we don't have to write out big matrices many times over in the next examples, let's define some here:"
   ]
  },
  {
   "cell_type": "code",
   "execution_count": 117,
   "id": "f2ffeab3",
   "metadata": {},
   "outputs": [
    {
     "data": {
      "text/html": [
       "<pre class=\"language-APL\">1 2 3\n",
       "4 5 6\n",
       "7 8 9\n",
       "</pre>"
      ]
     },
     "execution_count": 117,
     "metadata": {},
     "output_type": "execute_result"
    },
    {
     "data": {
      "text/html": [
       "<pre class=\"language-APL\">1 0 0\n",
       "0 1 0\n",
       "0 0 1\n",
       "</pre>"
      ]
     },
     "execution_count": 117,
     "metadata": {},
     "output_type": "execute_result"
    },
    {
     "data": {
      "text/html": [
       "<pre class=\"language-APL\">1 2\n",
       "3 4\n",
       "</pre>"
      ]
     },
     "execution_count": 117,
     "metadata": {},
     "output_type": "execute_result"
    },
    {
     "data": {
      "text/html": [
       "<pre class=\"language-APL\">4 3\n",
       "2 1\n",
       "</pre>"
      ]
     },
     "execution_count": 117,
     "metadata": {},
     "output_type": "execute_result"
    }
   ],
   "source": [
    "m←3 3⍴1 2 3 4 5 6 7 8 9\n",
    "m\n",
    "i3←3 3⍴1 0 0 0                ⍝ (,⍨⍴1↑⍨1+⊢)3 for any advanced readers\n",
    "i3\n",
    "a←2 2⍴1 2 3 4\n",
    "a\n",
    "b←2 2⍴4 3 2 1\n",
    "b"
   ]
  },
  {
   "cell_type": "markdown",
   "id": "6ebae168",
   "metadata": {},
   "source": [
    "Just like on vectors, arithmetic functions operating on matrices will distribute a scalar argument across the whole thing:"
   ]
  },
  {
   "cell_type": "code",
   "execution_count": 113,
   "id": "9e9c5c88",
   "metadata": {},
   "outputs": [
    {
     "data": {
      "text/html": [
       "<pre class=\"language-APL\"> 2  4  6\n",
       " 8 10 12\n",
       "14 16 18\n",
       "</pre>"
      ]
     },
     "execution_count": 113,
     "metadata": {},
     "output_type": "execute_result"
    }
   ],
   "source": [
    "2×m"
   ]
  },
  {
   "cell_type": "markdown",
   "id": "33478a3c",
   "metadata": {},
   "source": [
    "And arithmetic functions operating on two matrices will match up arguments elementwise:"
   ]
  },
  {
   "cell_type": "code",
   "execution_count": 114,
   "id": "e35d409e",
   "metadata": {},
   "outputs": [
    {
     "data": {
      "text/html": [
       "<pre class=\"language-APL\"> 2  4  6\n",
       " 8 10 12\n",
       "14 16 18\n",
       "</pre>"
      ]
     },
     "execution_count": 114,
     "metadata": {},
     "output_type": "execute_result"
    }
   ],
   "source": [
    "m+m"
   ]
  },
  {
   "cell_type": "code",
   "execution_count": 115,
   "id": "11419a55",
   "metadata": {},
   "outputs": [
    {
     "data": {
      "text/html": [
       "<pre class=\"language-APL\"> 1  4  9\n",
       "16 25 36\n",
       "49 64 81\n",
       "</pre>"
      ]
     },
     "execution_count": 115,
     "metadata": {},
     "output_type": "execute_result"
    }
   ],
   "source": [
    "m×m"
   ]
  },
  {
   "cell_type": "markdown",
   "id": "daad8c63",
   "metadata": {},
   "source": [
    "This document assumes that you know some basic linear algebra. If you do you may have looked at the example above and exclaimed 'that's not how you do matrix multiplication!'. And you would be right. For consistency with the other arithmetic functions, `×` is not overloaded to do the special form of matrix multiplication."
   ]
  },
  {
   "cell_type": "markdown",
   "id": "4e1792e6",
   "metadata": {},
   "source": [
    "The pattern of multiplications followed by a sum used in 'proper' matrix multiplication is useful enough that we sometimes want to use it with functions other than multiplications and sums. Because of this, it's abstracted out to the combinator `.` (just a normal full-stop), so we represent matrix multiplication as `+.×`."
   ]
  },
  {
   "cell_type": "code",
   "execution_count": 119,
   "id": "8bb73c62",
   "metadata": {},
   "outputs": [
    {
     "data": {
      "text/html": [
       "<pre class=\"language-APL\">1 2\n",
       "3 4\n",
       "</pre>"
      ]
     },
     "execution_count": 119,
     "metadata": {},
     "output_type": "execute_result"
    },
    {
     "data": {
      "text/html": [
       "<pre class=\"language-APL\">4 3\n",
       "2 1\n",
       "</pre>"
      ]
     },
     "execution_count": 119,
     "metadata": {},
     "output_type": "execute_result"
    },
    {
     "data": {
      "text/html": [
       "<pre class=\"language-APL\"> 8  5\n",
       "20 13\n",
       "</pre>"
      ]
     },
     "execution_count": 119,
     "metadata": {},
     "output_type": "execute_result"
    }
   ],
   "source": [
    "a\n",
    "b\n",
    "a+.×b     ⍝ 'proper' matrix multiplication of a and b\n",
    "          ⍝ a(+/×⍤1⍤1 2∘⍉)b is another way if you can read that"
   ]
  },
  {
   "cell_type": "markdown",
   "id": "cb5e7522",
   "metadata": {},
   "source": [
    "We're not going to use any other forms that `+.×`, but if you're interested in a cool use for it, search for 'transitive closure' on [APLCart](https://aplcart.info/)."
   ]
  },
  {
   "cell_type": "markdown",
   "id": "62e5d9bd",
   "metadata": {},
   "source": [
    "Another common matrix operation is transposition. APL has a dedicated function for this: `⍉` (typed `` `^ ``). "
   ]
  },
  {
   "cell_type": "code",
   "execution_count": 121,
   "id": "93c924f6",
   "metadata": {},
   "outputs": [
    {
     "data": {
      "text/html": [
       "<pre class=\"language-APL\">1 4 7\n",
       "2 5 8\n",
       "3 6 9\n",
       "</pre>"
      ]
     },
     "execution_count": 121,
     "metadata": {},
     "output_type": "execute_result"
    }
   ],
   "source": [
    "⍉m        ⍝ `^"
   ]
  },
  {
   "cell_type": "markdown",
   "id": "53f29769",
   "metadata": {},
   "source": [
    "Matrices can be indexed into just like vectors. Since we have two dimensions to index, we have to provide two indices in the `[]`s, separated by semicolons:"
   ]
  },
  {
   "cell_type": "code",
   "execution_count": 123,
   "id": "daee8497",
   "metadata": {},
   "outputs": [
    {
     "data": {
      "text/html": [
       "<pre class=\"language-APL\">1 2 3\n",
       "4 5 6\n",
       "7 8 9\n",
       "</pre>"
      ]
     },
     "execution_count": 123,
     "metadata": {},
     "output_type": "execute_result"
    },
    {
     "data": {
      "text/html": [
       "<pre class=\"language-APL\">6\n",
       "</pre>"
      ]
     },
     "execution_count": 123,
     "metadata": {},
     "output_type": "execute_result"
    }
   ],
   "source": [
    "m\n",
    "m[2;3]"
   ]
  },
  {
   "cell_type": "markdown",
   "id": "45a77fe6",
   "metadata": {},
   "source": [
    "The first place indexes the rows of the matrix, and the second place indexes the columns. This is the same order as the dimensions appear in the shape - rows first, then columns."
   ]
  },
  {
   "cell_type": "markdown",
   "id": "526197f9",
   "metadata": {},
   "source": [
    "If you leave out a dimension, APL infers all possible indices that could go there. This lets you select a whole row or whole column easily."
   ]
  },
  {
   "cell_type": "code",
   "execution_count": 125,
   "id": "e6b0b973",
   "metadata": {},
   "outputs": [
    {
     "data": {
      "text/html": [
       "<pre class=\"language-APL\">4 5 6\n",
       "</pre>"
      ]
     },
     "execution_count": 125,
     "metadata": {},
     "output_type": "execute_result"
    },
    {
     "data": {
      "text/html": [
       "<pre class=\"language-APL\">2 5 8\n",
       "</pre>"
      ]
     },
     "execution_count": 125,
     "metadata": {},
     "output_type": "execute_result"
    }
   ],
   "source": [
    "m[2;]     ⍝ whole 2nd row\n",
    "m[;2]     ⍝ whole 2nd column"
   ]
  },
  {
   "cell_type": "markdown",
   "id": "f21631ac",
   "metadata": {},
   "source": [
    "Just like indexing with vectors, you can pass a vector of indices to select multiple rows or multiple columns."
   ]
  },
  {
   "cell_type": "code",
   "execution_count": 127,
   "id": "3fb758b6",
   "metadata": {},
   "outputs": [
    {
     "data": {
      "text/html": [
       "<pre class=\"language-APL\">7 8 9\n",
       "1 2 3\n",
       "</pre>"
      ]
     },
     "execution_count": 127,
     "metadata": {},
     "output_type": "execute_result"
    }
   ],
   "source": [
    "m[3 1;]   ⍝ select the 3rd and 1st rows"
   ]
  },
  {
   "cell_type": "markdown",
   "id": "706e063d",
   "metadata": {},
   "source": [
    "You can also do modified assignment, just like you could with vectors."
   ]
  },
  {
   "cell_type": "code",
   "execution_count": 129,
   "id": "b8b54119",
   "metadata": {},
   "outputs": [
    {
     "data": {
      "text/html": [
       "<pre class=\"language-APL\"> 1  2  3\n",
       "40 50 60\n",
       " 7  8  9\n",
       "</pre>"
      ]
     },
     "execution_count": 129,
     "metadata": {},
     "output_type": "execute_result"
    }
   ],
   "source": [
    "m[2;]←40 50 60\n",
    "m"
   ]
  },
  {
   "cell_type": "markdown",
   "id": "637e8c83",
   "metadata": {},
   "source": [
    "APL can also do more complicated assignments. Just like you can do `a += b` in C or Python, you can do `a+←b` in APL as a shorthand for `a←a+b`. Additionally, you can use any function you want in place of `+`!"
   ]
  },
  {
   "cell_type": "code",
   "execution_count": 131,
   "id": "98aa97d4",
   "metadata": {},
   "outputs": [
    {
     "data": {
      "text/html": [
       "<pre class=\"language-APL\">1 2 3\n",
       "4 5 6\n",
       "7 8 9\n",
       "</pre>"
      ]
     },
     "execution_count": 131,
     "metadata": {},
     "output_type": "execute_result"
    },
    {
     "data": {
      "text/html": [
       "<pre class=\"language-APL\"> 1  2  3\n",
       "14 15 16\n",
       " 7  8  9\n",
       "</pre>"
      ]
     },
     "execution_count": 131,
     "metadata": {},
     "output_type": "execute_result"
    }
   ],
   "source": [
    "m←3 3⍴1 2 3 4 5 6 7 8 9       ⍝ reset m\n",
    "m\n",
    "m[2;]+←10\n",
    "m"
   ]
  },
  {
   "cell_type": "markdown",
   "id": "19b56e1f",
   "metadata": {},
   "source": [
    "## Matrix Inverses\n",
    "\n",
    "Back to some real maths! Recall the definition for the inverse of a two-by-two matrix:"
   ]
  },
  {
   "cell_type": "markdown",
   "id": "a98b01b3",
   "metadata": {},
   "source": [
    "$$\n",
    "\\left[\\begin{array}{cc}\n",
    "    a & b \\\\\n",
    "    c & d\n",
    "\\end{array}\\right]^{-1}\n",
    "=\n",
    "\\frac{1}{ad-bc}\n",
    "\\left[\\begin{array}{cc}\n",
    "    d & -b \\\\\n",
    "    -c & a\n",
    "\\end{array}\\right]\n",
    "$$"
   ]
  },
  {
   "cell_type": "markdown",
   "id": "553f3674",
   "metadata": {},
   "source": [
    "Firstly, a neat little trick. If you have a vector and you need to unpack it into several individual variables (for example, we need `a`, `b`, `c`, and `d` to implement the formula above), APL has a special syntax for just that:"
   ]
  },
  {
   "cell_type": "code",
   "execution_count": 133,
   "id": "693e911f",
   "metadata": {},
   "outputs": [
    {
     "data": {
      "text/html": [
       "<pre class=\"language-APL\">2\n",
       "</pre>"
      ]
     },
     "execution_count": 133,
     "metadata": {},
     "output_type": "execute_result"
    },
    {
     "data": {
      "text/html": [
       "<pre class=\"language-APL\">1\n",
       "</pre>"
      ]
     },
     "execution_count": 133,
     "metadata": {},
     "output_type": "execute_result"
    },
    {
     "data": {
      "text/html": [
       "<pre class=\"language-APL\">1\n",
       "</pre>"
      ]
     },
     "execution_count": 133,
     "metadata": {},
     "output_type": "execute_result"
    },
    {
     "data": {
      "text/html": [
       "<pre class=\"language-APL\">3\n",
       "</pre>"
      ]
     },
     "execution_count": 133,
     "metadata": {},
     "output_type": "execute_result"
    }
   ],
   "source": [
    "m←2 2⍴2 1 1 3\n",
    "(a b c d)←,m        ⍝ first we need to flatten the matrix, only vectors can be unpacked \n",
    "a\n",
    "b\n",
    "c\n",
    "d"
   ]
  },
  {
   "cell_type": "markdown",
   "id": "400efe24",
   "metadata": {},
   "source": [
    "Now that we have extracted `a`, `b`, `c` and `d` from `m`, as a challenge, write the expression which will return the inverse of `m`. Find the inverse by hand as well to check your result. Don't continue until you're ready to see the answer."
   ]
  },
  {
   "cell_type": "code",
   "execution_count": 135,
   "id": "5bfb98aa",
   "metadata": {},
   "outputs": [
    {
     "data": {
      "text/html": [
       "<pre class=\"language-APL\"> 0.6 ¯0.2\n",
       "¯0.2  0.4\n",
       "</pre>"
      ]
     },
     "execution_count": 135,
     "metadata": {},
     "output_type": "execute_result"
    }
   ],
   "source": [
    "⍝┌─ 1/              d -b\n",
    "⍝│┌ ad-bc ┐  ┌──── -c  a ─────┐\n",
    "(÷(a×d)-b×c)×2 2⍴ d (-b) (-c) a"
   ]
  },
  {
   "cell_type": "markdown",
   "id": "c8c02ebf",
   "metadata": {},
   "source": [
    "Along with the unpacking, this kind of process is tedious to write out every time we need to find a matrix inverse, so it makes sense to wrap this up in a function."
   ]
  },
  {
   "cell_type": "markdown",
   "id": "89287536",
   "metadata": {},
   "source": [
    "To create a function in APL, just wrap your code in `{}`s, and assign the whole block to a variable. Within the code block, you can refer to the left argument passed to your function with `⍺` (the *leftmost* letter in the Greek alphabet, typed `` `a ``), and the right argument with `⍵` (likewise the *rightmost* Greek letter, typed `` `w ``)."
   ]
  },
  {
   "cell_type": "markdown",
   "id": "13a16956",
   "metadata": {},
   "source": [
    "In the code block below, the `]dinput` is necessary as a hack for multiline input in Jupyter Notebooks. If you want to write your own function in TryAPL, you don't need to include it."
   ]
  },
  {
   "cell_type": "code",
   "execution_count": 139,
   "id": "2e411fd3",
   "metadata": {},
   "outputs": [],
   "source": [
    "]dinput\n",
    "Invert←{\n",
    "    (a b c d)←,⍵\n",
    "    (÷(a×d)-b×c)×2 2⍴ d (-b) (-c) a\n",
    "}"
   ]
  },
  {
   "cell_type": "markdown",
   "id": "2618141f",
   "metadata": {},
   "source": [
    "Once a function has been defined, we can call it infix-style just like any other function."
   ]
  },
  {
   "cell_type": "code",
   "execution_count": 140,
   "id": "e62bfa8f",
   "metadata": {
    "scrolled": true
   },
   "outputs": [
    {
     "data": {
      "text/html": [
       "<pre class=\"language-APL\"> 0.6 ¯0.2\n",
       "¯0.2  0.4\n",
       "</pre>"
      ]
     },
     "execution_count": 140,
     "metadata": {},
     "output_type": "execute_result"
    }
   ],
   "source": [
    "Invert 2 2⍴2 1 1 3"
   ]
  },
  {
   "cell_type": "markdown",
   "id": "58adf07a",
   "metadata": {},
   "source": [
    "We now have all the tools we need to solve systems of two linear equations in APL. For example:\n",
    "\n",
    "$$\n",
    "\\begin{alignat}{3}\n",
    "     x & +2y && =3  \\\\\n",
    "    4x & +5y && =6\n",
    "\\end{alignat}\n",
    "$$"
   ]
  },
  {
   "cell_type": "markdown",
   "id": "a242f9c2",
   "metadata": {},
   "source": [
    "We can rewrite this in terms of matrices as:\n",
    "\n",
    "$$\n",
    "\\left[\\begin{array}{cc}\n",
    "    1 & 2 \\\\\n",
    "    4 & 5\n",
    "\\end{array}\\right]\n",
    "\\left[\\begin{array}{c}\n",
    "    x \\\\\n",
    "    y\n",
    "\\end{array}\\right]\n",
    "=\n",
    "\\left[\\begin{array}{c}\n",
    "    3 \\\\\n",
    "    6\n",
    "\\end{array}\\right]\n",
    "$$"
   ]
  },
  {
   "cell_type": "markdown",
   "id": "b2b93994",
   "metadata": {},
   "source": [
    "Following the rules of matrix algebra, we can rearrange the equation:\n",
    "\n",
    "$$\n",
    "\\begin{align}\n",
    "    \\left[\\begin{array}{cc}\n",
    "        1 & 2 \\\\\n",
    "        4 & 5\n",
    "    \\end{array}\\right]\n",
    "    \\left[\\begin{array}{c}\n",
    "        x \\\\\n",
    "        y\n",
    "    \\end{array}\\right]\n",
    "    &=\n",
    "    \\left[\\begin{array}{c}\n",
    "        3 \\\\\n",
    "        6\n",
    "    \\end{array}\\right]\n",
    "    \\\\\n",
    "    AX&=B\n",
    "    \\\\\n",
    "    A^{-1}AX&=A^{-1}B\n",
    "    \\\\\n",
    "    X&=A^{-1}B\n",
    "    \\\\\n",
    "    \\left[\\begin{array}{c}\n",
    "        x \\\\\n",
    "        y\n",
    "    \\end{array}\\right]\n",
    "    &=\n",
    "    \\left[\\begin{array}{cc}\n",
    "        1 & 2 \\\\\n",
    "        4 & 5\n",
    "    \\end{array}\\right]^{-1}\n",
    "    \\left[\\begin{array}{c}\n",
    "        3 \\\\\n",
    "        6\n",
    "    \\end{array}\\right]\n",
    "\\end{align}\n",
    "$$"
   ]
  },
  {
   "cell_type": "markdown",
   "id": "d6eeba9c",
   "metadata": {},
   "source": [
    "On the right-hand side we now have a form that we can evaluate in APL."
   ]
  },
  {
   "cell_type": "code",
   "execution_count": 143,
   "id": "0566f35b",
   "metadata": {},
   "outputs": [
    {
     "data": {
      "text/html": [
       "<pre class=\"language-APL\">¯1 2\n",
       "</pre>"
      ]
     },
     "execution_count": 143,
     "metadata": {},
     "output_type": "execute_result"
    }
   ],
   "source": [
    "(Invert 2 2⍴1 2 4 5)+.×3 6"
   ]
  },
  {
   "cell_type": "markdown",
   "id": "488bc2a0",
   "metadata": {},
   "source": [
    "Check this answer by hand, or with your favourite graphing calculator."
   ]
  },
  {
   "cell_type": "markdown",
   "id": "fcc56694",
   "metadata": {},
   "source": [
    "Since our `Invert` function works only on two-by-two matrices, we can't use it to solve linear systems in more than two variables. Fret not! APL provides the `⌹` function (pronounced 'domino', typed `` `+ ``) for finding the inverse of any matrix (if such an inverse exists)."
   ]
  },
  {
   "cell_type": "code",
   "execution_count": 146,
   "id": "b59ebd02",
   "metadata": {},
   "outputs": [
    {
     "data": {
      "text/html": [
       "<pre class=\"language-APL\"> 0.6 ¯0.2\n",
       "¯0.2  0.4\n",
       "</pre>"
      ]
     },
     "execution_count": 146,
     "metadata": {},
     "output_type": "execute_result"
    }
   ],
   "source": [
    "⌹2 2⍴2 1 1 3"
   ]
  },
  {
   "cell_type": "code",
   "execution_count": 148,
   "id": "897c9c4e",
   "metadata": {},
   "outputs": [
    {
     "data": {
      "text/html": [
       "<pre class=\"language-APL\">¯1 2\n",
       "</pre>"
      ]
     },
     "execution_count": 148,
     "metadata": {},
     "output_type": "execute_result"
    }
   ],
   "source": [
    "(⌹2 2⍴1 2 4 5)+.×3 6          ⍝ solving the same linear system"
   ]
  },
  {
   "cell_type": "markdown",
   "id": "4f4b8660",
   "metadata": {},
   "source": [
    "Solving a linear system in 3 variables:\n",
    "\n",
    "$$\n",
    "\\begin{alignat}{3}\n",
    "       & -7y && -4z && =2  \\\\\n",
    "    2x & +4y && +6z && =12 \\\\\n",
    "    3x & +y  && -z  && =-2\n",
    "\\end{alignat}\n",
    "$$"
   ]
  },
  {
   "cell_type": "code",
   "execution_count": 153,
   "id": "3307bf30",
   "metadata": {},
   "outputs": [
    {
     "data": {
      "text/html": [
       "<pre class=\"language-APL\">1 ¯2 3\n",
       "</pre>"
      ]
     },
     "execution_count": 153,
     "metadata": {},
     "output_type": "execute_result"
    }
   ],
   "source": [
    "(⌹3 3⍴0 ¯7 ¯4  2 4 6  3 1 ¯1)+.×2 12 ¯2"
   ]
  },
  {
   "cell_type": "markdown",
   "id": "fb229ce5",
   "metadata": {},
   "source": [
    "Recall that `÷` is reciprocal when called monadically; it gives the inverse under multiplication. `⌹` is very similar, it gives the inverse under *matrix* multiplication. You can even see it in the symbol, it's a `÷` enclosed in a `⎕`!"
   ]
  },
  {
   "cell_type": "markdown",
   "id": "887848aa",
   "metadata": {},
   "source": [
    "Just like we have dyadic `÷` for division, we also have dyadic `⌹` for *matrix* division."
   ]
  },
  {
   "cell_type": "code",
   "execution_count": 156,
   "id": "297bc388",
   "metadata": {},
   "outputs": [
    {
     "data": {
      "text/html": [
       "<pre class=\"language-APL\">¯1 2\n",
       "</pre>"
      ]
     },
     "execution_count": 156,
     "metadata": {},
     "output_type": "execute_result"
    }
   ],
   "source": [
    "3 6⌹2 2⍴1 2 4 5     ⍝ equivalent to (⌹2 2⍴1 2 4 5)+.×3 6 just like a÷b ←→ (÷b)×a\n",
    "                    ⍝ note the argument order!"
   ]
  },
  {
   "cell_type": "markdown",
   "id": "13d87a72",
   "metadata": {},
   "source": [
    "This lets us solve systems of linear equations as large as we want super succinctly!"
   ]
  },
  {
   "cell_type": "code",
   "execution_count": 158,
   "id": "fb939034",
   "metadata": {},
   "outputs": [
    {
     "data": {
      "text/html": [
       "<pre class=\"language-APL\">1 ¯2 3\n",
       "</pre>"
      ]
     },
     "execution_count": 158,
     "metadata": {},
     "output_type": "execute_result"
    }
   ],
   "source": [
    "2 12 ¯2⌹3 3⍴0 ¯7 ¯4  2 4 6  3 1 ¯1"
   ]
  },
  {
   "cell_type": "markdown",
   "id": "caf1bea1",
   "metadata": {},
   "source": [
    "And that's it! If you've followed this document dutifully from the start through to the end, you've gone from knowing no APL to doing vector and matrix algebra, and solving systems of linear equations in one line of code! "
   ]
  },
  {
   "cell_type": "markdown",
   "id": "b50f8115",
   "metadata": {},
   "source": [
    "We've barely scratched the surface of what APL is capable of, if your interest is piqued, you're encouraged to explore more! We've not even touched tacit programming, structural functions, tradfns, and everything else APL has to offer. Start with the language bar in TryAPL and play with some of the functions we haven't discussed here. Check out https://www.dyalog.com/getting-started.htm for more resources. Welcome to the array programming cult."
   ]
  },
  {
   "cell_type": "markdown",
   "id": "1a122ec0",
   "metadata": {},
   "source": [
    "---"
   ]
  },
  {
   "cell_type": "code",
   "execution_count": 1,
   "id": "ca02239e",
   "metadata": {
    "scrolled": true
   },
   "outputs": [
    {
     "data": {
      "text/html": [
       "<pre class=\"language-APL\">1 1 1 10\n",
       "2 2 2 20\n",
       "3 3 3 30\n",
       "</pre>"
      ]
     },
     "execution_count": 1,
     "metadata": {},
     "output_type": "execute_result"
    },
    {
     "data": {
      "text/html": [
       "<pre class=\"language-APL\"> 1  1  1  10\n",
       "10 10 10 100\n",
       " 3  3  3  30\n",
       "</pre>"
      ]
     },
     "execution_count": 1,
     "metadata": {},
     "output_type": "execute_result"
    },
    {
     "data": {
      "text/html": [
       "<pre class=\"language-APL\">3 3 3 30\n",
       "2 2 2 20\n",
       "1 1 1 10\n",
       "</pre>"
      ]
     },
     "execution_count": 1,
     "metadata": {},
     "output_type": "execute_result"
    },
    {
     "data": {
      "text/html": [
       "<pre class=\"language-APL\">4 4 4 40\n",
       "2 2 2 20\n",
       "3 3 3 30\n",
       "</pre>"
      ]
     },
     "execution_count": 1,
     "metadata": {},
     "output_type": "execute_result"
    },
    {
     "data": {
      "text/html": [
       "<pre class=\"language-APL\"> 4  4  4  40\n",
       "10 10 10 100\n",
       " 1  1  1  10\n",
       "</pre>"
      ]
     },
     "execution_count": 1,
     "metadata": {},
     "output_type": "execute_result"
    }
   ],
   "source": [
    "⎕←m←↑(1 1 1 10)(2 2 2 20)(3 3 3 30)\n",
    "⍝ functional style (create a new matrix with the operation performed)\n",
    "⎕←5×@2⊢m     ⍝ scale row 2 by 5\n",
    "⎕←(,⊂3 2 1)⌷m  ⍝ swap rows 1 and 3\n",
    "⎕←(3⌷m)+@1⊢m ⍝ add row 3 to row 1\n",
    "\n",
    "⍝ procedural style (operate on the matrix in-place)\n",
    "m[2;]×←5        ⍝ scale row 2 by 5\n",
    "m[1 3;]←m[3 1;] ⍝ swap rows 1 and 3\n",
    "m[1;]+←m[3;]    ⍝ add row 3 to row 1\n",
    "m"
   ]
  },
  {
   "cell_type": "markdown",
   "id": "0c05f24c",
   "metadata": {},
   "source": [
    "For example, solving the following system:\n",
    "\n",
    "$$\n",
    "\\begin{alignat}{3}\n",
    "       & -7y && -4z && =2  \\\\\n",
    "    2x & +4y && +6z && =12 \\\\\n",
    "    3x & +y  && -z  && =-2\n",
    "\\end{alignat}\n",
    "$$\n",
    "\n",
    "by operating on the augmented matrix\n",
    "\n",
    "$$\n",
    "\\left[\\begin{array}{ccc|c}\n",
    "    0 & -7 & -4 & 2  \\\\\n",
    "    2 &  4 &  6 & 12 \\\\\n",
    "    3 &  1 & -1 & -2\n",
    "\\end{array}\\right]\n",
    "$$"
   ]
  },
  {
   "cell_type": "code",
   "execution_count": 2,
   "id": "8866c78c",
   "metadata": {},
   "outputs": [
    {
     "data": {
      "text/html": [
       "<pre class=\"language-APL\">1 0 0  1\n",
       "0 1 0 ¯2\n",
       "0 0 1  3\n",
       "</pre>"
      ]
     },
     "execution_count": 2,
     "metadata": {},
     "output_type": "execute_result"
    }
   ],
   "source": [
    "⍝ augmented matrix\n",
    "m←↑(0 ¯7 ¯4 2)(2 4 6 12)(3 1 ¯1 ¯2)\n",
    "\n",
    "⍝ use Gaussian operations to find reduced row echelon form\n",
    "m[1 2;]←m[2 1;]\n",
    "m[1;]÷←2\n",
    "m[3;]-←3×m[1;]\n",
    "m[2 3;]←m[3 2;]\n",
    "m[2;]÷←¯5\n",
    "m[3;]+←7×m[2;]\n",
    "m[3;]÷←10\n",
    "m[2;]-←2×m[3;]\n",
    "m[1;]-←3×m[3;]\n",
    "m[1;]-←2×m[2;]\n",
    "m"
   ]
  },
  {
   "cell_type": "markdown",
   "id": "a8e5a5ae",
   "metadata": {},
   "source": [
    "This shows the solution to the system is\n",
    "$$\n",
    "\\begin{alignat}{1}\n",
    "x & =1  \\\\\n",
    "y & =-2 \\\\\n",
    "z & =3\n",
    "\\end{alignat}\n",
    "$$"
   ]
  }
 ],
 "metadata": {
  "kernelspec": {
   "display_name": "Dyalog APL",
   "language": "apl",
   "name": "dyalog-kernel"
  },
  "language_info": {
   "file_extension": ".apl",
   "mimetype": "text/apl",
   "name": "APL"
  }
 },
 "nbformat": 4,
 "nbformat_minor": 5
}
