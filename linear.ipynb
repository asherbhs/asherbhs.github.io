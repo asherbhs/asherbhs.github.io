{
 "cells": [
  {
   "cell_type": "code",
   "execution_count": 1,
   "id": "ca02239e",
   "metadata": {},
   "outputs": [
    {
     "data": {
      "text/html": [
       "<pre class=\"language-APL\">1 1 1 10\n",
       "2 2 2 20\n",
       "3 3 3 30\n",
       "</pre>"
      ]
     },
     "execution_count": 1,
     "metadata": {},
     "output_type": "execute_result"
    },
    {
     "data": {
      "text/html": [
       "<pre class=\"language-APL\"> 1  1  1  10\n",
       "10 10 10 100\n",
       " 3  3  3  30\n",
       "</pre>"
      ]
     },
     "execution_count": 1,
     "metadata": {},
     "output_type": "execute_result"
    },
    {
     "data": {
      "text/html": [
       "<pre class=\"language-APL\">3 3 3 30\n",
       "2 2 2 20\n",
       "1 1 1 10\n",
       "</pre>"
      ]
     },
     "execution_count": 1,
     "metadata": {},
     "output_type": "execute_result"
    },
    {
     "data": {
      "text/html": [
       "<pre class=\"language-APL\">4 4 4 40\n",
       "2 2 2 20\n",
       "3 3 3 30\n",
       "</pre>"
      ]
     },
     "execution_count": 1,
     "metadata": {},
     "output_type": "execute_result"
    },
    {
     "data": {
      "text/html": [
       "<pre class=\"language-APL\"> 4  4  4  40\n",
       "10 10 10 100\n",
       " 1  1  1  10\n",
       "</pre>"
      ]
     },
     "execution_count": 1,
     "metadata": {},
     "output_type": "execute_result"
    }
   ],
   "source": [
    "⎕←m←↑(1 1 1 10)(2 2 2 20)(3 3 3 30)\n",
    "⍝ functional style (create a new matrix with the operation performed)\n",
    "⎕←5×@2⊢m     ⍝ scale row 2 by 5\n",
    "⎕←(,⊂3 2 1)⌷m  ⍝ swap rows 1 and 3\n",
    "⎕←(3⌷m)+@1⊢m ⍝ add row 3 to row 1\n",
    "\n",
    "⍝ procedural style (operate on the matrix in-place)\n",
    "m[2;]×←5        ⍝ scale row 2 by 5\n",
    "m[1 3;]←m[3 1;] ⍝ swap rows 1 and 3\n",
    "m[1;]+←m[3;]    ⍝ add row 3 to row 1\n",
    "m"
   ]
  },
  {
   "cell_type": "markdown",
   "id": "0c05f24c",
   "metadata": {},
   "source": [
    "For example, solving the following system:\n",
    "\n",
    "$$\n",
    "\\begin{alignat}{3}\n",
    "       & -7y && -4z && =0  \\\\\n",
    "    2x & +4y && +6z && =12 \\\\\n",
    "    3x & +y  && -z  && =-2\n",
    "\\end{alignat}\n",
    "$$\n",
    "\n",
    "by operating on the augmented matrix\n",
    "\n",
    "$$\n",
    "\\left[\\begin{array}{ccc|c}\n",
    "    0 & -7 & -4 & 0  \\\\\n",
    "    2 &  4 &  6 & 12 \\\\\n",
    "    3 &  1 & -1 & -2\n",
    "\\end{array}\\right]\n",
    "$$"
   ]
  },
  {
   "cell_type": "code",
   "execution_count": 2,
   "id": "8866c78c",
   "metadata": {},
   "outputs": [
    {
     "data": {
      "text/html": [
       "<pre class=\"language-APL\">1 0 0  1\n",
       "0 1 0 ¯2\n",
       "0 0 1  3\n",
       "</pre>"
      ]
     },
     "execution_count": 2,
     "metadata": {},
     "output_type": "execute_result"
    }
   ],
   "source": [
    "⍝ augmented matrix\n",
    "m←↑(0 ¯7 ¯4 2)(2 4 6 12)(3 1 ¯1 ¯2)\n",
    "\n",
    "⍝ use Gaussian operations to find reduced row echelon form\n",
    "m[1 2;]←m[2 1;]\n",
    "m[1;]÷←2\n",
    "m[3;]-←3×m[1;]\n",
    "m[2 3;]←m[3 2;]\n",
    "m[2;]÷←¯5\n",
    "m[3;]+←7×m[2;]\n",
    "m[3;]÷←10\n",
    "m[2;]-←2×m[3;]\n",
    "m[1;]-←3×m[3;]\n",
    "m[1;]-←2×m[2;]\n",
    "m"
   ]
  },
  {
   "cell_type": "markdown",
   "id": "a8e5a5ae",
   "metadata": {},
   "source": [
    "This shows the solution to the system is\n",
    "$$\n",
    "\\begin{alignat}{1}\n",
    "x & =1  \\\\\n",
    "y & =-2 \\\\\n",
    "z & =3\n",
    "\\end{alignat}\n",
    "$$"
   ]
  },
  {
   "cell_type": "code",
   "execution_count": 3,
   "id": "eaf53b64",
   "metadata": {},
   "outputs": [
    {
     "data": {
      "text/html": [
       "<pre class=\"language-APL\">7\n",
       "</pre>"
      ]
     },
     "execution_count": 3,
     "metadata": {},
     "output_type": "execute_result"
    }
   ],
   "source": [
    "3+4"
   ]
  },
  {
   "cell_type": "code",
   "execution_count": 4,
   "id": "4ddc8ecb",
   "metadata": {},
   "outputs": [
    {
     "data": {
      "text/html": [
       "<pre class=\"language-APL\">¯1\n",
       "</pre>"
      ]
     },
     "execution_count": 4,
     "metadata": {},
     "output_type": "execute_result"
    }
   ],
   "source": [
    "3-4"
   ]
  },
  {
   "cell_type": "code",
   "execution_count": 5,
   "id": "60ad56c9",
   "metadata": {},
   "outputs": [
    {
     "data": {
      "text/html": [
       "<pre class=\"language-APL\">¯1\n",
       "</pre>"
      ]
     },
     "execution_count": 5,
     "metadata": {},
     "output_type": "execute_result"
    }
   ],
   "source": [
    "-1 ⍝ - is a function, it does negation when you only give it one argument"
   ]
  },
  {
   "cell_type": "code",
   "execution_count": 6,
   "id": "26be75ae",
   "metadata": {},
   "outputs": [
    {
     "data": {
      "text/html": [
       "<pre class=\"language-APL\">12\n",
       "</pre>"
      ]
     },
     "execution_count": 6,
     "metadata": {},
     "output_type": "execute_result"
    }
   ],
   "source": [
    "3×4 ⍝ `-"
   ]
  },
  {
   "cell_type": "code",
   "execution_count": 7,
   "id": "c356543c",
   "metadata": {},
   "outputs": [
    {
     "data": {
      "text/html": [
       "<pre class=\"language-APL\">0.75\n",
       "</pre>"
      ]
     },
     "execution_count": 7,
     "metadata": {},
     "output_type": "execute_result"
    }
   ],
   "source": [
    "3÷4 ⍝ `="
   ]
  },
  {
   "cell_type": "code",
   "execution_count": 8,
   "id": "ea0129c4",
   "metadata": {},
   "outputs": [
    {
     "data": {
      "text/html": [
       "<pre class=\"language-APL\">0.25\n",
       "</pre>"
      ]
     },
     "execution_count": 8,
     "metadata": {},
     "output_type": "execute_result"
    }
   ],
   "source": [
    "÷4 ⍝ you can also give ÷ only one argument and it does reciprocal"
   ]
  },
  {
   "cell_type": "code",
   "execution_count": 9,
   "id": "af2f032a",
   "metadata": {},
   "outputs": [
    {
     "data": {
      "text/html": [
       "<pre class=\"language-APL\">81\n",
       "</pre>"
      ]
     },
     "execution_count": 9,
     "metadata": {},
     "output_type": "execute_result"
    }
   ],
   "source": [
    "3*4"
   ]
  },
  {
   "cell_type": "code",
   "execution_count": 10,
   "id": "1db1a9f5",
   "metadata": {},
   "outputs": [
    {
     "data": {
      "text/html": [
       "<pre class=\"language-APL\">0\n",
       "</pre>"
      ]
     },
     "execution_count": 10,
     "metadata": {},
     "output_type": "execute_result"
    }
   ],
   "source": [
    "3=4 ⍝ booleans are just 0 for false and 1 for true, this is good actually"
   ]
  },
  {
   "cell_type": "code",
   "execution_count": 11,
   "id": "e17e2f29",
   "metadata": {},
   "outputs": [
    {
     "data": {
      "text/html": [
       "<pre class=\"language-APL\">1\n",
       "</pre>"
      ]
     },
     "execution_count": 11,
     "metadata": {},
     "output_type": "execute_result"
    }
   ],
   "source": [
    "3≠4 ⍝ `8"
   ]
  },
  {
   "cell_type": "code",
   "execution_count": 12,
   "id": "97b4bd67",
   "metadata": {},
   "outputs": [
    {
     "data": {
      "text/html": [
       "<pre class=\"language-APL\">1\n",
       "</pre>"
      ]
     },
     "execution_count": 12,
     "metadata": {},
     "output_type": "execute_result"
    }
   ],
   "source": [
    "3<4"
   ]
  },
  {
   "cell_type": "code",
   "execution_count": 13,
   "id": "14b5e44c",
   "metadata": {},
   "outputs": [
    {
     "data": {
      "text/html": [
       "<pre class=\"language-APL\">1\n",
       "</pre>"
      ]
     },
     "execution_count": 13,
     "metadata": {},
     "output_type": "execute_result"
    }
   ],
   "source": [
    "3≤4 ⍝ `4"
   ]
  },
  {
   "cell_type": "code",
   "execution_count": 14,
   "id": "3e9a866b",
   "metadata": {},
   "outputs": [
    {
     "data": {
      "text/html": [
       "<pre class=\"language-APL\">0\n",
       "</pre>"
      ]
     },
     "execution_count": 14,
     "metadata": {},
     "output_type": "execute_result"
    }
   ],
   "source": [
    "3>4"
   ]
  },
  {
   "cell_type": "code",
   "execution_count": 15,
   "id": "73837f10",
   "metadata": {},
   "outputs": [
    {
     "data": {
      "text/html": [
       "<pre class=\"language-APL\">0\n",
       "</pre>"
      ]
     },
     "execution_count": 15,
     "metadata": {},
     "output_type": "execute_result"
    }
   ],
   "source": [
    "3≥4 ⍝ `6"
   ]
  },
  {
   "cell_type": "code",
   "execution_count": 16,
   "id": "42f45d45",
   "metadata": {},
   "outputs": [
    {
     "data": {
      "text/html": [
       "<pre class=\"language-APL\">0\n",
       "</pre>"
      ]
     },
     "execution_count": 16,
     "metadata": {},
     "output_type": "execute_result"
    }
   ],
   "source": [
    "1∧0 ⍝ `0"
   ]
  },
  {
   "cell_type": "code",
   "execution_count": 17,
   "id": "b9d21b11",
   "metadata": {},
   "outputs": [
    {
     "data": {
      "text/html": [
       "<pre class=\"language-APL\">1\n",
       "</pre>"
      ]
     },
     "execution_count": 17,
     "metadata": {},
     "output_type": "execute_result"
    }
   ],
   "source": [
    "1∨0 ⍝ `9"
   ]
  },
  {
   "cell_type": "code",
   "execution_count": 18,
   "id": "d36e9a7a",
   "metadata": {},
   "outputs": [
    {
     "data": {
      "text/html": [
       "<pre class=\"language-APL\">4\n",
       "</pre>"
      ]
     },
     "execution_count": 18,
     "metadata": {},
     "output_type": "execute_result"
    }
   ],
   "source": [
    "3⊢4 ⍝ `\\"
   ]
  },
  {
   "cell_type": "code",
   "execution_count": 19,
   "id": "a2fd3291",
   "metadata": {},
   "outputs": [
    {
     "data": {
      "text/html": [
       "<pre class=\"language-APL\">3\n",
       "</pre>"
      ]
     },
     "execution_count": 19,
     "metadata": {},
     "output_type": "execute_result"
    }
   ],
   "source": [
    "3⊣4 ⍝ `|"
   ]
  },
  {
   "cell_type": "code",
   "execution_count": 20,
   "id": "5d6fedf8",
   "metadata": {},
   "outputs": [
    {
     "data": {
      "text/html": [
       "<pre class=\"language-APL\">27\n",
       "</pre>"
      ]
     },
     "execution_count": 20,
     "metadata": {},
     "output_type": "execute_result"
    }
   ],
   "source": [
    "3×4+5 ⍝ 3×(4+5)"
   ]
  },
  {
   "cell_type": "code",
   "execution_count": 21,
   "id": "9088acc2",
   "metadata": {},
   "outputs": [
    {
     "data": {
      "text/html": [
       "<pre class=\"language-APL\">7\n",
       "</pre>"
      ]
     },
     "execution_count": 21,
     "metadata": {},
     "output_type": "execute_result"
    }
   ],
   "source": [
    "x←3 ⍝ `[\n",
    "y←4\n",
    "x+y"
   ]
  },
  {
   "cell_type": "code",
   "execution_count": 22,
   "id": "7d903a61",
   "metadata": {},
   "outputs": [
    {
     "data": {
      "text/html": [
       "<pre class=\"language-APL\">1 2 3\n",
       "</pre>"
      ]
     },
     "execution_count": 22,
     "metadata": {},
     "output_type": "execute_result"
    }
   ],
   "source": [
    "1 2 3 ⍝ vectors"
   ]
  },
  {
   "cell_type": "code",
   "execution_count": 23,
   "id": "31c50d50",
   "metadata": {},
   "outputs": [
    {
     "data": {
      "text/html": [
       "<pre class=\"language-APL\">4 8 12\n",
       "</pre>"
      ]
     },
     "execution_count": 23,
     "metadata": {},
     "output_type": "execute_result"
    }
   ],
   "source": [
    "1 2 3×4 ⍝ scalar multiplication"
   ]
  },
  {
   "cell_type": "code",
   "execution_count": 24,
   "id": "49489b41",
   "metadata": {},
   "outputs": [
    {
     "data": {
      "text/html": [
       "<pre class=\"language-APL\">5 7 9\n",
       "</pre>"
      ]
     },
     "execution_count": 24,
     "metadata": {},
     "output_type": "execute_result"
    }
   ],
   "source": [
    "1 2 3+4 5 6 ⍝ vector addition"
   ]
  },
  {
   "cell_type": "code",
   "execution_count": 25,
   "id": "c1659f64",
   "metadata": {},
   "outputs": [
    {
     "data": {
      "text/html": [
       "<pre class=\"language-APL\">6\n",
       "</pre>"
      ]
     },
     "execution_count": 25,
     "metadata": {},
     "output_type": "execute_result"
    }
   ],
   "source": [
    "+/1 2 3 ⍝ reduction 1+2+3"
   ]
  },
  {
   "cell_type": "code",
   "execution_count": 26,
   "id": "e296525c",
   "metadata": {},
   "outputs": [
    {
     "data": {
      "text/html": [
       "<pre class=\"language-APL\">┌─────┬─────┐\n",
       "│1 2 3│4 5 6│\n",
       "└─────┴─────┘\n",
       "</pre>"
      ]
     },
     "execution_count": 26,
     "metadata": {},
     "output_type": "execute_result"
    }
   ],
   "source": [
    "(1 2 3)(4 5 6) ⍝ vector of vectors"
   ]
  },
  {
   "cell_type": "code",
   "execution_count": 27,
   "id": "e9f0050f",
   "metadata": {},
   "outputs": [
    {
     "data": {
      "text/html": [
       "<pre class=\"language-APL\">┌→────────────────┐\n",
       "│Was ON -style=max│\n",
       "└─────────────────┘\n",
       "</pre>"
      ]
     },
     "execution_count": 27,
     "metadata": {},
     "output_type": "execute_result"
    },
    {
     "data": {
      "text/html": [
       "<pre class=\"language-APL\">┌→────────────────┐\n",
       "│ ┌→────┐ ┌→────┐ │\n",
       "│ │1 2 3│ │4 5 6│ │\n",
       "│ └~────┘ └~────┘ │\n",
       "└∊────────────────┘\n",
       "</pre>"
      ]
     },
     "execution_count": 27,
     "metadata": {},
     "output_type": "execute_result"
    }
   ],
   "source": [
    "]box on -style=max ⍝ easier to see what's going on\n",
    "(1 2 3)(4 5 6)"
   ]
  },
  {
   "cell_type": "markdown",
   "id": "5e51d946",
   "metadata": {},
   "source": [
    "Given scalars $\\alpha_1,\\alpha_2,\\ldots,\\alpha_n$ and vectors $v_1,v_2,\\ldots,v_n$ which are all the same length $$\\alpha_1v_1+\\alpha_2v_2+\\ldots+\\alpha_nv_n$$ is a *linear combination* of the vectors $v_1,v_2,\\ldots,v_n$.\n",
    "\n",
    "Challenge: given a vector of coefficients `a` and a vector of vectors `v`, find the linear combination of those vectors with those coefficients. "
   ]
  },
  {
   "cell_type": "code",
   "execution_count": 28,
   "id": "53fb36f6",
   "metadata": {},
   "outputs": [
    {
     "data": {
      "text/html": [
       "<pre class=\"language-APL\">┌────────────┐\n",
       "│ ┌→───────┐ │\n",
       "│ │36 42 48│ │\n",
       "│ └~───────┘ │\n",
       "└∊───────────┘\n",
       "</pre>"
      ]
     },
     "execution_count": 28,
     "metadata": {},
     "output_type": "execute_result"
    },
    {
     "data": {
      "text/html": [
       "<pre class=\"language-APL\">┌→───────┐\n",
       "│36 42 48│\n",
       "└~───────┘\n",
       "</pre>"
      ]
     },
     "execution_count": 28,
     "metadata": {},
     "output_type": "execute_result"
    }
   ],
   "source": [
    "a←3 2 1\n",
    "v←(4 5 6)(7 8 9)(10 11 12)\n",
    "+/a×v\n",
    "\n",
    "⊃+/a×v ⍝ f/ actually returns a single element array of the result, so we have to unwrap it with ⊃ (`x)"
   ]
  },
  {
   "cell_type": "markdown",
   "id": "ed2aa9d4",
   "metadata": {},
   "source": [
    "Challenge: check if two vectors are equal."
   ]
  },
  {
   "cell_type": "code",
   "execution_count": 29,
   "id": "ae31cae6",
   "metadata": {},
   "outputs": [
    {
     "data": {
      "text/html": [
       "<pre class=\"language-APL\">┌→────┐\n",
       "│1 1 1│\n",
       "└~────┘\n",
       "</pre>"
      ]
     },
     "execution_count": 29,
     "metadata": {},
     "output_type": "execute_result"
    },
    {
     "data": {
      "text/html": [
       "<pre class=\"language-APL\"> \n",
       "1\n",
       " \n",
       "</pre>"
      ]
     },
     "execution_count": 29,
     "metadata": {},
     "output_type": "execute_result"
    }
   ],
   "source": [
    "1 2 3=1 2 3\n",
    "∧/1 2 3=1 2 3"
   ]
  },
  {
   "cell_type": "code",
   "execution_count": 30,
   "id": "e26adaa6",
   "metadata": {},
   "outputs": [
    {
     "data": {
      "text/html": [
       "<pre class=\"language-APL\"> \n",
       "0\n",
       " \n",
       "</pre>"
      ]
     },
     "execution_count": 30,
     "metadata": {},
     "output_type": "execute_result"
    }
   ],
   "source": [
    "1 2 3≡4 5 6 ⍝ `:"
   ]
  },
  {
   "cell_type": "code",
   "execution_count": 31,
   "id": "1a96120a",
   "metadata": {},
   "outputs": [
    {
     "data": {
      "text/html": [
       "<pre class=\"language-APL\"> \n",
       "1\n",
       " \n",
       "</pre>"
      ]
     },
     "execution_count": 31,
     "metadata": {},
     "output_type": "execute_result"
    }
   ],
   "source": [
    "1 2 3≢4 5 6 ⍝ `@"
   ]
  },
  {
   "cell_type": "code",
   "execution_count": 32,
   "id": "b28baae2",
   "metadata": {},
   "outputs": [
    {
     "data": {
      "text/html": [
       "<pre class=\"language-APL\"> \n",
       "5\n",
       " \n",
       "</pre>"
      ]
     },
     "execution_count": 32,
     "metadata": {},
     "output_type": "execute_result"
    }
   ],
   "source": [
    "4 5 6[2] ⍝ indexing is 1-based! (by default) (you can configure it) (this leads to endless arguments)"
   ]
  },
  {
   "cell_type": "code",
   "execution_count": 33,
   "id": "1542f5a1",
   "metadata": {},
   "outputs": [
    {
     "data": {
      "text/html": [
       "<pre class=\"language-APL\">┌→──┐\n",
       "│6 4│\n",
       "└~──┘\n",
       "</pre>"
      ]
     },
     "execution_count": 33,
     "metadata": {},
     "output_type": "execute_result"
    }
   ],
   "source": [
    "4 5 6[3 1] ⍝ you can pass a vector of indices"
   ]
  },
  {
   "cell_type": "code",
   "execution_count": 34,
   "id": "12a401bb",
   "metadata": {},
   "outputs": [
    {
     "data": {
      "text/html": [
       "<pre class=\"language-APL\">┌→──────────┐\n",
       "│4 0 6 0 8 0│\n",
       "└~──────────┘\n",
       "</pre>"
      ]
     },
     "execution_count": 34,
     "metadata": {},
     "output_type": "execute_result"
    }
   ],
   "source": [
    "v←4 5 6 7 8 9\n",
    "v[2 4 6]←0 ⍝ assignment to parts of a vector\n",
    "v"
   ]
  },
  {
   "cell_type": "code",
   "execution_count": 35,
   "id": "1c312f88",
   "metadata": {},
   "outputs": [],
   "source": [
    "⍝ catenation, replicate, iota, take, drop?"
   ]
  },
  {
   "cell_type": "code",
   "execution_count": 36,
   "id": "43600750",
   "metadata": {},
   "outputs": [
    {
     "data": {
      "text/html": [
       "<pre class=\"language-APL\">┌→────────────────────────┐\n",
       "│ ┌→────┐ ┌→────┐ ┌→────┐ │\n",
       "│ │1 2 3│ │4 5 6│ │7 8 9│ │\n",
       "│ └~────┘ └~────┘ └~────┘ │\n",
       "└∊────────────────────────┘\n",
       "</pre>"
      ]
     },
     "execution_count": 36,
     "metadata": {},
     "output_type": "execute_result"
    },
    {
     "data": {
      "text/html": [
       "<pre class=\"language-APL\">┌→────┐\n",
       "↓1 2 3│\n",
       "│4 5 6│\n",
       "│7 8 9│\n",
       "└~────┘\n",
       "</pre>"
      ]
     },
     "execution_count": 36,
     "metadata": {},
     "output_type": "execute_result"
    }
   ],
   "source": [
    "(1 2 3)(4 5 6)(7 8 9)\n",
    "↑(1 2 3)(4 5 6)(7 8 9) ⍝ `y"
   ]
  },
  {
   "cell_type": "code",
   "execution_count": 37,
   "id": "6e7a78fe",
   "metadata": {},
   "outputs": [
    {
     "data": {
      "text/html": [
       "<pre class=\"language-APL\">┌→─────────┐\n",
       "↓1  2  3  4│\n",
       "│5  6  7  8│\n",
       "│9 10 11 12│\n",
       "└~─────────┘\n",
       "</pre>"
      ]
     },
     "execution_count": 37,
     "metadata": {},
     "output_type": "execute_result"
    },
    {
     "data": {
      "text/html": [
       "<pre class=\"language-APL\">┌→──┐\n",
       "│3 4│\n",
       "└~──┘\n",
       "</pre>"
      ]
     },
     "execution_count": 37,
     "metadata": {},
     "output_type": "execute_result"
    }
   ],
   "source": [
    "⊢m←↑(1 2 3 4)(5 6 7 8)(9 10 11 12)\n",
    "⍴m ⍝ `r"
   ]
  },
  {
   "cell_type": "code",
   "execution_count": 38,
   "id": "764f4e43",
   "metadata": {},
   "outputs": [
    {
     "data": {
      "text/html": [
       "<pre class=\"language-APL\">┌→─────────┐\n",
       "↓1  2  3  4│\n",
       "│5  6  7  8│\n",
       "│9 10 11 12│\n",
       "└~─────────┘\n",
       "</pre>"
      ]
     },
     "execution_count": 38,
     "metadata": {},
     "output_type": "execute_result"
    }
   ],
   "source": [
    "3 4⍴1 2 3 4 5 6 7 8 9 10 11 12 ⍝ reshape"
   ]
  },
  {
   "cell_type": "code",
   "execution_count": 39,
   "id": "2aa84e99",
   "metadata": {},
   "outputs": [
    {
     "data": {
      "text/html": [
       "<pre class=\"language-APL\">┌→──────┐\n",
       "↓1 2 3 4│\n",
       "│5 1 2 3│\n",
       "│4 5 1 2│\n",
       "└~──────┘\n",
       "</pre>"
      ]
     },
     "execution_count": 39,
     "metadata": {},
     "output_type": "execute_result"
    }
   ],
   "source": [
    "3 4⍴1 2 3 4 5 ⍝ cycle elements"
   ]
  },
  {
   "cell_type": "markdown",
   "id": "e4daa75e",
   "metadata": {},
   "source": [
    "Challenge: use `⍴` to make the 3x3 identity matrix."
   ]
  },
  {
   "cell_type": "code",
   "execution_count": 40,
   "id": "c0c39468",
   "metadata": {},
   "outputs": [
    {
     "data": {
      "text/html": [
       "<pre class=\"language-APL\">┌→────┐\n",
       "↓1 0 0│\n",
       "│0 1 0│\n",
       "│0 0 1│\n",
       "└~────┘\n",
       "</pre>"
      ]
     },
     "execution_count": 40,
     "metadata": {},
     "output_type": "execute_result"
    }
   ],
   "source": [
    "3 3⍴1 0 0 0"
   ]
  },
  {
   "cell_type": "code",
   "execution_count": 41,
   "id": "1102aeff",
   "metadata": {},
   "outputs": [
    {
     "data": {
      "text/html": [
       "<pre class=\"language-APL\">┌→────────────────┐\n",
       "│1 0 0 0 1 0 0 0 1│\n",
       "└~────────────────┘\n",
       "</pre>"
      ]
     },
     "execution_count": 41,
     "metadata": {},
     "output_type": "execute_result"
    }
   ],
   "source": [
    ",3 3⍴1 0 0 0 ⍝ ravel (unshape) a matrix"
   ]
  },
  {
   "cell_type": "code",
   "execution_count": 42,
   "id": "f2ffeab3",
   "metadata": {},
   "outputs": [
    {
     "data": {
      "text/html": [
       "<pre class=\"language-APL\">┌→────┐\n",
       "↓1 2 3│\n",
       "│4 5 6│\n",
       "│7 8 9│\n",
       "└~────┘\n",
       "</pre>"
      ]
     },
     "execution_count": 42,
     "metadata": {},
     "output_type": "execute_result"
    }
   ],
   "source": [
    "m←3 3⍴1 2 3 4 5 6 7 8 9\n",
    "m"
   ]
  },
  {
   "cell_type": "code",
   "execution_count": 43,
   "id": "e35d409e",
   "metadata": {},
   "outputs": [
    {
     "data": {
      "text/html": [
       "<pre class=\"language-APL\">┌→───────┐\n",
       "↓ 2  4  6│\n",
       "│ 8 10 12│\n",
       "│14 16 18│\n",
       "└~───────┘\n",
       "</pre>"
      ]
     },
     "execution_count": 43,
     "metadata": {},
     "output_type": "execute_result"
    }
   ],
   "source": [
    "m+m ⍝ matrix addition"
   ]
  },
  {
   "cell_type": "code",
   "execution_count": 44,
   "id": "9e9c5c88",
   "metadata": {},
   "outputs": [
    {
     "data": {
      "text/html": [
       "<pre class=\"language-APL\">┌→───────┐\n",
       "↓ 2  4  6│\n",
       "│ 8 10 12│\n",
       "│14 16 18│\n",
       "└~───────┘\n",
       "</pre>"
      ]
     },
     "execution_count": 44,
     "metadata": {},
     "output_type": "execute_result"
    }
   ],
   "source": [
    "2×m ⍝ scalar multiplication on matrices"
   ]
  },
  {
   "cell_type": "code",
   "execution_count": 45,
   "id": "11419a55",
   "metadata": {},
   "outputs": [
    {
     "data": {
      "text/html": [
       "<pre class=\"language-APL\">┌→───────┐\n",
       "↓ 1  4  9│\n",
       "│16 25 36│\n",
       "│49 64 81│\n",
       "└~───────┘\n",
       "</pre>"
      ]
     },
     "execution_count": 45,
     "metadata": {},
     "output_type": "execute_result"
    }
   ],
   "source": [
    "m×m ⍝ 'matrix multiplication'"
   ]
  },
  {
   "cell_type": "code",
   "execution_count": 46,
   "id": "3a38bbe9",
   "metadata": {},
   "outputs": [
    {
     "data": {
      "text/html": [
       "<pre class=\"language-APL\">┌→────┐\n",
       "↓1 0 0│\n",
       "│0 1 0│\n",
       "│0 0 1│\n",
       "└~────┘\n",
       "</pre>"
      ]
     },
     "execution_count": 46,
     "metadata": {},
     "output_type": "execute_result"
    },
    {
     "data": {
      "text/html": [
       "<pre class=\"language-APL\">┌→────┐\n",
       "↓1 2 3│\n",
       "│4 5 6│\n",
       "│7 8 9│\n",
       "└~────┘\n",
       "</pre>"
      ]
     },
     "execution_count": 46,
     "metadata": {},
     "output_type": "execute_result"
    }
   ],
   "source": [
    "i3←(,⍨⍴1↑⍨1+⊢)3 ⍝ teaser\n",
    "i3\n",
    "m"
   ]
  },
  {
   "cell_type": "code",
   "execution_count": 47,
   "id": "8bb73c62",
   "metadata": {},
   "outputs": [
    {
     "data": {
      "text/html": [
       "<pre class=\"language-APL\">┌→────┐\n",
       "↓1 2 3│\n",
       "│4 5 6│\n",
       "│7 8 9│\n",
       "└~────┘\n",
       "</pre>"
      ]
     },
     "execution_count": 47,
     "metadata": {},
     "output_type": "execute_result"
    },
    {
     "data": {
      "text/html": [
       "<pre class=\"language-APL\">┌→────┐\n",
       "↓1 2 3│\n",
       "│4 5 6│\n",
       "│7 8 9│\n",
       "└~────┘\n",
       "</pre>"
      ]
     },
     "execution_count": 47,
     "metadata": {},
     "output_type": "execute_result"
    }
   ],
   "source": [
    "i3(+/×⍤1⍤1 2∘⍉)m ⍝ you don't know how to do this yet, but don't worry\n",
    "i3+.×m           ⍝ it's built in"
   ]
  },
  {
   "cell_type": "code",
   "execution_count": 48,
   "id": "93c924f6",
   "metadata": {},
   "outputs": [
    {
     "data": {
      "text/html": [
       "<pre class=\"language-APL\">┌→────┐\n",
       "↓1 4 7│\n",
       "│2 5 8│\n",
       "│3 6 9│\n",
       "└~────┘\n",
       "</pre>"
      ]
     },
     "execution_count": 48,
     "metadata": {},
     "output_type": "execute_result"
    }
   ],
   "source": [
    "⍉m ⍝ `^"
   ]
  },
  {
   "cell_type": "code",
   "execution_count": 49,
   "id": "daee8497",
   "metadata": {},
   "outputs": [
    {
     "data": {
      "text/html": [
       "<pre class=\"language-APL\">┌→────┐\n",
       "↓1 2 3│\n",
       "│4 5 6│\n",
       "│7 8 9│\n",
       "└~────┘\n",
       "</pre>"
      ]
     },
     "execution_count": 49,
     "metadata": {},
     "output_type": "execute_result"
    },
    {
     "data": {
      "text/html": [
       "<pre class=\"language-APL\"> \n",
       "6\n",
       " \n",
       "</pre>"
      ]
     },
     "execution_count": 49,
     "metadata": {},
     "output_type": "execute_result"
    }
   ],
   "source": [
    "m\n",
    "m[2;3] ⍝ matrix indexing, indexes rows first, columns second"
   ]
  },
  {
   "cell_type": "code",
   "execution_count": 50,
   "id": "e6b0b973",
   "metadata": {},
   "outputs": [
    {
     "data": {
      "text/html": [
       "<pre class=\"language-APL\">┌→────┐\n",
       "│4 5 6│\n",
       "└~────┘\n",
       "</pre>"
      ]
     },
     "execution_count": 50,
     "metadata": {},
     "output_type": "execute_result"
    }
   ],
   "source": [
    "m[2;] ⍝ omission means take the whole thing"
   ]
  },
  {
   "cell_type": "code",
   "execution_count": 51,
   "id": "3fb758b6",
   "metadata": {},
   "outputs": [
    {
     "data": {
      "text/html": [
       "<pre class=\"language-APL\">┌→────┐\n",
       "↓7 8 9│\n",
       "│1 2 3│\n",
       "└~────┘\n",
       "</pre>"
      ]
     },
     "execution_count": 51,
     "metadata": {},
     "output_type": "execute_result"
    }
   ],
   "source": [
    "m[3 1;] ⍝ you can still pass in vectors"
   ]
  },
  {
   "cell_type": "code",
   "execution_count": 52,
   "id": "b8b54119",
   "metadata": {},
   "outputs": [
    {
     "data": {
      "text/html": [
       "<pre class=\"language-APL\">┌→───────┐\n",
       "↓ 1  2  3│\n",
       "│40 50 60│\n",
       "│ 7  8  9│\n",
       "└~───────┘\n",
       "</pre>"
      ]
     },
     "execution_count": 52,
     "metadata": {},
     "output_type": "execute_result"
    }
   ],
   "source": [
    "m[2;]←40 50 60 ⍝ and you can modify parts of a matrix\n",
    "m"
   ]
  },
  {
   "cell_type": "code",
   "execution_count": 53,
   "id": "98aa97d4",
   "metadata": {},
   "outputs": [
    {
     "data": {
      "text/html": [
       "<pre class=\"language-APL\">┌→────┐\n",
       "↓1 2 3│\n",
       "│4 5 6│\n",
       "│7 8 9│\n",
       "└~────┘\n",
       "</pre>"
      ]
     },
     "execution_count": 53,
     "metadata": {},
     "output_type": "execute_result"
    },
    {
     "data": {
      "text/html": [
       "<pre class=\"language-APL\">┌→───────┐\n",
       "↓ 1  2  3│\n",
       "│40 50 60│\n",
       "│ 7  8  9│\n",
       "└~───────┘\n",
       "</pre>"
      ]
     },
     "execution_count": 53,
     "metadata": {},
     "output_type": "execute_result"
    }
   ],
   "source": [
    "m←3 3⍴1 2 3 4 5 6 7 8 9\n",
    "m\n",
    "m[2;]×←10 ⍝ modified assignment, like *= in c-like languages\n",
    "m"
   ]
  },
  {
   "cell_type": "markdown",
   "id": "a98b01b3",
   "metadata": {},
   "source": [
    "Inverse of a 2x2 matrix:\n",
    "\n",
    "$$\n",
    "\\left[\\begin{array}{cc}\n",
    "    a & b \\\\\n",
    "    c & d\n",
    "\\end{array}\\right]^{-1}\n",
    "=\n",
    "\\frac{1}{ad-bc}\n",
    "\\left[\\begin{array}{cc}\n",
    "    d & -b \\\\\n",
    "    -c & a\n",
    "\\end{array}\\right]\n",
    "$$"
   ]
  },
  {
   "cell_type": "code",
   "execution_count": 54,
   "id": "2e411fd3",
   "metadata": {},
   "outputs": [],
   "source": [
    "]dinput\n",
    "Inv2x2←{\n",
    "    (a b c d)←,⍵\n",
    "⍝    ┌─ 1/              d -b\n",
    "⍝    │┌ ad-bc ┐  ┌──── -c  a ─────┐\n",
    "    (÷(a×d)-b×c)×2 2⍴ d (-b) (-c) a ⍝ challenge: write this line\n",
    "}\n",
    "\n",
    "⍝ for pasting into tryapl:\n",
    "⍝ Inv2x2←{(a b c d)←,⍵ ⋄ (÷(a×d)-b×c)×2 2⍴d(-b)(-c)a}"
   ]
  },
  {
   "cell_type": "code",
   "execution_count": 55,
   "id": "e62bfa8f",
   "metadata": {
    "scrolled": true
   },
   "outputs": [
    {
     "data": {
      "text/html": [
       "<pre class=\"language-APL\">┌→────────┐\n",
       "↓ 0.6 ¯0.2│\n",
       "│¯0.2  0.4│\n",
       "└~────────┘\n",
       "</pre>"
      ]
     },
     "execution_count": 55,
     "metadata": {},
     "output_type": "execute_result"
    }
   ],
   "source": [
    "Inv2x2 2 2⍴2 1 1 3"
   ]
  },
  {
   "cell_type": "markdown",
   "id": "58adf07a",
   "metadata": {},
   "source": [
    "Now we can solve systems of linear equations like:\n",
    "\n",
    "$$\n",
    "\\begin{alignat}{3}\n",
    "     x & +2y && =3  \\\\\n",
    "    4x & +5y && =6\n",
    "\\end{alignat}\n",
    "$$\n",
    "\n",
    "We can write this in terms of matrices as:\n",
    "\n",
    "$$\n",
    "\\begin{align}\n",
    "    \\left[\\begin{array}{cc}\n",
    "        1 & 2 \\\\\n",
    "        4 & 5\n",
    "    \\end{array}\\right]\n",
    "    \\left[\\begin{array}{c}\n",
    "        x \\\\\n",
    "        y\n",
    "    \\end{array}\\right]\n",
    "    &=\n",
    "    \\left[\\begin{array}{c}\n",
    "        3 \\\\\n",
    "        6\n",
    "    \\end{array}\\right]\n",
    "    \\\\\n",
    "    AX&=B\n",
    "    \\\\\n",
    "    A^{-1}AX&=A^{-1}B\n",
    "    \\\\\n",
    "    X&=A^{-1}B\n",
    "    \\\\\n",
    "    \\left[\\begin{array}{c}\n",
    "        x \\\\\n",
    "        y\n",
    "    \\end{array}\\right]\n",
    "    &=\n",
    "    \\left[\\begin{array}{cc}\n",
    "        1 & 2 \\\\\n",
    "        4 & 5\n",
    "    \\end{array}\\right]^{-1}\n",
    "    \\left[\\begin{array}{c}\n",
    "        3 \\\\\n",
    "        6\n",
    "    \\end{array}\\right]\n",
    "\\end{align}\n",
    "$$"
   ]
  },
  {
   "cell_type": "code",
   "execution_count": 56,
   "id": "0566f35b",
   "metadata": {},
   "outputs": [
    {
     "data": {
      "text/html": [
       "<pre class=\"language-APL\">┌→───┐\n",
       "│¯1 2│\n",
       "└~───┘\n",
       "</pre>"
      ]
     },
     "execution_count": 56,
     "metadata": {},
     "output_type": "execute_result"
    }
   ],
   "source": [
    "(Inv2x2 2 2⍴1 2 4 5)+.×3 6 ⍝ check this by hand or with your favourite graphing program"
   ]
  },
  {
   "cell_type": "code",
   "execution_count": 57,
   "id": "b59ebd02",
   "metadata": {},
   "outputs": [
    {
     "data": {
      "text/html": [
       "<pre class=\"language-APL\">┌→────────┐\n",
       "↓ 0.6 ¯0.2│\n",
       "│¯0.2  0.4│\n",
       "└~────────┘\n",
       "</pre>"
      ]
     },
     "execution_count": 57,
     "metadata": {},
     "output_type": "execute_result"
    }
   ],
   "source": [
    "⌹2 2⍴2 1 1 3 ⍝ APL provides ⌹ for finding the inverse of a matrix"
   ]
  },
  {
   "cell_type": "code",
   "execution_count": 58,
   "id": "897c9c4e",
   "metadata": {},
   "outputs": [
    {
     "data": {
      "text/html": [
       "<pre class=\"language-APL\">┌→───┐\n",
       "│¯1 2│\n",
       "└~───┘\n",
       "</pre>"
      ]
     },
     "execution_count": 58,
     "metadata": {},
     "output_type": "execute_result"
    }
   ],
   "source": [
    "(⌹2 2⍴1 2 4 5)+.×3 6 ⍝ which we can use to solve the same system"
   ]
  },
  {
   "cell_type": "code",
   "execution_count": 59,
   "id": "297bc388",
   "metadata": {},
   "outputs": [
    {
     "data": {
      "text/html": [
       "<pre class=\"language-APL\">┌→───┐\n",
       "│¯1 2│\n",
       "└~───┘\n",
       "</pre>"
      ]
     },
     "execution_count": 59,
     "metadata": {},
     "output_type": "execute_result"
    }
   ],
   "source": [
    "3 6⌹2 2⍴1 2 4 5 ⍝ when used dyadically it does matrix division"
   ]
  }
 ],
 "metadata": {
  "kernelspec": {
   "display_name": "Dyalog APL",
   "language": "apl",
   "name": "dyalog-kernel"
  },
  "language_info": {
   "file_extension": ".apl",
   "mimetype": "text/apl",
   "name": "APL"
  }
 },
 "nbformat": 4,
 "nbformat_minor": 5
}
