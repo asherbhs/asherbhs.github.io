{
 "cells": [
  {
   "cell_type": "markdown",
   "id": "b5ff8209",
   "metadata": {},
   "source": [
    "# Trees\n",
    "\n",
    "- depth vector representation\n",
    "    - what you get out of ⎕xml\n",
    "    - slow to work with subtrees\n",
    "- path matrix representation\n",
    "    - construction from depth vector\n",
    "    - distances between nodes\n",
    "    - oh no it's O(nd)\n",
    "- parent vector representation\n",
    "    - this is super great\n",
    "    - basic operations\n",
    "        - find children: `⍸p∊i`\n",
    "        - find leaves:   `p~⍨⍳≢p`\n",
    "        - find roots:    `I⍣≡⍨p`\n",
    "            - note forests are possible\n",
    "    - ordering\n",
    "        - don't need to maintain dfpt order\n",
    "        - need to maintain sibling order if it matters for your operation\n",
    "- relationship to depth vector\n",
    "    - construction from depth vector\n",
    "    - finding depths (not guaranteed to be dfpt order)\n",
    "- forests\n",
    "    - join multiple into a forest\n",
    "    - split multiple into individual (deforest)\n",
    "    - exercise: join all trees in a forest under 1 root: `{0,(⍵≠⍳≢⍵)×1+⍵}`\n",
    "- bottom-up traversal\n",
    "    - Lisp\n",
    "        - using key\n",
    "        - without using key\n",
    "        - using a fold\n",
    "    - GV as an example\n",
    "    - PP as another example, copy and use me\n",
    "    - exercise\n",
    "        - sum each tree in a forest\n",
    "        - sanity check: sum of trees should equal sum of all values\n",
    "- top-down construction\n",
    "    - Nary\n",
    "        - exercise: find Mary\n",
    "    - Collatz\n",
    "    - Leet as an example"
   ]
  }
 ],
 "metadata": {
  "jupytext": {
   "formats": "md:myst",
   "text_representation": {
    "extension": ".md",
    "format_name": "myst",
    "format_version": 0.13,
    "jupytext_version": "1.11.5"
   }
  },
  "kernelspec": {
   "display_name": "Dyalog APL",
   "language": "Dyalog APL",
   "name": "dyalog_apl"
  },
  "language_info": {
   "file_extension": ".apl",
   "mimetype": "text/apl",
   "name": "APL"
  },
  "source_map": [
   13
  ]
 },
 "nbformat": 4,
 "nbformat_minor": 5
}