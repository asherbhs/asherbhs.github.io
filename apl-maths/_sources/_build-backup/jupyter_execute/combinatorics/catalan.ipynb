{
 "cells": [
  {
   "cell_type": "markdown",
   "id": "7c52dc78",
   "metadata": {},
   "source": [
    "# The Catalan Numbers\n",
    "\n",
    "- what are they - dyck paths\n",
    "- simple examples\n",
    "- recurrence and proof\n",
    "    - `C n+1 ←→ +/(C×(C n-⊢))¨0,⍳n`\n",
    "    - `C←{⍵=0: 1 ⋄ +/(∇×(∇⍵-1+⊢))¨¯1+⍳⍵}`\n",
    "    - `Cs←{(⊢,⊢+.×⌽)⍣(⍵-1),1}`\n",
    "- closed form and proof\n",
    "    - `C n ←→ (n!2×n)-(n-1)!2×n ←→ (n+1)÷⍨n!2×n`\n",
    "- more catalan number examples\n",
    "- mention stanley book"
   ]
  }
 ],
 "metadata": {
  "jupytext": {
   "formats": "md:myst",
   "text_representation": {
    "extension": ".md",
    "format_name": "myst",
    "format_version": 0.13,
    "jupytext_version": "1.11.5"
   }
  },
  "kernelspec": {
   "display_name": "Dyalog APL",
   "language": "Dyalog APL",
   "name": "dyalog_apl"
  },
  "language_info": {
   "file_extension": ".apl",
   "mimetype": "text/apl",
   "name": "APL"
  },
  "source_map": [
   13
  ]
 },
 "nbformat": 4,
 "nbformat_minor": 5
}