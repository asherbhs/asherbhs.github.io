{
 "cells": [
  {
   "cell_type": "markdown",
   "id": "56dc2caf",
   "metadata": {},
   "source": [
    "# Inclusion-Exclusion and Counting Partitions"
   ]
  },
  {
   "cell_type": "code",
   "execution_count": 1,
   "id": "0c9709bb",
   "metadata": {},
   "outputs": [],
   "source": [
    "⎕IO←1"
   ]
  },
  {
   "cell_type": "markdown",
   "id": "0d096b7f",
   "metadata": {},
   "source": [
    "The topic of this section will be counting surjective functions, but we need to build up some more tools before we can do that.\n",
    "\n",
    "## The Inclusion-Exclusion Principle\n",
    "\n",
    "Say we have two sets $a$ and $b$, and we want to know the size of their union. Of course, it's easy to just calculate this for specific examples:"
   ]
  },
  {
   "cell_type": "code",
   "execution_count": 2,
   "id": "c6204570",
   "metadata": {},
   "outputs": [
    {
     "data": {
      "text/html": [
       "<pre class=\"language-APL\">🍎🍌🍊🍐🍇🥑🫑🍄🥕🧅\n",
       "</pre>"
      ]
     },
     "execution_count": 2,
     "metadata": {},
     "output_type": "execute_result"
    },
    {
     "data": {
      "text/html": [
       "<pre class=\"language-APL\">10\n",
       "</pre>"
      ]
     },
     "execution_count": 2,
     "metadata": {},
     "output_type": "execute_result"
    }
   ],
   "source": [
    "a←'🍎🍌🍊🍐🍇🥑🫑'\n",
    "b←'🍄🥕🫑🧅🥑'\n",
    "a∪b\n",
    "≢a∪b"
   ]
  },
  {
   "cell_type": "markdown",
   "id": "e81f31d9",
   "metadata": {},
   "source": [
    "![](../manim/media/images/combinatorics/InclusionExclusion1_ManimCE_v0.18.0.png)\n",
    "\n",
    "If we add together the sizes of the two sets, we are overcounting relative to their union, as we're counting their intersection twice.\n",
    "\n",
    "![](../manim/media/images/combinatorics/InclusionExclusion2_ManimCE_v0.18.0.png)\n",
    "\n",
    "Therefore, the size of the union of two sets is the sum of their individual sizes, minus the size of the overcounted intersection:\n",
    "\n",
    "```\n",
    "≢a∪b ←→ (≢a)+(≢b)-≢a∩b\n",
    "```\n",
    "\n",
    "We can apply the same logic when we have three sets.\n",
    "\n",
    "![](../manim/media/images/combinatorics/InclusionExclusion3_ManimCE_v0.18.0.png)\n",
    "\n",
    "We're still counting the pairwise intersections twice each. When we subtract the sizes of the extra pairwise intersections, we end up subtracting the size of the intersection of all three sets three times over. Since this intersection appeared three times in the original sum (once in each set), this means we have uncounted all of the elements in the intersection of all three sets, so we need to add it back in. This gives us:\n",
    "\n",
    "```\n",
    "≢a∪b∪c ←→ (≢a)+(≢b)+(≢c)+(-≢a∩b)+(-≢a∩c)+(-≢b∩c)+≢a∩b∩c\n",
    "```\n",
    "\n",
    "The pattern emerging here is that we add the individual set sizes, substract the pairwise intersection sizes, add the triple-wise intersection sizes, subtract the quadruple-wise intersection sizes, and so on. This pattern gives us the *principle of inclusion and exclusion*: given a set $a$ of sets `a[1]` through `a[n]` where `n≡≢as`:\n",
    "\n",
    "```\n",
    "p←a⊂⍤/⍨⍤1⍉2⊥⍣¯1⍳¯1+2*≢a    ⍝ all non-empty subsets of a\n",
    "⍝                     ┌───────┬─sizes of the intersections of all the sets in subsets\n",
    "≢⊃∪/a ←→ +/(¯1*1+≢¨p)×{≢⊃∩/⍵}¨p\n",
    "⍝          └─────────┴─subtract if there are an even number of subsets, else add\n",
    "```\n",
    "\n",
    "In traditional mathematical notation, this is written as\n",
    "\n",
    "$$\n",
    "\\left|\\bigcup_{i=1}^na_i\\right|=\\sum_{\\emptyset\\ne J\\subseteq[n]}(-1)^{|J|+1}\\left|\\bigcap_{j\\in J}a_j\\right|\n",
    "$$\n",
    "\n",
    "Let's see this in action:"
   ]
  },
  {
   "cell_type": "code",
   "execution_count": 3,
   "id": "782fc6bb",
   "metadata": {},
   "outputs": [
    {
     "data": {
      "text/html": [
       "<pre class=\"language-APL\">ABCDEFG\n",
       "</pre>"
      ]
     },
     "execution_count": 3,
     "metadata": {},
     "output_type": "execute_result"
    },
    {
     "data": {
      "text/html": [
       "<pre class=\"language-APL\">7\n",
       "</pre>"
      ]
     },
     "execution_count": 3,
     "metadata": {},
     "output_type": "execute_result"
    },
    {
     "data": {
      "text/html": [
       "<pre class=\"language-APL\">  FG                   \n",
       "  DEFG                 \n",
       "  DEFG  FG             \n",
       "  CDEF                 \n",
       "  CDEF  FG             \n",
       "  CDEF  DEFG           \n",
       "  CDEF  DEFG  FG       \n",
       "  ABC                  \n",
       "  ABC  FG              \n",
       "  ABC  DEFG            \n",
       "  ABC  DEFG  FG        \n",
       "  ABC  CDEF            \n",
       "  ABC  CDEF  FG        \n",
       "  ABC  CDEF  DEFG      \n",
       "  ABC  CDEF  DEFG  FG  \n",
       "</pre>"
      ]
     },
     "execution_count": 3,
     "metadata": {},
     "output_type": "execute_result"
    },
    {
     "data": {
      "text/html": [
       "<pre class=\"language-APL\">7\n",
       "</pre>"
      ]
     },
     "execution_count": 3,
     "metadata": {},
     "output_type": "execute_result"
    }
   ],
   "source": [
    "a←'ABC' 'CDEF' 'DEFG' 'FG'\n",
    "⊃∪/a\n",
    "≢⊃∪/a\n",
    "⍪p←a⊂⍤/⍨⍤1⍉2⊥⍣¯1⍳¯1+2*≢a\n",
    "+/(¯1*1+≢¨p)×{≢⊃∩/⍵}¨p"
   ]
  },
  {
   "cell_type": "markdown",
   "id": "29c19efd",
   "metadata": {},
   "source": [
    "To prove that this is true, consider any element $x$ of `⊃∪/a`. Let $b$ be the subset of $a$ which contains only the sets which contain $x$."
   ]
  },
  {
   "cell_type": "code",
   "execution_count": 4,
   "id": "3a12cf20",
   "metadata": {},
   "outputs": [
    {
     "data": {
      "text/html": [
       "<pre class=\"language-APL\"> CDEF  DEFG  FG \n",
       "</pre>"
      ]
     },
     "execution_count": 4,
     "metadata": {},
     "output_type": "execute_result"
    }
   ],
   "source": [
    "⍝ for example\n",
    "x←'F'\n",
    "⊢b←(x∊¨a)/a"
   ]
  },
  {
   "cell_type": "markdown",
   "id": "14b1b204",
   "metadata": {},
   "source": [
    "In the inclusion-exclusion formula, $x$ is counted once for each odd-sized subset of $b$, and uncounted once for every even-sized subset of $b$.Therefore, we have the following for $m$, the number of times $x$ is counted:\n",
    "\n",
    "```\n",
    "t←≢b\n",
    "m←+/(1!t) (-2!t) .. ((¯1*1+t)×t!t)\n",
    "```\n",
    "\n",
    "By the binomial theorem (see [here](./combinations-and-bijective-proofs.md)), we have\n",
    "\n",
    "```\n",
    "0 ←→ (1-1)*t\n",
    "  ←→ +/(0!t)   (-1!t) .. ((¯1*  t)×t!t)\n",
    "  ←→   (0!t)++/(-1!t) .. ((¯1*  t)×t!t)\n",
    "  ←→   (0!t)-+/( 1!t) .. ((¯1*1+t)×t!t)\n",
    "  ←→   (0!t)-m\n",
    "```\n",
    "\n",
    "Since `1 ←→ 0!t`, $m$ must be equal to $1$, so $x$ is counted only once in the inclusion-exclusion formula.\n",
    "\n",
    "### Derangements\n",
    "\n",
    "To see a use of the principle of inclusion and exclusion, let's take a look at another counting problem.\n",
    "\n",
    "A *derangement* is a permutation where no element stays in its original position."
   ]
  },
  {
   "cell_type": "code",
   "execution_count": 5,
   "id": "365310cf",
   "metadata": {},
   "outputs": [
    {
     "data": {
      "text/html": [
       "<pre class=\"language-APL\">0 0 0 0 0\n",
       "</pre>"
      ]
     },
     "execution_count": 5,
     "metadata": {},
     "output_type": "execute_result"
    },
    {
     "data": {
      "text/html": [
       "<pre class=\"language-APL\">0 0 0 1 0\n",
       "</pre>"
      ]
     },
     "execution_count": 5,
     "metadata": {},
     "output_type": "execute_result"
    }
   ],
   "source": [
    "a←1 2 3 4 5\n",
    "b←4 1 2 5 3\n",
    "c←3 1 5 4 2\n",
    "a=b            ⍝ b is a derangement of a, no elements in the same place\n",
    "a=c            ⍝ c is not a derangement of a, 4 is in the same place"
   ]
  },
  {
   "cell_type": "markdown",
   "id": "28b89355",
   "metadata": {},
   "source": [
    "How many derangements are there of $n$ elements?\n",
    "\n",
    "We already know that there are `!n` permutations of $n$ elements. Let $s$ be the set of sets such that `s[k]` is the set of permutations which fix the $k$th object in place. There will be `!n-1` permutations in this set, since one object is no longer free to move."
   ]
  },
  {
   "cell_type": "code",
   "execution_count": 6,
   "id": "6fe1c5e8",
   "metadata": {},
   "outputs": [
    {
     "data": {
      "text/html": [
       "<pre class=\"language-APL\">  1 2 3  1 3 2  \n",
       "  1 2 3  3 2 1  \n",
       "  1 2 3  2 1 3  \n",
       "</pre>"
      ]
     },
     "execution_count": 6,
     "metadata": {},
     "output_type": "execute_result"
    }
   ],
   "source": [
    "⍝ for example\n",
    "n←3\n",
    "s←⍬\n",
    "s,←⊂(1 2 3) (1 3 2)    ⍝ permutations which fix 1\n",
    "s,←⊂(1 2 3) (3 2 1)    ⍝ permutations which fix 2\n",
    "s,←⊂(1 2 3) (2 1 3)    ⍝ permutations which fix 3\n",
    "⍪s"
   ]
  },
  {
   "cell_type": "markdown",
   "id": "f619e45b",
   "metadata": {},
   "source": [
    "The set of derangements of $n$ elements is the set of permutations of $n$ elements, without the union of sets in $s$."
   ]
  },
  {
   "cell_type": "code",
   "execution_count": 7,
   "id": "6f1e52f3",
   "metadata": {},
   "outputs": [
    {
     "data": {
      "text/html": [
       "<pre class=\"language-APL\"> 2 3 1  3 1 2 \n",
       "</pre>"
      ]
     },
     "execution_count": 7,
     "metadata": {},
     "output_type": "execute_result"
    }
   ],
   "source": [
    "p←(1 2 3) (1 3 2) (2 1 3) (2 3 1) (3 1 2) (3 2 1)    ⍝ all permutations of 3 elements\n",
    "p~⊃∪/s    ⍝ derangements of 3 elements"
   ]
  },
  {
   "cell_type": "markdown",
   "id": "43aa8fa7",
   "metadata": {},
   "source": [
    "So, if we want to count the derangements of $n$ elements (and we don't want to generate them all to do it), we would take the number of permutations of $n$ elements (`!n`), and subtract the number of permutations which fix at least one object (`≢⊃∪/s`).\n",
    "\n",
    "The intersection of any $i$ sets in $s$ will fix $i$ objects, and therefore will have `!n-i` elements. There are `i!n` ways to pick $i$ sets from $s$.\n",
    "\n",
    "This gives us all the information we need to use the principle of inclusion and exclusion find `≢⊃∪/s`. Rather than summing over all subsets of $s$, we can group together the subsets into those of the same size. For all $i$, the total size of subsets of $s$ which have size $i$ is `(i!n)×!n-i`.\n",
    "\n",
    "```\n",
    "n←≢s\n",
    "p←s⊂⍤/⍨⍤1⍉2⊥⍣¯1⍳¯1+2*n    ⍝ all nonempty subsets of s\n",
    "≢⊃∪/s ←→ +/(¯1*1+≢¨p)×{≢⊃∩/⍵}¨p\n",
    "      ←→ +/(¯1*1+i)×(i!n)×!n-i←⍳n               ⍝ grouping subsets of the same size\n",
    "                                                ⍝ note that i here is all the possible values for i above in a vector\n",
    "      ←→ +/(¯1*1+i)×((!n)÷(!i)×!n-i)×!n-i←⍳n    ⍝ expanding out the binomial coefficient\n",
    "      ←→ +/(¯1*1+i)×(!n)÷!i←⍳n                  ⍝ !n-i cancels out\n",
    "      ←→ (!n)×+/(¯1*1+i)÷!i←⍳n                  ⍝ factoring out !n\n",
    "```\n",
    "\n",
    "Therefore, the number of derangements of $n$ elements is\n",
    "\n",
    "```\n",
    "(!n)-≢⊃∪/s ←→ (!n)-(!n)×+/(¯1*1+i)÷!i←⍳n\n",
    "           ←→ (!n)×1-+/(¯1*1+i)÷!i←⍳n      ⍝ factor out !n\n",
    "           ←→ (!n)×  +/(¯1*  i)÷!i←0,⍳n    ⍝ the - cancels out the 1+, and we can absorb the 1 into the sum by adding 0, to i\n",
    "           ←→ (!n)×+/(¯1∘*÷!)0,⍳n          ⍝ in tacit form\n",
    "```"
   ]
  },
  {
   "cell_type": "code",
   "execution_count": 8,
   "id": "8df41d61",
   "metadata": {},
   "outputs": [
    {
     "data": {
      "text/html": [
       "<pre class=\"language-APL\">0 1 2 9 44 265 1854 14833 133496 1334961\n",
       "</pre>"
      ]
     },
     "execution_count": 8,
     "metadata": {},
     "output_type": "execute_result"
    }
   ],
   "source": [
    "NDerangements←{(!⍵)×+/(¯1∘*÷!)0,⍳⍵}\n",
    "NDerangements¨⍳10    ⍝ https://oeis.org/A000166"
   ]
  },
  {
   "cell_type": "markdown",
   "id": "13bb6513",
   "metadata": {},
   "source": [
    "```{admonition} Aside\n",
    "The sum in the formula we just derived is actually the Taylor polynomial for $e^{-1}$ (`*¯1`), so we could also write\n",
    "\n",
    "`NDerangements←⌊.5+(*¯1)×!`\n",
    "```\n",
    "\n",
    "## Counting Surjections\n",
    "\n",
    "Now that we're used to the principle of inclusion and exclusion, we're ready to start counting surjections. Returning to our balls in boxes analogy, a surjection $[k]\\to[n]$ is a function which places at least one of the $k$ balls into each of the $n$ boxes. To count surjections, we're going to use a similar method to the one we used to count derangements - we're going to try and count all the functions which are *not* surjections, and subtract that from the total number of functions.\n",
    "\n",
    "Let $a$ be the set of sets of functions $[k]\\to[n]$ (represented as vectors as discussed in the previous sections) such that no function in `a[i]` sends any of its inputs to $i$. That is, `~∨/i∊¨a[i]`. Since each function in `a[i]` 'misses' $i$, `⊃∪/a` is the set of functions which miss any element of `⍳n`, i.e. the set of functions which are not surjections.\n",
    "\n",
    "Since there are no other restrictions on the functions in `a[i]` other than that they cannot send any input to $i$, there are `(n-1)*k` functions in `a[i]`. Likewise, there are `(n-2)*k` in `a[i]∩a[j]` for any different $i$ and $j$, since these functions must miss both $i$ and $j$. In general, for some subset $b$ of $a$, `≢⊃∩/b ←→ (n-≢b)*k`. Just like we did when counting derangements, we can group together subsets of $a$ which are the same size. There are `m!n` subsets of size $m$ in $n$, and there are `(n-m)*k` functions in each of these subsets. Therefore, by applying the principle of inclusion and exclusion we have\n",
    "\n",
    "```\n",
    "≢⊃∪/a ←→ +/(¯1*1+m)×(m!n)×(n-m←⍳n)*k\n",
    "```\n",
    "\n",
    "for the number of non-surjections $[k]\\to[n]$. To find the number of surjections, we just subtract this from the total number of functions $[k]\\to[n]$:\n",
    "\n",
    "```\n",
    "(n*k)-+/(¯1*1+m)×(m!n)×(n-m←  ⍳n)*k\n",
    "   ←→ +/(¯1*  m)×(m!n)×(n-m←0,⍳n)*k \n",
    "```\n",
    "\n",
    "Let's give it a whirl:"
   ]
  },
  {
   "cell_type": "code",
   "execution_count": 9,
   "id": "a78cb950",
   "metadata": {},
   "outputs": [
    {
     "data": {
      "text/html": [
       "<pre class=\"language-APL\">14\n",
       "</pre>"
      ]
     },
     "execution_count": 9,
     "metadata": {},
     "output_type": "execute_result"
    }
   ],
   "source": [
    "Surj←{k n←⍺ ⍵\n",
    "    m←0,⍳n\n",
    "    +/(¯1*m)×(m!n)×(n-m)*k\n",
    "}\n",
    "\n",
    "⍝ there are 2*4 ←→ 16 functions from ⍳4 to ⍳2\n",
    "⍝ only two of these are not surjections: 1 1 1 1 and 2 2 2 2\n",
    "⍝ 16-2 ←→ 14\n",
    "4 Surj 2"
   ]
  },
  {
   "cell_type": "markdown",
   "id": "244f816c",
   "metadata": {},
   "source": [
    "## Counting Set Partitions\n",
    "\n",
    "In our balls and boxes analogy, the surjections we just counted are placing *labelled* balls into *labelled* boxes. If we unlabel the boxes, we we're solving the counting problem of *set partitions*, that is, ways to partition our set of $k$ balls (or any set of size $k$) into $n$ pieces. since the boxes (the partitions) are unlabelled we don't care about their order.\n",
    "\n",
    "```\n",
    "⍝ original set\n",
    "'🍎🍌🍊🍐🍇'\n",
    "\n",
    "⍝ partitions into three pieces\n",
    "'🍎🍌🍊'  '🍐'    '🍇'    ⍝ same as '🍎🍌🍊' '🍇' '🍐', we don't care about order of partitions\n",
    "'🍎🍌🍐'  '🍊'    '🍇'    ⍝ same as '🍌🍎🍐' '🍊' '🍇', we don't care about order within a partition\n",
    "'🍎🍌'   '🍊🍐'   '🍇'\n",
    "'🍎🍌🍇'  '🍊'    '🍐'\n",
    "'🍎🍌'   '🍊🍇'   '🍐'\n",
    "⍝ and so on\n",
    "```\n",
    "\n",
    "Since the only difference between counting partitions and counting surjections is the labelling of the boxes, it's very easy to derive a formula for the number of set partitions for a given $k$ and $n$. There are `!n` ways to label the $n$ boxes, so we just need to divide the number of surjections by `!n` to find the number of set partitions. The resulting numbers are the *Stirling numbers of the second kind*[^stirling].\n",
    "\n",
    "[^stirling]: The Stirling numbers of the *first* kind count the number of permutations of $n$ elements with $k$ cycles."
   ]
  },
  {
   "cell_type": "code",
   "execution_count": 10,
   "id": "ccc0f525",
   "metadata": {},
   "outputs": [
    {
     "data": {
      "text/html": [
       "<pre class=\"language-APL\">25\n",
       "</pre>"
      ]
     },
     "execution_count": 10,
     "metadata": {},
     "output_type": "execute_result"
    }
   ],
   "source": [
    "Stirling←{k n←⍺ ⍵\n",
    "    (k Surj n)÷!n\n",
    "}\n",
    "\n",
    "⍝ there are 25 ways to partition a 5-element set into 3 pieces\n",
    "5 Stirling 3"
   ]
  },
  {
   "cell_type": "markdown",
   "id": "0cf867b6",
   "metadata": {},
   "source": [
    "In traditional mathematical notation, `k Stirling n` is often written\n",
    "\n",
    "$$n\\brace k$$\n",
    "\n",
    "Just as we did with binomial coefficients, we can arrange the Stirling numbers in a triangle."
   ]
  },
  {
   "cell_type": "code",
   "execution_count": 11,
   "id": "e0a7f741",
   "metadata": {},
   "outputs": [
    {
     "data": {
      "text/html": [
       "<pre class=\"language-APL\">1  0   0   0   0  0 0\n",
       "1  1   0   0   0  0 0\n",
       "1  3   1   0   0  0 0\n",
       "1  7   6   1   0  0 0\n",
       "1 15  25  10   1  0 0\n",
       "1 31  90  65  15  1 0\n",
       "1 63 301 350 140 21 1\n",
       "</pre>"
      ]
     },
     "execution_count": 11,
     "metadata": {},
     "output_type": "execute_result"
    }
   ],
   "source": [
    "∘.Stirling⍨⍳7"
   ]
  },
  {
   "cell_type": "markdown",
   "id": "4091f1b8",
   "metadata": {},
   "source": [
    "Each $k$th row of this triangle represents the number of ways to partition a $k$ element set into $1,2,\\ldots,n$ pieces. Therefore, summing along the rows gives the number of ways to partition a $k$ element set into any number of pieces."
   ]
  },
  {
   "cell_type": "code",
   "execution_count": 12,
   "id": "7aeb0187",
   "metadata": {},
   "outputs": [
    {
     "data": {
      "text/html": [
       "<pre class=\"language-APL\">1 2 5 15 52 203 877\n",
       "</pre>"
      ]
     },
     "execution_count": 12,
     "metadata": {},
     "output_type": "execute_result"
    }
   ],
   "source": [
    "+/∘.Stirling⍨⍳7    ⍝ https://oeis.org/A000110"
   ]
  },
  {
   "cell_type": "markdown",
   "id": "f7ac180a",
   "metadata": {},
   "source": [
    "These are the *Bell numbers*.\n",
    "\n",
    "The Stirling number for any `k<n` is $0$. You can interpret this as there not being enough balls to fill all the boxes. So we know we don't need to count any Stirling numbers with `k<n` when calculating the Bell numbers."
   ]
  },
  {
   "cell_type": "code",
   "execution_count": 13,
   "id": "1f80ada5",
   "metadata": {},
   "outputs": [],
   "source": [
    "Bell←{+/k Stirling¨⍳k←⍵}    ⍝ or +/Stirling¨∘⍳⍨ if you prefer tacit"
   ]
  },
  {
   "cell_type": "markdown",
   "id": "4aea72ca",
   "metadata": {},
   "source": [
    "```{important}\n",
    "- The principle of inclusion and exclusion says that, for some set of subsets $a$, `≢⊃∪/a ←→ +/(¯1*1+≢¨p)×{≢⊃∩/⍵}¨p`, where $p$ is the powerset of $a$.\n",
    "- There are `+/(¯1*m)×(m!n)×(n-m←0,⍳n)*k` surjective functions of type $[k]\\to[n]$.\n",
    "- There are `(k Surj n)÷!n` ways to partition a $k$-element set into $n$ pieces. These are the *Stirling numbers of the second kind*.\n",
    "- There are `+/k Stirling¨⍳k` ways to partition a $k$-element set into any number of pieces. These are the *Bell numbers*.\n",
    "```"
   ]
  }
 ],
 "metadata": {
  "jupytext": {
   "formats": "md:myst",
   "text_representation": {
    "extension": ".md",
    "format_name": "myst",
    "format_version": 0.13,
    "jupytext_version": "1.11.5"
   }
  },
  "kernelspec": {
   "display_name": "Dyalog APL",
   "language": "Dyalog APL",
   "name": "dyalog_apl"
  },
  "language_info": {
   "file_extension": ".apl",
   "mimetype": "text/apl",
   "name": "APL"
  },
  "source_map": [
   13,
   17,
   19,
   27,
   32,
   73,
   79,
   83,
   87,
   114,
   120,
   126,
   134,
   138,
   141,
   169,
   172,
   201,
   211,
   234,
   241,
   249,
   251,
   255,
   257,
   263,
   265
  ]
 },
 "nbformat": 4,
 "nbformat_minor": 5
}